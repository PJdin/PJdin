{
  "cells": [
    {
      "cell_type": "markdown",
      "metadata": {
        "id": "view-in-github",
        "colab_type": "text"
      },
      "source": [
        "<a href=\"https://colab.research.google.com/github/PJdin/PJdin/blob/main/AIDL_220318_.ipynb\" target=\"_parent\"><img src=\"https://colab.research.google.com/assets/colab-badge.svg\" alt=\"Open In Colab\"/></a>"
      ]
    },
    {
      "cell_type": "markdown",
      "metadata": {
        "id": "L42Q-jmklQNN"
      },
      "source": [
        "# Configuring pandas"
      ]
    },
    {
      "cell_type": "code",
      "execution_count": 2,
      "metadata": {
        "collapsed": true,
        "id": "vaDJlR-ylQNT"
      },
      "outputs": [],
      "source": [
        "#匯出numpy 和pandas\n",
        "# import numpy and pandas\n",
        "import numpy as np\n",
        "import pandas as pd\n",
        "\n",
        "# used for dates\n",
        "import datetime\n",
        "from datetime import datetime, date\n",
        "\n",
        "# Set some pandas options controlling output format\n",
        "pd.set_option('display.notebook_repr_html', False)\n",
        "pd.set_option('display.max_columns', 8)\n",
        "pd.set_option('display.max_rows', 10)\n",
        "pd.set_option('display.width', 90)\n",
        "\n",
        "# bring in matplotlib for graphics\n",
        "import matplotlib.pyplot as plt\n",
        "%matplotlib inline"
      ]
    },
    {
      "cell_type": "code",
      "execution_count": 43,
      "metadata": {
        "scrolled": true,
        "id": "SQEOJecwlQNV",
        "outputId": "325a5c89-b217-4789-ae55-81f84908a534",
        "colab": {
          "base_uri": "https://localhost:8080/"
        }
      },
      "outputs": [
        {
          "output_type": "stream",
          "name": "stdout",
          "text": [
            "Date,Open,High,Low,Close,Volume\n",
            "7/21/2014,83.46,83.53,81.81,81.93,2359300\n",
            "7/18/2014,83.3,83.4,82.52,83.35,4020800\n",
            "7/17/2014,84.35,84.63,83.33,83.63,1974000\n",
            "7/16/2014,83.77,84.91,83.66,84.91,1755600\n"
          ]
        }
      ],
      "source": [
        "#查看msft.scv前五行 先執行下面的wget 不然會找不到\n",
        "# view the first five lines of data/msft.csv\n",
        "!head -n 5 ./msft.csv # mac or Linux\n",
        "# type data/msft.csv # on windows, but shows the entire file"
      ]
    },
    {
      "cell_type": "markdown",
      "metadata": {
        "id": "ZkCJ9RoHlQNW"
      },
      "source": [
        "# Reading a CSV into a DataFrame"
      ]
    },
    {
      "cell_type": "code",
      "source": [
        "#先將github的msft.csv資料抓下來\n",
        "!wget https://raw.githubusercontent.com/PacktPublishing/Learning-Pandas-Second-Edition/master/data/msft.csv"
      ],
      "metadata": {
        "id": "xKwMajczlgDG",
        "outputId": "74f2bdc2-49fe-436b-dbaf-1fd1d23b043f",
        "colab": {
          "base_uri": "https://localhost:8080/"
        }
      },
      "execution_count": 4,
      "outputs": [
        {
          "output_type": "stream",
          "name": "stdout",
          "text": [
            "--2022-03-18 06:51:36--  https://raw.githubusercontent.com/PacktPublishing/Learning-Pandas-Second-Edition/master/data/msft.csv\n",
            "Resolving raw.githubusercontent.com (raw.githubusercontent.com)... 185.199.111.133, 185.199.108.133, 185.199.109.133, ...\n",
            "Connecting to raw.githubusercontent.com (raw.githubusercontent.com)|185.199.111.133|:443... connected.\n",
            "HTTP request sent, awaiting response... 200 OK\n",
            "Length: 153109 (150K) [text/plain]\n",
            "Saving to: ‘msft.csv’\n",
            "\n",
            "\rmsft.csv              0%[                    ]       0  --.-KB/s               \rmsft.csv            100%[===================>] 149.52K  --.-KB/s    in 0.008s  \n",
            "\n",
            "2022-03-18 06:51:36 (17.3 MB/s) - ‘msft.csv’ saved [153109/153109]\n",
            "\n"
          ]
        }
      ]
    },
    {
      "cell_type": "code",
      "source": [
        "#查看一下\n",
        "!head -n 5 msft.csv "
      ],
      "metadata": {
        "id": "3pGEYbuXlrpp",
        "outputId": "6010d16b-e879-4c1e-f392-cbfeef480904",
        "colab": {
          "base_uri": "https://localhost:8080/"
        }
      },
      "execution_count": 5,
      "outputs": [
        {
          "output_type": "stream",
          "name": "stdout",
          "text": [
            "Date,Open,High,Low,Close,Volume\n",
            "7/21/2014,83.46,83.53,81.81,81.93,2359300\n",
            "7/18/2014,83.3,83.4,82.52,83.35,4020800\n",
            "7/17/2014,84.35,84.63,83.33,83.63,1974000\n",
            "7/16/2014,83.77,84.91,83.66,84.91,1755600\n"
          ]
        }
      ]
    },
    {
      "cell_type": "code",
      "execution_count": 6,
      "metadata": {
        "id": "x5ALlVAUlQNW",
        "outputId": "c4fac552-d795-4f2d-ee3e-40a7de9e9710",
        "colab": {
          "base_uri": "https://localhost:8080/",
          "height": 49
        }
      },
      "outputs": [
        {
          "output_type": "execute_result",
          "data": {
            "text/plain": [
              "        Date   Open   High    Low  Close   Volume\n",
              "0  7/21/2014  83.46  83.53  81.81  81.93  2359300\n",
              "1  7/18/2014  83.30  83.40  82.52  83.35  4020800\n",
              "2  7/17/2014  84.35  84.63  83.33  83.63  1974000\n",
              "3  7/16/2014  83.77  84.91  83.66  84.91  1755600\n",
              "4  7/15/2014  84.30  84.38  83.20  83.58  1874700"
            ],
            "text/html": [
              "\n",
              "  <div id=\"df-bbfaede6-4847-425b-ae69-81e45b68a881\">\n",
              "    <div class=\"colab-df-container\">\n",
              "      None\n",
              "      <button class=\"colab-df-convert\" onclick=\"convertToInteractive('df-bbfaede6-4847-425b-ae69-81e45b68a881')\"\n",
              "              title=\"Convert this dataframe to an interactive table.\"\n",
              "              style=\"display:none;\">\n",
              "        \n",
              "  <svg xmlns=\"http://www.w3.org/2000/svg\" height=\"24px\"viewBox=\"0 0 24 24\"\n",
              "       width=\"24px\">\n",
              "    <path d=\"M0 0h24v24H0V0z\" fill=\"none\"/>\n",
              "    <path d=\"M18.56 5.44l.94 2.06.94-2.06 2.06-.94-2.06-.94-.94-2.06-.94 2.06-2.06.94zm-11 1L8.5 8.5l.94-2.06 2.06-.94-2.06-.94L8.5 2.5l-.94 2.06-2.06.94zm10 10l.94 2.06.94-2.06 2.06-.94-2.06-.94-.94-2.06-.94 2.06-2.06.94z\"/><path d=\"M17.41 7.96l-1.37-1.37c-.4-.4-.92-.59-1.43-.59-.52 0-1.04.2-1.43.59L10.3 9.45l-7.72 7.72c-.78.78-.78 2.05 0 2.83L4 21.41c.39.39.9.59 1.41.59.51 0 1.02-.2 1.41-.59l7.78-7.78 2.81-2.81c.8-.78.8-2.07 0-2.86zM5.41 20L4 18.59l7.72-7.72 1.47 1.35L5.41 20z\"/>\n",
              "  </svg>\n",
              "      </button>\n",
              "      \n",
              "  <style>\n",
              "    .colab-df-container {\n",
              "      display:flex;\n",
              "      flex-wrap:wrap;\n",
              "      gap: 12px;\n",
              "    }\n",
              "\n",
              "    .colab-df-convert {\n",
              "      background-color: #E8F0FE;\n",
              "      border: none;\n",
              "      border-radius: 50%;\n",
              "      cursor: pointer;\n",
              "      display: none;\n",
              "      fill: #1967D2;\n",
              "      height: 32px;\n",
              "      padding: 0 0 0 0;\n",
              "      width: 32px;\n",
              "    }\n",
              "\n",
              "    .colab-df-convert:hover {\n",
              "      background-color: #E2EBFA;\n",
              "      box-shadow: 0px 1px 2px rgba(60, 64, 67, 0.3), 0px 1px 3px 1px rgba(60, 64, 67, 0.15);\n",
              "      fill: #174EA6;\n",
              "    }\n",
              "\n",
              "    [theme=dark] .colab-df-convert {\n",
              "      background-color: #3B4455;\n",
              "      fill: #D2E3FC;\n",
              "    }\n",
              "\n",
              "    [theme=dark] .colab-df-convert:hover {\n",
              "      background-color: #434B5C;\n",
              "      box-shadow: 0px 1px 3px 1px rgba(0, 0, 0, 0.15);\n",
              "      filter: drop-shadow(0px 1px 2px rgba(0, 0, 0, 0.3));\n",
              "      fill: #FFFFFF;\n",
              "    }\n",
              "  </style>\n",
              "\n",
              "      <script>\n",
              "        const buttonEl =\n",
              "          document.querySelector('#df-bbfaede6-4847-425b-ae69-81e45b68a881 button.colab-df-convert');\n",
              "        buttonEl.style.display =\n",
              "          google.colab.kernel.accessAllowed ? 'block' : 'none';\n",
              "\n",
              "        async function convertToInteractive(key) {\n",
              "          const element = document.querySelector('#df-bbfaede6-4847-425b-ae69-81e45b68a881');\n",
              "          const dataTable =\n",
              "            await google.colab.kernel.invokeFunction('convertToInteractive',\n",
              "                                                     [key], {});\n",
              "          if (!dataTable) return;\n",
              "\n",
              "          const docLinkHtml = 'Like what you see? Visit the ' +\n",
              "            '<a target=\"_blank\" href=https://colab.research.google.com/notebooks/data_table.ipynb>data table notebook</a>'\n",
              "            + ' to learn more about interactive tables.';\n",
              "          element.innerHTML = '';\n",
              "          dataTable['output_type'] = 'display_data';\n",
              "          await google.colab.output.renderOutput(dataTable, element);\n",
              "          const docLink = document.createElement('div');\n",
              "          docLink.innerHTML = docLinkHtml;\n",
              "          element.appendChild(docLink);\n",
              "        }\n",
              "      </script>\n",
              "    </div>\n",
              "  </div>\n",
              "  "
            ]
          },
          "metadata": {},
          "execution_count": 6
        }
      ],
      "source": [
        "#讀取csv檔案 輸出前五筆\n",
        "# read in msft.csv into a DataFrame\n",
        "msft = pd.read_csv(\"./msft.csv\")\n",
        "msft[:5]"
      ]
    },
    {
      "cell_type": "markdown",
      "metadata": {
        "id": "LHiXzWTElQNX"
      },
      "source": [
        "# Specifying the index column when reading a CSV file"
      ]
    },
    {
      "cell_type": "code",
      "execution_count": 7,
      "metadata": {
        "id": "p_FvjBaTlQNX",
        "outputId": "4b9b343b-ff23-4011-e71e-983ad1009544",
        "colab": {
          "base_uri": "https://localhost:8080/",
          "height": 205
        }
      },
      "outputs": [
        {
          "output_type": "execute_result",
          "data": {
            "text/plain": [
              "            Open   High    Low  Close   Volume\n",
              "Date                                          \n",
              "7/21/2014  83.46  83.53  81.81  81.93  2359300\n",
              "7/18/2014  83.30  83.40  82.52  83.35  4020800\n",
              "7/17/2014  84.35  84.63  83.33  83.63  1974000\n",
              "7/16/2014  83.77  84.91  83.66  84.91  1755600\n",
              "7/15/2014  84.30  84.38  83.20  83.58  1874700"
            ],
            "text/html": [
              "\n",
              "  <div id=\"df-2119c678-db79-48f6-b085-26dcef0a92b6\">\n",
              "    <div class=\"colab-df-container\">\n",
              "      None\n",
              "      <button class=\"colab-df-convert\" onclick=\"convertToInteractive('df-2119c678-db79-48f6-b085-26dcef0a92b6')\"\n",
              "              title=\"Convert this dataframe to an interactive table.\"\n",
              "              style=\"display:none;\">\n",
              "        \n",
              "  <svg xmlns=\"http://www.w3.org/2000/svg\" height=\"24px\"viewBox=\"0 0 24 24\"\n",
              "       width=\"24px\">\n",
              "    <path d=\"M0 0h24v24H0V0z\" fill=\"none\"/>\n",
              "    <path d=\"M18.56 5.44l.94 2.06.94-2.06 2.06-.94-2.06-.94-.94-2.06-.94 2.06-2.06.94zm-11 1L8.5 8.5l.94-2.06 2.06-.94-2.06-.94L8.5 2.5l-.94 2.06-2.06.94zm10 10l.94 2.06.94-2.06 2.06-.94-2.06-.94-.94-2.06-.94 2.06-2.06.94z\"/><path d=\"M17.41 7.96l-1.37-1.37c-.4-.4-.92-.59-1.43-.59-.52 0-1.04.2-1.43.59L10.3 9.45l-7.72 7.72c-.78.78-.78 2.05 0 2.83L4 21.41c.39.39.9.59 1.41.59.51 0 1.02-.2 1.41-.59l7.78-7.78 2.81-2.81c.8-.78.8-2.07 0-2.86zM5.41 20L4 18.59l7.72-7.72 1.47 1.35L5.41 20z\"/>\n",
              "  </svg>\n",
              "      </button>\n",
              "      \n",
              "  <style>\n",
              "    .colab-df-container {\n",
              "      display:flex;\n",
              "      flex-wrap:wrap;\n",
              "      gap: 12px;\n",
              "    }\n",
              "\n",
              "    .colab-df-convert {\n",
              "      background-color: #E8F0FE;\n",
              "      border: none;\n",
              "      border-radius: 50%;\n",
              "      cursor: pointer;\n",
              "      display: none;\n",
              "      fill: #1967D2;\n",
              "      height: 32px;\n",
              "      padding: 0 0 0 0;\n",
              "      width: 32px;\n",
              "    }\n",
              "\n",
              "    .colab-df-convert:hover {\n",
              "      background-color: #E2EBFA;\n",
              "      box-shadow: 0px 1px 2px rgba(60, 64, 67, 0.3), 0px 1px 3px 1px rgba(60, 64, 67, 0.15);\n",
              "      fill: #174EA6;\n",
              "    }\n",
              "\n",
              "    [theme=dark] .colab-df-convert {\n",
              "      background-color: #3B4455;\n",
              "      fill: #D2E3FC;\n",
              "    }\n",
              "\n",
              "    [theme=dark] .colab-df-convert:hover {\n",
              "      background-color: #434B5C;\n",
              "      box-shadow: 0px 1px 3px 1px rgba(0, 0, 0, 0.15);\n",
              "      filter: drop-shadow(0px 1px 2px rgba(0, 0, 0, 0.3));\n",
              "      fill: #FFFFFF;\n",
              "    }\n",
              "  </style>\n",
              "\n",
              "      <script>\n",
              "        const buttonEl =\n",
              "          document.querySelector('#df-2119c678-db79-48f6-b085-26dcef0a92b6 button.colab-df-convert');\n",
              "        buttonEl.style.display =\n",
              "          google.colab.kernel.accessAllowed ? 'block' : 'none';\n",
              "\n",
              "        async function convertToInteractive(key) {\n",
              "          const element = document.querySelector('#df-2119c678-db79-48f6-b085-26dcef0a92b6');\n",
              "          const dataTable =\n",
              "            await google.colab.kernel.invokeFunction('convertToInteractive',\n",
              "                                                     [key], {});\n",
              "          if (!dataTable) return;\n",
              "\n",
              "          const docLinkHtml = 'Like what you see? Visit the ' +\n",
              "            '<a target=\"_blank\" href=https://colab.research.google.com/notebooks/data_table.ipynb>data table notebook</a>'\n",
              "            + ' to learn more about interactive tables.';\n",
              "          element.innerHTML = '';\n",
              "          dataTable['output_type'] = 'display_data';\n",
              "          await google.colab.output.renderOutput(dataTable, element);\n",
              "          const docLink = document.createElement('div');\n",
              "          docLink.innerHTML = docLinkHtml;\n",
              "          element.appendChild(docLink);\n",
              "        }\n",
              "      </script>\n",
              "    </div>\n",
              "  </div>\n",
              "  "
            ]
          },
          "metadata": {},
          "execution_count": 7
        }
      ],
      "source": [
        "# 指定索引列0 輸出前五筆\n",
        "# use column 0 as the index\n",
        "msft = pd.read_csv(\"./msft.csv\", index_col=0)\n",
        "msft[:5]"
      ]
    },
    {
      "cell_type": "markdown",
      "metadata": {
        "id": "48SxfAVBlQNY"
      },
      "source": [
        "# Data type inference and specification"
      ]
    },
    {
      "cell_type": "code",
      "execution_count": 8,
      "metadata": {
        "id": "TX7Rg-i9lQNY",
        "outputId": "4c7d4e90-d75d-4eb4-adea-a8eabd966fa1",
        "colab": {
          "base_uri": "https://localhost:8080/"
        }
      },
      "outputs": [
        {
          "output_type": "execute_result",
          "data": {
            "text/plain": [
              "Open      float64\n",
              "High      float64\n",
              "Low       float64\n",
              "Close     float64\n",
              "Volume      int64\n",
              "dtype: object"
            ]
          },
          "metadata": {},
          "execution_count": 8
        }
      ],
      "source": [
        "#查看類型\n",
        "# examine the types of the columns in this DataFrame\n",
        "msft.dtypes"
      ]
    },
    {
      "cell_type": "code",
      "execution_count": 9,
      "metadata": {
        "id": "2EaiC-rKlQNZ",
        "outputId": "656717de-0200-4254-a98a-718013c446df",
        "colab": {
          "base_uri": "https://localhost:8080/"
        }
      },
      "outputs": [
        {
          "output_type": "execute_result",
          "data": {
            "text/plain": [
              "Date       object\n",
              "Open      float64\n",
              "High      float64\n",
              "Low       float64\n",
              "Close     float64\n",
              "Volume    float64\n",
              "dtype: object"
            ]
          },
          "metadata": {},
          "execution_count": 9
        }
      ],
      "source": [
        "#指定volume為float64\n",
        "# specify that the Volume column should be a float64\n",
        "msft = pd.read_csv(\"./msft.csv\", \n",
        "                   dtype = { 'Volume' : np.float64})\n",
        "msft.dtypes"
      ]
    },
    {
      "cell_type": "markdown",
      "metadata": {
        "id": "XTll8NGylQNZ"
      },
      "source": [
        "# Specifying column names"
      ]
    },
    {
      "cell_type": "code",
      "execution_count": 10,
      "metadata": {
        "id": "KON6-c8vlQNa",
        "colab": {
          "base_uri": "https://localhost:8080/",
          "height": 49
        },
        "outputId": "4bb24dba-cfc4-448b-f736-1758b9c390b7"
      },
      "outputs": [
        {
          "output_type": "execute_result",
          "data": {
            "text/plain": [
              "        date   open   high    low  close   volume\n",
              "0  7/21/2014  83.46  83.53  81.81  81.93  2359300\n",
              "1  7/18/2014  83.30  83.40  82.52  83.35  4020800\n",
              "2  7/17/2014  84.35  84.63  83.33  83.63  1974000\n",
              "3  7/16/2014  83.77  84.91  83.66  84.91  1755600\n",
              "4  7/15/2014  84.30  84.38  83.20  83.58  1874700"
            ],
            "text/html": [
              "\n",
              "  <div id=\"df-40ef18f2-d4a4-46c4-9f6b-f4504b09f14b\">\n",
              "    <div class=\"colab-df-container\">\n",
              "      None\n",
              "      <button class=\"colab-df-convert\" onclick=\"convertToInteractive('df-40ef18f2-d4a4-46c4-9f6b-f4504b09f14b')\"\n",
              "              title=\"Convert this dataframe to an interactive table.\"\n",
              "              style=\"display:none;\">\n",
              "        \n",
              "  <svg xmlns=\"http://www.w3.org/2000/svg\" height=\"24px\"viewBox=\"0 0 24 24\"\n",
              "       width=\"24px\">\n",
              "    <path d=\"M0 0h24v24H0V0z\" fill=\"none\"/>\n",
              "    <path d=\"M18.56 5.44l.94 2.06.94-2.06 2.06-.94-2.06-.94-.94-2.06-.94 2.06-2.06.94zm-11 1L8.5 8.5l.94-2.06 2.06-.94-2.06-.94L8.5 2.5l-.94 2.06-2.06.94zm10 10l.94 2.06.94-2.06 2.06-.94-2.06-.94-.94-2.06-.94 2.06-2.06.94z\"/><path d=\"M17.41 7.96l-1.37-1.37c-.4-.4-.92-.59-1.43-.59-.52 0-1.04.2-1.43.59L10.3 9.45l-7.72 7.72c-.78.78-.78 2.05 0 2.83L4 21.41c.39.39.9.59 1.41.59.51 0 1.02-.2 1.41-.59l7.78-7.78 2.81-2.81c.8-.78.8-2.07 0-2.86zM5.41 20L4 18.59l7.72-7.72 1.47 1.35L5.41 20z\"/>\n",
              "  </svg>\n",
              "      </button>\n",
              "      \n",
              "  <style>\n",
              "    .colab-df-container {\n",
              "      display:flex;\n",
              "      flex-wrap:wrap;\n",
              "      gap: 12px;\n",
              "    }\n",
              "\n",
              "    .colab-df-convert {\n",
              "      background-color: #E8F0FE;\n",
              "      border: none;\n",
              "      border-radius: 50%;\n",
              "      cursor: pointer;\n",
              "      display: none;\n",
              "      fill: #1967D2;\n",
              "      height: 32px;\n",
              "      padding: 0 0 0 0;\n",
              "      width: 32px;\n",
              "    }\n",
              "\n",
              "    .colab-df-convert:hover {\n",
              "      background-color: #E2EBFA;\n",
              "      box-shadow: 0px 1px 2px rgba(60, 64, 67, 0.3), 0px 1px 3px 1px rgba(60, 64, 67, 0.15);\n",
              "      fill: #174EA6;\n",
              "    }\n",
              "\n",
              "    [theme=dark] .colab-df-convert {\n",
              "      background-color: #3B4455;\n",
              "      fill: #D2E3FC;\n",
              "    }\n",
              "\n",
              "    [theme=dark] .colab-df-convert:hover {\n",
              "      background-color: #434B5C;\n",
              "      box-shadow: 0px 1px 3px 1px rgba(0, 0, 0, 0.15);\n",
              "      filter: drop-shadow(0px 1px 2px rgba(0, 0, 0, 0.3));\n",
              "      fill: #FFFFFF;\n",
              "    }\n",
              "  </style>\n",
              "\n",
              "      <script>\n",
              "        const buttonEl =\n",
              "          document.querySelector('#df-40ef18f2-d4a4-46c4-9f6b-f4504b09f14b button.colab-df-convert');\n",
              "        buttonEl.style.display =\n",
              "          google.colab.kernel.accessAllowed ? 'block' : 'none';\n",
              "\n",
              "        async function convertToInteractive(key) {\n",
              "          const element = document.querySelector('#df-40ef18f2-d4a4-46c4-9f6b-f4504b09f14b');\n",
              "          const dataTable =\n",
              "            await google.colab.kernel.invokeFunction('convertToInteractive',\n",
              "                                                     [key], {});\n",
              "          if (!dataTable) return;\n",
              "\n",
              "          const docLinkHtml = 'Like what you see? Visit the ' +\n",
              "            '<a target=\"_blank\" href=https://colab.research.google.com/notebooks/data_table.ipynb>data table notebook</a>'\n",
              "            + ' to learn more about interactive tables.';\n",
              "          element.innerHTML = '';\n",
              "          dataTable['output_type'] = 'display_data';\n",
              "          await google.colab.output.renderOutput(dataTable, element);\n",
              "          const docLink = document.createElement('div');\n",
              "          docLink.innerHTML = docLinkHtml;\n",
              "          element.appendChild(docLink);\n",
              "        }\n",
              "      </script>\n",
              "    </div>\n",
              "  </div>\n",
              "  "
            ]
          },
          "metadata": {},
          "execution_count": 10
        }
      ],
      "source": [
        "#給予標題列 並輸出前五筆\n",
        "# specify a new set of names for the columns\n",
        "# all lower case, remove space in Adj Close\n",
        "# also, header=0 skips the header row\n",
        "df = pd.read_csv(\"./msft.csv\", \n",
        "                 header=0,\n",
        "                 names=['date', 'open', 'high', 'low', \n",
        "                        'close', 'volume'])\n",
        "df[:5]"
      ]
    },
    {
      "cell_type": "markdown",
      "metadata": {
        "id": "B4l5MpHklQNa"
      },
      "source": [
        "# Specifying specific columns to load"
      ]
    },
    {
      "cell_type": "code",
      "execution_count": 11,
      "metadata": {
        "id": "uDAv-rKPlQNb",
        "outputId": "e505685b-1d62-4f49-db2b-41425b45e29e",
        "colab": {
          "base_uri": "https://localhost:8080/",
          "height": 205
        }
      },
      "outputs": [
        {
          "output_type": "execute_result",
          "data": {
            "text/plain": [
              "           Close\n",
              "Date            \n",
              "7/21/2014  81.93\n",
              "7/18/2014  83.35\n",
              "7/17/2014  83.63\n",
              "7/16/2014  84.91\n",
              "7/15/2014  83.58"
            ],
            "text/html": [
              "\n",
              "  <div id=\"df-f64c0cfe-ebd1-4aec-a913-82caa92e77c1\">\n",
              "    <div class=\"colab-df-container\">\n",
              "      None\n",
              "      <button class=\"colab-df-convert\" onclick=\"convertToInteractive('df-f64c0cfe-ebd1-4aec-a913-82caa92e77c1')\"\n",
              "              title=\"Convert this dataframe to an interactive table.\"\n",
              "              style=\"display:none;\">\n",
              "        \n",
              "  <svg xmlns=\"http://www.w3.org/2000/svg\" height=\"24px\"viewBox=\"0 0 24 24\"\n",
              "       width=\"24px\">\n",
              "    <path d=\"M0 0h24v24H0V0z\" fill=\"none\"/>\n",
              "    <path d=\"M18.56 5.44l.94 2.06.94-2.06 2.06-.94-2.06-.94-.94-2.06-.94 2.06-2.06.94zm-11 1L8.5 8.5l.94-2.06 2.06-.94-2.06-.94L8.5 2.5l-.94 2.06-2.06.94zm10 10l.94 2.06.94-2.06 2.06-.94-2.06-.94-.94-2.06-.94 2.06-2.06.94z\"/><path d=\"M17.41 7.96l-1.37-1.37c-.4-.4-.92-.59-1.43-.59-.52 0-1.04.2-1.43.59L10.3 9.45l-7.72 7.72c-.78.78-.78 2.05 0 2.83L4 21.41c.39.39.9.59 1.41.59.51 0 1.02-.2 1.41-.59l7.78-7.78 2.81-2.81c.8-.78.8-2.07 0-2.86zM5.41 20L4 18.59l7.72-7.72 1.47 1.35L5.41 20z\"/>\n",
              "  </svg>\n",
              "      </button>\n",
              "      \n",
              "  <style>\n",
              "    .colab-df-container {\n",
              "      display:flex;\n",
              "      flex-wrap:wrap;\n",
              "      gap: 12px;\n",
              "    }\n",
              "\n",
              "    .colab-df-convert {\n",
              "      background-color: #E8F0FE;\n",
              "      border: none;\n",
              "      border-radius: 50%;\n",
              "      cursor: pointer;\n",
              "      display: none;\n",
              "      fill: #1967D2;\n",
              "      height: 32px;\n",
              "      padding: 0 0 0 0;\n",
              "      width: 32px;\n",
              "    }\n",
              "\n",
              "    .colab-df-convert:hover {\n",
              "      background-color: #E2EBFA;\n",
              "      box-shadow: 0px 1px 2px rgba(60, 64, 67, 0.3), 0px 1px 3px 1px rgba(60, 64, 67, 0.15);\n",
              "      fill: #174EA6;\n",
              "    }\n",
              "\n",
              "    [theme=dark] .colab-df-convert {\n",
              "      background-color: #3B4455;\n",
              "      fill: #D2E3FC;\n",
              "    }\n",
              "\n",
              "    [theme=dark] .colab-df-convert:hover {\n",
              "      background-color: #434B5C;\n",
              "      box-shadow: 0px 1px 3px 1px rgba(0, 0, 0, 0.15);\n",
              "      filter: drop-shadow(0px 1px 2px rgba(0, 0, 0, 0.3));\n",
              "      fill: #FFFFFF;\n",
              "    }\n",
              "  </style>\n",
              "\n",
              "      <script>\n",
              "        const buttonEl =\n",
              "          document.querySelector('#df-f64c0cfe-ebd1-4aec-a913-82caa92e77c1 button.colab-df-convert');\n",
              "        buttonEl.style.display =\n",
              "          google.colab.kernel.accessAllowed ? 'block' : 'none';\n",
              "\n",
              "        async function convertToInteractive(key) {\n",
              "          const element = document.querySelector('#df-f64c0cfe-ebd1-4aec-a913-82caa92e77c1');\n",
              "          const dataTable =\n",
              "            await google.colab.kernel.invokeFunction('convertToInteractive',\n",
              "                                                     [key], {});\n",
              "          if (!dataTable) return;\n",
              "\n",
              "          const docLinkHtml = 'Like what you see? Visit the ' +\n",
              "            '<a target=\"_blank\" href=https://colab.research.google.com/notebooks/data_table.ipynb>data table notebook</a>'\n",
              "            + ' to learn more about interactive tables.';\n",
              "          element.innerHTML = '';\n",
              "          dataTable['output_type'] = 'display_data';\n",
              "          await google.colab.output.renderOutput(dataTable, element);\n",
              "          const docLink = document.createElement('div');\n",
              "          docLink.innerHTML = docLinkHtml;\n",
              "          element.appendChild(docLink);\n",
              "        }\n",
              "      </script>\n",
              "    </div>\n",
              "  </div>\n",
              "  "
            ]
          },
          "metadata": {},
          "execution_count": 11
        }
      ],
      "source": [
        "#抓取date與close列 並將data設為索引 並輸出前五筆\n",
        "# read in data only in the Date and Close columns\n",
        "# and index by the Date column\n",
        "df2 = pd.read_csv(\"./msft.csv\", \n",
        "                  usecols=['Date', 'Close'], \n",
        "                  index_col=['Date'])\n",
        "df2[:5]"
      ]
    },
    {
      "cell_type": "markdown",
      "metadata": {
        "id": "35lB4RwMlQNb"
      },
      "source": [
        "# Saving a DataFrame to a CSV"
      ]
    },
    {
      "cell_type": "code",
      "execution_count": 12,
      "metadata": {
        "collapsed": true,
        "id": "qzxYdfQclQNc"
      },
      "outputs": [],
      "source": [
        "#將df2轉存並命名為4070C027.csv 索引設為date\n",
        "# save df2 to a new csv file\n",
        "# also specify naming the index as date\n",
        "df2.to_csv(\"./4070C027.csv\", index_label='date')"
      ]
    },
    {
      "cell_type": "code",
      "execution_count": 13,
      "metadata": {
        "id": "wRETydLflQNd",
        "outputId": "bdc25579-b078-4bf9-b2df-bbc5396b3321",
        "colab": {
          "base_uri": "https://localhost:8080/"
        }
      },
      "outputs": [
        {
          "output_type": "stream",
          "name": "stdout",
          "text": [
            "date,Close\n",
            "7/21/2014,81.93\n",
            "7/18/2014,83.35\n",
            "7/17/2014,83.63\n",
            "7/16/2014,84.91\n"
          ]
        }
      ],
      "source": [
        "# view the start of the file just saved\n",
        "!head -n 5 ./4070C027.csv\n",
        "#type data/msft_modified.csv # windows"
      ]
    },
    {
      "cell_type": "markdown",
      "metadata": {
        "id": "1_-gCTH5lQNe"
      },
      "source": [
        "# General field-delimited data"
      ]
    },
    {
      "cell_type": "code",
      "execution_count": null,
      "metadata": {
        "id": "F90MbNRAlQNf",
        "outputId": "0daec9a5-67e1-4a69-81d2-2e3302487d15",
        "colab": {
          "base_uri": "https://localhost:8080/",
          "height": 210
        }
      },
      "outputs": [
        {
          "output_type": "execute_result",
          "data": {
            "text/plain": [
              "        Date   Open   High    Low  Close   Volume\n",
              "0  7/21/2014  83.46  83.53  81.81  81.93  2359300\n",
              "1  7/18/2014  83.30  83.40  82.52  83.35  4020800\n",
              "2  7/17/2014  84.35  84.63  83.33  83.63  1974000\n",
              "3  7/16/2014  83.77  84.91  83.66  84.91  1755600\n",
              "4  7/15/2014  84.30  84.38  83.20  83.58  1874700"
            ],
            "text/html": [
              "\n",
              "  <div id=\"df-7b28b70a-8531-466b-b999-eb8181cc0209\">\n",
              "    <div class=\"colab-df-container\">\n",
              "      None\n",
              "      <button class=\"colab-df-convert\" onclick=\"convertToInteractive('df-7b28b70a-8531-466b-b999-eb8181cc0209')\"\n",
              "              title=\"Convert this dataframe to an interactive table.\"\n",
              "              style=\"display:none;\">\n",
              "        \n",
              "  <svg xmlns=\"http://www.w3.org/2000/svg\" height=\"24px\"viewBox=\"0 0 24 24\"\n",
              "       width=\"24px\">\n",
              "    <path d=\"M0 0h24v24H0V0z\" fill=\"none\"/>\n",
              "    <path d=\"M18.56 5.44l.94 2.06.94-2.06 2.06-.94-2.06-.94-.94-2.06-.94 2.06-2.06.94zm-11 1L8.5 8.5l.94-2.06 2.06-.94-2.06-.94L8.5 2.5l-.94 2.06-2.06.94zm10 10l.94 2.06.94-2.06 2.06-.94-2.06-.94-.94-2.06-.94 2.06-2.06.94z\"/><path d=\"M17.41 7.96l-1.37-1.37c-.4-.4-.92-.59-1.43-.59-.52 0-1.04.2-1.43.59L10.3 9.45l-7.72 7.72c-.78.78-.78 2.05 0 2.83L4 21.41c.39.39.9.59 1.41.59.51 0 1.02-.2 1.41-.59l7.78-7.78 2.81-2.81c.8-.78.8-2.07 0-2.86zM5.41 20L4 18.59l7.72-7.72 1.47 1.35L5.41 20z\"/>\n",
              "  </svg>\n",
              "      </button>\n",
              "      \n",
              "  <style>\n",
              "    .colab-df-container {\n",
              "      display:flex;\n",
              "      flex-wrap:wrap;\n",
              "      gap: 12px;\n",
              "    }\n",
              "\n",
              "    .colab-df-convert {\n",
              "      background-color: #E8F0FE;\n",
              "      border: none;\n",
              "      border-radius: 50%;\n",
              "      cursor: pointer;\n",
              "      display: none;\n",
              "      fill: #1967D2;\n",
              "      height: 32px;\n",
              "      padding: 0 0 0 0;\n",
              "      width: 32px;\n",
              "    }\n",
              "\n",
              "    .colab-df-convert:hover {\n",
              "      background-color: #E2EBFA;\n",
              "      box-shadow: 0px 1px 2px rgba(60, 64, 67, 0.3), 0px 1px 3px 1px rgba(60, 64, 67, 0.15);\n",
              "      fill: #174EA6;\n",
              "    }\n",
              "\n",
              "    [theme=dark] .colab-df-convert {\n",
              "      background-color: #3B4455;\n",
              "      fill: #D2E3FC;\n",
              "    }\n",
              "\n",
              "    [theme=dark] .colab-df-convert:hover {\n",
              "      background-color: #434B5C;\n",
              "      box-shadow: 0px 1px 3px 1px rgba(0, 0, 0, 0.15);\n",
              "      filter: drop-shadow(0px 1px 2px rgba(0, 0, 0, 0.3));\n",
              "      fill: #FFFFFF;\n",
              "    }\n",
              "  </style>\n",
              "\n",
              "      <script>\n",
              "        const buttonEl =\n",
              "          document.querySelector('#df-7b28b70a-8531-466b-b999-eb8181cc0209 button.colab-df-convert');\n",
              "        buttonEl.style.display =\n",
              "          google.colab.kernel.accessAllowed ? 'block' : 'none';\n",
              "\n",
              "        async function convertToInteractive(key) {\n",
              "          const element = document.querySelector('#df-7b28b70a-8531-466b-b999-eb8181cc0209');\n",
              "          const dataTable =\n",
              "            await google.colab.kernel.invokeFunction('convertToInteractive',\n",
              "                                                     [key], {});\n",
              "          if (!dataTable) return;\n",
              "\n",
              "          const docLinkHtml = 'Like what you see? Visit the ' +\n",
              "            '<a target=\"_blank\" href=https://colab.research.google.com/notebooks/data_table.ipynb>data table notebook</a>'\n",
              "            + ' to learn more about interactive tables.';\n",
              "          element.innerHTML = '';\n",
              "          dataTable['output_type'] = 'display_data';\n",
              "          await google.colab.output.renderOutput(dataTable, element);\n",
              "          const docLink = document.createElement('div');\n",
              "          docLink.innerHTML = docLinkHtml;\n",
              "          element.appendChild(docLink);\n",
              "        }\n",
              "      </script>\n",
              "    </div>\n",
              "  </div>\n",
              "  "
            ]
          },
          "metadata": {},
          "execution_count": 21
        }
      ],
      "source": [
        "# use read_table with sep=',' to read a CSV\n",
        "df = pd.read_table(\"./msft.csv\", sep=',')\n",
        "df[:5]"
      ]
    },
    {
      "cell_type": "code",
      "source": [
        "# 將github上的msft_piped.txt抓下來\n",
        "!wget https://raw.githubusercontent.com/PacktPublishing/Learning-Pandas-Second-Edition/master/data/msft_piped.txt"
      ],
      "metadata": {
        "id": "tWteNXxIsDwt",
        "outputId": "b561a9e9-6c0b-4978-92d0-8c92ae235e0d",
        "colab": {
          "base_uri": "https://localhost:8080/"
        }
      },
      "execution_count": null,
      "outputs": [
        {
          "output_type": "stream",
          "name": "stdout",
          "text": [
            "--2022-03-18 06:30:46--  https://raw.githubusercontent.com/PacktPublishing/Learning-Pandas-Second-Edition/master/data/msft_piped.txt\n",
            "Resolving raw.githubusercontent.com (raw.githubusercontent.com)... 185.199.110.133, 185.199.111.133, 185.199.108.133, ...\n",
            "Connecting to raw.githubusercontent.com (raw.githubusercontent.com)|185.199.110.133|:443... connected.\n",
            "HTTP request sent, awaiting response... 200 OK\n",
            "Length: 171933 (168K) [text/plain]\n",
            "Saving to: ‘msft_piped.txt.1’\n",
            "\n",
            "\rmsft_piped.txt.1      0%[                    ]       0  --.-KB/s               \rmsft_piped.txt.1    100%[===================>] 167.90K  --.-KB/s    in 0.04s   \n",
            "\n",
            "2022-03-18 06:30:46 (3.71 MB/s) - ‘msft_piped.txt.1’ saved [171933/171933]\n",
            "\n"
          ]
        }
      ]
    },
    {
      "cell_type": "code",
      "source": [
        "#查看\n",
        "!head -n 5 ./msft_piped.txt"
      ],
      "metadata": {
        "id": "mLslGGZDsGlv",
        "outputId": "aad6287f-df36-487f-a9d2-f6aaa1cb329c",
        "colab": {
          "base_uri": "https://localhost:8080/"
        }
      },
      "execution_count": null,
      "outputs": [
        {
          "output_type": "stream",
          "name": "stdout",
          "text": [
            "|Date|Open|High|Low|Close|Volume\n",
            "0|7/21/2014|83.46|83.53|81.81|81.93|2359300\n",
            "1|7/18/2014|83.3|83.4|82.52|83.35|4020800\n",
            "2|7/17/2014|84.35|84.63|83.33|83.63|1974000\n",
            "3|7/16/2014|83.77|84.91|83.66|84.91|1755600\n"
          ]
        }
      ]
    },
    {
      "cell_type": "code",
      "execution_count": null,
      "metadata": {
        "id": "F6HhycLQlQNg",
        "outputId": "a7d026fc-4323-4595-e253-5f8d75f33ecb",
        "colab": {
          "base_uri": "https://localhost:8080/"
        }
      },
      "outputs": [
        {
          "output_type": "stream",
          "name": "stdout",
          "text": [
            "|Date|Open|High|Low|Close|Volume\n",
            "0|7/21/2014|83.46|83.53|81.81|81.93|2359300\n",
            "1|7/18/2014|83.3|83.4|82.52|83.35|4020800\n",
            "2|7/17/2014|84.35|84.63|83.33|83.63|1974000\n",
            "3|7/16/2014|83.77|84.91|83.66|84.91|1755600\n"
          ]
        }
      ],
      "source": [
        "#透過|分隔開\n",
        "# save as pipe delimited\n",
        "df.to_csv(\"./msft_piped.txt\", sep='|')\n",
        "# check that it worked\n",
        "!head -n 5 ./msft_piped.txt # osx or Linux\n",
        "# type data/psft_piped.txt # on windows"
      ]
    },
    {
      "cell_type": "markdown",
      "metadata": {
        "id": "X9-eQdE7lQNg"
      },
      "source": [
        "# Handling variants of formats in field-delimited data"
      ]
    },
    {
      "cell_type": "code",
      "source": [
        "!wget https://raw.githubusercontent.com/PacktPublishing/Learning-Pandas-Second-Edition/master/data/msft2.csv"
      ],
      "metadata": {
        "colab": {
          "base_uri": "https://localhost:8080/"
        },
        "id": "I0aiVZWGxnqc",
        "outputId": "a0a810dd-928f-4a2a-ecec-3f31a083c793"
      },
      "execution_count": 14,
      "outputs": [
        {
          "output_type": "stream",
          "name": "stdout",
          "text": [
            "--2022-03-18 06:52:50--  https://raw.githubusercontent.com/PacktPublishing/Learning-Pandas-Second-Edition/master/data/msft2.csv\n",
            "Resolving raw.githubusercontent.com (raw.githubusercontent.com)... 185.199.108.133, 185.199.109.133, 185.199.110.133, ...\n",
            "Connecting to raw.githubusercontent.com (raw.githubusercontent.com)|185.199.108.133|:443... connected.\n",
            "HTTP request sent, awaiting response... 200 OK\n",
            "Length: 531 [text/plain]\n",
            "Saving to: ‘msft2.csv’\n",
            "\n",
            "msft2.csv           100%[===================>]     531  --.-KB/s    in 0s      \n",
            "\n",
            "2022-03-18 06:52:51 (18.9 MB/s) - ‘msft2.csv’ saved [531/531]\n",
            "\n"
          ]
        }
      ]
    },
    {
      "cell_type": "code",
      "execution_count": 15,
      "metadata": {
        "id": "3wU1UiLylQNg",
        "outputId": "dfd5e4eb-1ad6-49be-cc7e-62d19b68e153",
        "colab": {
          "base_uri": "https://localhost:8080/"
        }
      },
      "outputs": [
        {
          "output_type": "stream",
          "name": "stdout",
          "text": [
            "This is fun because the data does not start on the first line,,,,,\n",
            "Date,Open,High,Low,Close,Volume\n",
            ",,,,,\n",
            "And there is space between the header row and data,,,,,\n",
            "7/21/2014,83.46,83.53,81.81,81.93,2359300\n",
            "7/18/2014,83.3,83.4,82.52,83.35,4020800\n"
          ]
        }
      ],
      "source": [
        "# messy file\n",
        "!head -n 6 ./msft2.csv # osx or Linux\n",
        "# type data/msft2.csv # windows"
      ]
    },
    {
      "cell_type": "code",
      "execution_count": 17,
      "metadata": {
        "id": "lPs299-DlQNh",
        "outputId": "b8e496e2-dfa9-4ef9-a9ba-1acabcd5252d",
        "colab": {
          "base_uri": "https://localhost:8080/",
          "height": 205
        }
      },
      "outputs": [
        {
          "output_type": "execute_result",
          "data": {
            "text/plain": [
              "        Date   Open   High    Low  Close   Volume\n",
              "0  7/21/2014  83.46  83.53  81.81  81.93  2359300\n",
              "1  7/18/2014  83.30  83.40  82.52  83.35  4020800\n",
              "2  7/17/2014  84.35  84.63  83.33  83.63  1974000\n",
              "3  7/16/2014  83.77  84.91  83.66  84.91  1755600\n",
              "4  7/15/2014  84.30  84.38  83.20  83.58  1874700"
            ],
            "text/html": [
              "\n",
              "  <div id=\"df-8a9fb901-8e48-44f6-bd1a-e2f639a585b2\">\n",
              "    <div class=\"colab-df-container\">\n",
              "      None\n",
              "      <button class=\"colab-df-convert\" onclick=\"convertToInteractive('df-8a9fb901-8e48-44f6-bd1a-e2f639a585b2')\"\n",
              "              title=\"Convert this dataframe to an interactive table.\"\n",
              "              style=\"display:none;\">\n",
              "        \n",
              "  <svg xmlns=\"http://www.w3.org/2000/svg\" height=\"24px\"viewBox=\"0 0 24 24\"\n",
              "       width=\"24px\">\n",
              "    <path d=\"M0 0h24v24H0V0z\" fill=\"none\"/>\n",
              "    <path d=\"M18.56 5.44l.94 2.06.94-2.06 2.06-.94-2.06-.94-.94-2.06-.94 2.06-2.06.94zm-11 1L8.5 8.5l.94-2.06 2.06-.94-2.06-.94L8.5 2.5l-.94 2.06-2.06.94zm10 10l.94 2.06.94-2.06 2.06-.94-2.06-.94-.94-2.06-.94 2.06-2.06.94z\"/><path d=\"M17.41 7.96l-1.37-1.37c-.4-.4-.92-.59-1.43-.59-.52 0-1.04.2-1.43.59L10.3 9.45l-7.72 7.72c-.78.78-.78 2.05 0 2.83L4 21.41c.39.39.9.59 1.41.59.51 0 1.02-.2 1.41-.59l7.78-7.78 2.81-2.81c.8-.78.8-2.07 0-2.86zM5.41 20L4 18.59l7.72-7.72 1.47 1.35L5.41 20z\"/>\n",
              "  </svg>\n",
              "      </button>\n",
              "      \n",
              "  <style>\n",
              "    .colab-df-container {\n",
              "      display:flex;\n",
              "      flex-wrap:wrap;\n",
              "      gap: 12px;\n",
              "    }\n",
              "\n",
              "    .colab-df-convert {\n",
              "      background-color: #E8F0FE;\n",
              "      border: none;\n",
              "      border-radius: 50%;\n",
              "      cursor: pointer;\n",
              "      display: none;\n",
              "      fill: #1967D2;\n",
              "      height: 32px;\n",
              "      padding: 0 0 0 0;\n",
              "      width: 32px;\n",
              "    }\n",
              "\n",
              "    .colab-df-convert:hover {\n",
              "      background-color: #E2EBFA;\n",
              "      box-shadow: 0px 1px 2px rgba(60, 64, 67, 0.3), 0px 1px 3px 1px rgba(60, 64, 67, 0.15);\n",
              "      fill: #174EA6;\n",
              "    }\n",
              "\n",
              "    [theme=dark] .colab-df-convert {\n",
              "      background-color: #3B4455;\n",
              "      fill: #D2E3FC;\n",
              "    }\n",
              "\n",
              "    [theme=dark] .colab-df-convert:hover {\n",
              "      background-color: #434B5C;\n",
              "      box-shadow: 0px 1px 3px 1px rgba(0, 0, 0, 0.15);\n",
              "      filter: drop-shadow(0px 1px 2px rgba(0, 0, 0, 0.3));\n",
              "      fill: #FFFFFF;\n",
              "    }\n",
              "  </style>\n",
              "\n",
              "      <script>\n",
              "        const buttonEl =\n",
              "          document.querySelector('#df-8a9fb901-8e48-44f6-bd1a-e2f639a585b2 button.colab-df-convert');\n",
              "        buttonEl.style.display =\n",
              "          google.colab.kernel.accessAllowed ? 'block' : 'none';\n",
              "\n",
              "        async function convertToInteractive(key) {\n",
              "          const element = document.querySelector('#df-8a9fb901-8e48-44f6-bd1a-e2f639a585b2');\n",
              "          const dataTable =\n",
              "            await google.colab.kernel.invokeFunction('convertToInteractive',\n",
              "                                                     [key], {});\n",
              "          if (!dataTable) return;\n",
              "\n",
              "          const docLinkHtml = 'Like what you see? Visit the ' +\n",
              "            '<a target=\"_blank\" href=https://colab.research.google.com/notebooks/data_table.ipynb>data table notebook</a>'\n",
              "            + ' to learn more about interactive tables.';\n",
              "          element.innerHTML = '';\n",
              "          dataTable['output_type'] = 'display_data';\n",
              "          await google.colab.output.renderOutput(dataTable, element);\n",
              "          const docLink = document.createElement('div');\n",
              "          docLink.innerHTML = docLinkHtml;\n",
              "          element.appendChild(docLink);\n",
              "        }\n",
              "      </script>\n",
              "    </div>\n",
              "  </div>\n",
              "  "
            ]
          },
          "metadata": {},
          "execution_count": 17
        }
      ],
      "source": [
        "# read, but skip rows 0, 2 and 3\n",
        "df = pd.read_csv(\"./msft2.csv\", skiprows=[0, 2, 3])\n",
        "df[:5]"
      ]
    },
    {
      "cell_type": "code",
      "source": [
        "!wget https://raw.githubusercontent.com/PacktPublishing/Learning-Pandas-Second-Edition/master/data/msft_with_footer.csv"
      ],
      "metadata": {
        "colab": {
          "base_uri": "https://localhost:8080/"
        },
        "id": "puPfUpPNxwcp",
        "outputId": "4c620ae0-0184-445a-8372-27a5f085d332"
      },
      "execution_count": 19,
      "outputs": [
        {
          "output_type": "stream",
          "name": "stdout",
          "text": [
            "--2022-03-18 06:54:13--  https://raw.githubusercontent.com/PacktPublishing/Learning-Pandas-Second-Edition/master/data/msft_with_footer.csv\n",
            "Resolving raw.githubusercontent.com (raw.githubusercontent.com)... 185.199.108.133, 185.199.109.133, 185.199.110.133, ...\n",
            "Connecting to raw.githubusercontent.com (raw.githubusercontent.com)|185.199.108.133|:443... connected.\n",
            "HTTP request sent, awaiting response... 200 OK\n",
            "Length: 149 [text/plain]\n",
            "Saving to: ‘msft_with_footer.csv.1’\n",
            "\n",
            "\rmsft_with_footer.cs   0%[                    ]       0  --.-KB/s               \rmsft_with_footer.cs 100%[===================>]     149  --.-KB/s    in 0s      \n",
            "\n",
            "2022-03-18 06:54:13 (7.09 MB/s) - ‘msft_with_footer.csv.1’ saved [149/149]\n",
            "\n"
          ]
        }
      ]
    },
    {
      "cell_type": "code",
      "execution_count": 21,
      "metadata": {
        "id": "oGDHDRj_lQNh",
        "outputId": "50457db1-1ac9-4647-99d0-f847455e85bf",
        "colab": {
          "base_uri": "https://localhost:8080/"
        }
      },
      "outputs": [
        {
          "output_type": "stream",
          "name": "stdout",
          "text": [
            "Date,Open,High,Low,Close,Volume\n",
            "7/21/2014,83.46,83.53,81.81,81.93,2359300\n",
            "7/18/2014,83.3,83.4,82.52,83.35,4020800\n",
            "\n",
            "Uh oh, there is stuff at the end.\n"
          ]
        }
      ],
      "source": [
        "# another messy file, with the mess at the end\n",
        "!cat ./msft_with_footer.csv # osx or Linux\n",
        "# type data/msft_with_footer.csv # windows"
      ]
    },
    {
      "cell_type": "code",
      "execution_count": 22,
      "metadata": {
        "id": "WRKKUfgtlQNi",
        "outputId": "5a658a4d-9653-4e89-d450-f628fc2962e2",
        "colab": {
          "base_uri": "https://localhost:8080/",
          "height": 49
        }
      },
      "outputs": [
        {
          "output_type": "execute_result",
          "data": {
            "text/plain": [
              "        Date   Open   High    Low  Close   Volume\n",
              "0  7/21/2014  83.46  83.53  81.81  81.93  2359300\n",
              "1  7/18/2014  83.30  83.40  82.52  83.35  4020800"
            ],
            "text/html": [
              "\n",
              "  <div id=\"df-655c6092-5e95-4e87-ae91-93094cdfb712\">\n",
              "    <div class=\"colab-df-container\">\n",
              "      None\n",
              "      <button class=\"colab-df-convert\" onclick=\"convertToInteractive('df-655c6092-5e95-4e87-ae91-93094cdfb712')\"\n",
              "              title=\"Convert this dataframe to an interactive table.\"\n",
              "              style=\"display:none;\">\n",
              "        \n",
              "  <svg xmlns=\"http://www.w3.org/2000/svg\" height=\"24px\"viewBox=\"0 0 24 24\"\n",
              "       width=\"24px\">\n",
              "    <path d=\"M0 0h24v24H0V0z\" fill=\"none\"/>\n",
              "    <path d=\"M18.56 5.44l.94 2.06.94-2.06 2.06-.94-2.06-.94-.94-2.06-.94 2.06-2.06.94zm-11 1L8.5 8.5l.94-2.06 2.06-.94-2.06-.94L8.5 2.5l-.94 2.06-2.06.94zm10 10l.94 2.06.94-2.06 2.06-.94-2.06-.94-.94-2.06-.94 2.06-2.06.94z\"/><path d=\"M17.41 7.96l-1.37-1.37c-.4-.4-.92-.59-1.43-.59-.52 0-1.04.2-1.43.59L10.3 9.45l-7.72 7.72c-.78.78-.78 2.05 0 2.83L4 21.41c.39.39.9.59 1.41.59.51 0 1.02-.2 1.41-.59l7.78-7.78 2.81-2.81c.8-.78.8-2.07 0-2.86zM5.41 20L4 18.59l7.72-7.72 1.47 1.35L5.41 20z\"/>\n",
              "  </svg>\n",
              "      </button>\n",
              "      \n",
              "  <style>\n",
              "    .colab-df-container {\n",
              "      display:flex;\n",
              "      flex-wrap:wrap;\n",
              "      gap: 12px;\n",
              "    }\n",
              "\n",
              "    .colab-df-convert {\n",
              "      background-color: #E8F0FE;\n",
              "      border: none;\n",
              "      border-radius: 50%;\n",
              "      cursor: pointer;\n",
              "      display: none;\n",
              "      fill: #1967D2;\n",
              "      height: 32px;\n",
              "      padding: 0 0 0 0;\n",
              "      width: 32px;\n",
              "    }\n",
              "\n",
              "    .colab-df-convert:hover {\n",
              "      background-color: #E2EBFA;\n",
              "      box-shadow: 0px 1px 2px rgba(60, 64, 67, 0.3), 0px 1px 3px 1px rgba(60, 64, 67, 0.15);\n",
              "      fill: #174EA6;\n",
              "    }\n",
              "\n",
              "    [theme=dark] .colab-df-convert {\n",
              "      background-color: #3B4455;\n",
              "      fill: #D2E3FC;\n",
              "    }\n",
              "\n",
              "    [theme=dark] .colab-df-convert:hover {\n",
              "      background-color: #434B5C;\n",
              "      box-shadow: 0px 1px 3px 1px rgba(0, 0, 0, 0.15);\n",
              "      filter: drop-shadow(0px 1px 2px rgba(0, 0, 0, 0.3));\n",
              "      fill: #FFFFFF;\n",
              "    }\n",
              "  </style>\n",
              "\n",
              "      <script>\n",
              "        const buttonEl =\n",
              "          document.querySelector('#df-655c6092-5e95-4e87-ae91-93094cdfb712 button.colab-df-convert');\n",
              "        buttonEl.style.display =\n",
              "          google.colab.kernel.accessAllowed ? 'block' : 'none';\n",
              "\n",
              "        async function convertToInteractive(key) {\n",
              "          const element = document.querySelector('#df-655c6092-5e95-4e87-ae91-93094cdfb712');\n",
              "          const dataTable =\n",
              "            await google.colab.kernel.invokeFunction('convertToInteractive',\n",
              "                                                     [key], {});\n",
              "          if (!dataTable) return;\n",
              "\n",
              "          const docLinkHtml = 'Like what you see? Visit the ' +\n",
              "            '<a target=\"_blank\" href=https://colab.research.google.com/notebooks/data_table.ipynb>data table notebook</a>'\n",
              "            + ' to learn more about interactive tables.';\n",
              "          element.innerHTML = '';\n",
              "          dataTable['output_type'] = 'display_data';\n",
              "          await google.colab.output.renderOutput(dataTable, element);\n",
              "          const docLink = document.createElement('div');\n",
              "          docLink.innerHTML = docLinkHtml;\n",
              "          element.appendChild(docLink);\n",
              "        }\n",
              "      </script>\n",
              "    </div>\n",
              "  </div>\n",
              "  "
            ]
          },
          "metadata": {},
          "execution_count": 22
        }
      ],
      "source": [
        "# skip only two lines at the end\n",
        "df = pd.read_csv(\"./msft_with_footer.csv\", \n",
        "                 skipfooter=2,\n",
        "                 engine = 'python')\n",
        "df"
      ]
    },
    {
      "cell_type": "code",
      "execution_count": 24,
      "metadata": {
        "id": "mlfJ6pRelQNi",
        "outputId": "645c495a-d55e-4d68-f8bf-3eab6abba876",
        "colab": {
          "base_uri": "https://localhost:8080/",
          "height": 49
        }
      },
      "outputs": [
        {
          "output_type": "execute_result",
          "data": {
            "text/plain": [
              "        Date   Open   High    Low  Close   Volume\n",
              "0  7/21/2014  83.46  83.53  81.81  81.93  2359300\n",
              "1  7/18/2014  83.30  83.40  82.52  83.35  4020800\n",
              "2  7/17/2014  84.35  84.63  83.33  83.63  1974000"
            ],
            "text/html": [
              "\n",
              "  <div id=\"df-e67516e7-dde5-4214-a69f-2c750c488710\">\n",
              "    <div class=\"colab-df-container\">\n",
              "      None\n",
              "      <button class=\"colab-df-convert\" onclick=\"convertToInteractive('df-e67516e7-dde5-4214-a69f-2c750c488710')\"\n",
              "              title=\"Convert this dataframe to an interactive table.\"\n",
              "              style=\"display:none;\">\n",
              "        \n",
              "  <svg xmlns=\"http://www.w3.org/2000/svg\" height=\"24px\"viewBox=\"0 0 24 24\"\n",
              "       width=\"24px\">\n",
              "    <path d=\"M0 0h24v24H0V0z\" fill=\"none\"/>\n",
              "    <path d=\"M18.56 5.44l.94 2.06.94-2.06 2.06-.94-2.06-.94-.94-2.06-.94 2.06-2.06.94zm-11 1L8.5 8.5l.94-2.06 2.06-.94-2.06-.94L8.5 2.5l-.94 2.06-2.06.94zm10 10l.94 2.06.94-2.06 2.06-.94-2.06-.94-.94-2.06-.94 2.06-2.06.94z\"/><path d=\"M17.41 7.96l-1.37-1.37c-.4-.4-.92-.59-1.43-.59-.52 0-1.04.2-1.43.59L10.3 9.45l-7.72 7.72c-.78.78-.78 2.05 0 2.83L4 21.41c.39.39.9.59 1.41.59.51 0 1.02-.2 1.41-.59l7.78-7.78 2.81-2.81c.8-.78.8-2.07 0-2.86zM5.41 20L4 18.59l7.72-7.72 1.47 1.35L5.41 20z\"/>\n",
              "  </svg>\n",
              "      </button>\n",
              "      \n",
              "  <style>\n",
              "    .colab-df-container {\n",
              "      display:flex;\n",
              "      flex-wrap:wrap;\n",
              "      gap: 12px;\n",
              "    }\n",
              "\n",
              "    .colab-df-convert {\n",
              "      background-color: #E8F0FE;\n",
              "      border: none;\n",
              "      border-radius: 50%;\n",
              "      cursor: pointer;\n",
              "      display: none;\n",
              "      fill: #1967D2;\n",
              "      height: 32px;\n",
              "      padding: 0 0 0 0;\n",
              "      width: 32px;\n",
              "    }\n",
              "\n",
              "    .colab-df-convert:hover {\n",
              "      background-color: #E2EBFA;\n",
              "      box-shadow: 0px 1px 2px rgba(60, 64, 67, 0.3), 0px 1px 3px 1px rgba(60, 64, 67, 0.15);\n",
              "      fill: #174EA6;\n",
              "    }\n",
              "\n",
              "    [theme=dark] .colab-df-convert {\n",
              "      background-color: #3B4455;\n",
              "      fill: #D2E3FC;\n",
              "    }\n",
              "\n",
              "    [theme=dark] .colab-df-convert:hover {\n",
              "      background-color: #434B5C;\n",
              "      box-shadow: 0px 1px 3px 1px rgba(0, 0, 0, 0.15);\n",
              "      filter: drop-shadow(0px 1px 2px rgba(0, 0, 0, 0.3));\n",
              "      fill: #FFFFFF;\n",
              "    }\n",
              "  </style>\n",
              "\n",
              "      <script>\n",
              "        const buttonEl =\n",
              "          document.querySelector('#df-e67516e7-dde5-4214-a69f-2c750c488710 button.colab-df-convert');\n",
              "        buttonEl.style.display =\n",
              "          google.colab.kernel.accessAllowed ? 'block' : 'none';\n",
              "\n",
              "        async function convertToInteractive(key) {\n",
              "          const element = document.querySelector('#df-e67516e7-dde5-4214-a69f-2c750c488710');\n",
              "          const dataTable =\n",
              "            await google.colab.kernel.invokeFunction('convertToInteractive',\n",
              "                                                     [key], {});\n",
              "          if (!dataTable) return;\n",
              "\n",
              "          const docLinkHtml = 'Like what you see? Visit the ' +\n",
              "            '<a target=\"_blank\" href=https://colab.research.google.com/notebooks/data_table.ipynb>data table notebook</a>'\n",
              "            + ' to learn more about interactive tables.';\n",
              "          element.innerHTML = '';\n",
              "          dataTable['output_type'] = 'display_data';\n",
              "          await google.colab.output.renderOutput(dataTable, element);\n",
              "          const docLink = document.createElement('div');\n",
              "          docLink.innerHTML = docLinkHtml;\n",
              "          element.appendChild(docLink);\n",
              "        }\n",
              "      </script>\n",
              "    </div>\n",
              "  </div>\n",
              "  "
            ]
          },
          "metadata": {},
          "execution_count": 24
        }
      ],
      "source": [
        "# only process the first three rows\n",
        "pd.read_csv(\"./msft.csv\", nrows=3)"
      ]
    },
    {
      "cell_type": "code",
      "execution_count": 25,
      "metadata": {
        "id": "DF4rjZQnlQNj",
        "outputId": "732b79db-c7fd-4841-f09f-0afcda0f3057",
        "colab": {
          "base_uri": "https://localhost:8080/",
          "height": 49
        }
      },
      "outputs": [
        {
          "output_type": "execute_result",
          "data": {
            "text/plain": [
              "        date   open   high    low  close      vol\n",
              "0   3/3/2014  80.35  81.31  79.91  79.97  5004100\n",
              "1  2/28/2014  82.40  83.42  82.17  83.42  2853200\n",
              "2  2/27/2014  84.06  84.63  81.63  82.00  3676800\n",
              "3  2/26/2014  82.92  84.03  82.43  83.81  2623600\n",
              "4  2/25/2014  83.80  83.80  81.72  83.08  3579100"
            ],
            "text/html": [
              "\n",
              "  <div id=\"df-9a8ad93b-ed05-4a43-ad5c-92c4fabc4a78\">\n",
              "    <div class=\"colab-df-container\">\n",
              "      None\n",
              "      <button class=\"colab-df-convert\" onclick=\"convertToInteractive('df-9a8ad93b-ed05-4a43-ad5c-92c4fabc4a78')\"\n",
              "              title=\"Convert this dataframe to an interactive table.\"\n",
              "              style=\"display:none;\">\n",
              "        \n",
              "  <svg xmlns=\"http://www.w3.org/2000/svg\" height=\"24px\"viewBox=\"0 0 24 24\"\n",
              "       width=\"24px\">\n",
              "    <path d=\"M0 0h24v24H0V0z\" fill=\"none\"/>\n",
              "    <path d=\"M18.56 5.44l.94 2.06.94-2.06 2.06-.94-2.06-.94-.94-2.06-.94 2.06-2.06.94zm-11 1L8.5 8.5l.94-2.06 2.06-.94-2.06-.94L8.5 2.5l-.94 2.06-2.06.94zm10 10l.94 2.06.94-2.06 2.06-.94-2.06-.94-.94-2.06-.94 2.06-2.06.94z\"/><path d=\"M17.41 7.96l-1.37-1.37c-.4-.4-.92-.59-1.43-.59-.52 0-1.04.2-1.43.59L10.3 9.45l-7.72 7.72c-.78.78-.78 2.05 0 2.83L4 21.41c.39.39.9.59 1.41.59.51 0 1.02-.2 1.41-.59l7.78-7.78 2.81-2.81c.8-.78.8-2.07 0-2.86zM5.41 20L4 18.59l7.72-7.72 1.47 1.35L5.41 20z\"/>\n",
              "  </svg>\n",
              "      </button>\n",
              "      \n",
              "  <style>\n",
              "    .colab-df-container {\n",
              "      display:flex;\n",
              "      flex-wrap:wrap;\n",
              "      gap: 12px;\n",
              "    }\n",
              "\n",
              "    .colab-df-convert {\n",
              "      background-color: #E8F0FE;\n",
              "      border: none;\n",
              "      border-radius: 50%;\n",
              "      cursor: pointer;\n",
              "      display: none;\n",
              "      fill: #1967D2;\n",
              "      height: 32px;\n",
              "      padding: 0 0 0 0;\n",
              "      width: 32px;\n",
              "    }\n",
              "\n",
              "    .colab-df-convert:hover {\n",
              "      background-color: #E2EBFA;\n",
              "      box-shadow: 0px 1px 2px rgba(60, 64, 67, 0.3), 0px 1px 3px 1px rgba(60, 64, 67, 0.15);\n",
              "      fill: #174EA6;\n",
              "    }\n",
              "\n",
              "    [theme=dark] .colab-df-convert {\n",
              "      background-color: #3B4455;\n",
              "      fill: #D2E3FC;\n",
              "    }\n",
              "\n",
              "    [theme=dark] .colab-df-convert:hover {\n",
              "      background-color: #434B5C;\n",
              "      box-shadow: 0px 1px 3px 1px rgba(0, 0, 0, 0.15);\n",
              "      filter: drop-shadow(0px 1px 2px rgba(0, 0, 0, 0.3));\n",
              "      fill: #FFFFFF;\n",
              "    }\n",
              "  </style>\n",
              "\n",
              "      <script>\n",
              "        const buttonEl =\n",
              "          document.querySelector('#df-9a8ad93b-ed05-4a43-ad5c-92c4fabc4a78 button.colab-df-convert');\n",
              "        buttonEl.style.display =\n",
              "          google.colab.kernel.accessAllowed ? 'block' : 'none';\n",
              "\n",
              "        async function convertToInteractive(key) {\n",
              "          const element = document.querySelector('#df-9a8ad93b-ed05-4a43-ad5c-92c4fabc4a78');\n",
              "          const dataTable =\n",
              "            await google.colab.kernel.invokeFunction('convertToInteractive',\n",
              "                                                     [key], {});\n",
              "          if (!dataTable) return;\n",
              "\n",
              "          const docLinkHtml = 'Like what you see? Visit the ' +\n",
              "            '<a target=\"_blank\" href=https://colab.research.google.com/notebooks/data_table.ipynb>data table notebook</a>'\n",
              "            + ' to learn more about interactive tables.';\n",
              "          element.innerHTML = '';\n",
              "          dataTable['output_type'] = 'display_data';\n",
              "          await google.colab.output.renderOutput(dataTable, element);\n",
              "          const docLink = document.createElement('div');\n",
              "          docLink.innerHTML = docLinkHtml;\n",
              "          element.appendChild(docLink);\n",
              "        }\n",
              "      </script>\n",
              "    </div>\n",
              "  </div>\n",
              "  "
            ]
          },
          "metadata": {},
          "execution_count": 25
        }
      ],
      "source": [
        "# skip 100 lines, then only process the next five\n",
        "pd.read_csv(\"./msft.csv\", skiprows=100, nrows=5, \n",
        "            header=0,\n",
        "            names=['date', 'open', 'high', 'low', \n",
        "                   'close', 'vol']) "
      ]
    },
    {
      "cell_type": "markdown",
      "metadata": {
        "id": "pFzJbNRLlQNj"
      },
      "source": [
        "# Reading and writing data in Excel format"
      ]
    },
    {
      "cell_type": "code",
      "execution_count": null,
      "metadata": {
        "id": "wMt0vpttlQNk",
        "outputId": "52950009-3dbe-499e-94e0-345e3455c250"
      },
      "outputs": [
        {
          "data": {
            "text/plain": [
              "        Date   Open   High    Low  Close   Volume\n",
              "0 2014-07-21  83.46  83.53  81.81  81.93  2359300\n",
              "1 2014-07-18  83.30  83.40  82.52  83.35  4020800\n",
              "2 2014-07-17  84.35  84.63  83.33  83.63  1974000\n",
              "3 2014-07-16  83.77  84.91  83.66  84.91  1755600\n",
              "4 2014-07-15  84.30  84.38  83.20  83.58  1874700"
            ]
          },
          "execution_count": 19,
          "metadata": {},
          "output_type": "execute_result"
        }
      ],
      "source": [
        "# read excel file\n",
        "# only reads first sheet (msft in this case)\n",
        "df = pd.read_excel(\"data/stocks.xlsx\")\n",
        "df[:5]"
      ]
    },
    {
      "cell_type": "code",
      "execution_count": null,
      "metadata": {
        "id": "iocR0Ge1lQNk",
        "outputId": "e09196ad-c2f2-4040-e20c-9db637772564"
      },
      "outputs": [
        {
          "data": {
            "text/plain": [
              "        Date   Open   High    Low  Close    Volume\n",
              "0 2014-07-21  94.99  95.00  93.72  93.94  38887700\n",
              "1 2014-07-18  93.62  94.74  93.02  94.43  49898600\n",
              "2 2014-07-17  95.03  95.28  92.57  93.09  57152000\n",
              "3 2014-07-16  96.97  97.10  94.74  94.78  53396300\n",
              "4 2014-07-15  96.80  96.85  95.03  95.32  45477900"
            ]
          },
          "execution_count": 20,
          "metadata": {},
          "output_type": "execute_result"
        }
      ],
      "source": [
        "# read from the aapl worksheet\n",
        "aapl = pd.read_excel(\"data/stocks.xlsx\", sheetname='aapl')\n",
        "aapl[:5]"
      ]
    },
    {
      "cell_type": "code",
      "execution_count": null,
      "metadata": {
        "collapsed": true,
        "id": "KxA8unAYlQNk"
      },
      "outputs": [],
      "source": [
        "# save to an .XLS file, in worksheet 'Sheet1'\n",
        "df.to_excel(\"data/stocks2.xls\")"
      ]
    },
    {
      "cell_type": "code",
      "execution_count": null,
      "metadata": {
        "collapsed": true,
        "id": "Wh9-UfzVlQNk"
      },
      "outputs": [],
      "source": [
        "# write making the worksheet name MSFT\n",
        "df.to_excel(\"data/stocks_msft.xls\", sheet_name='MSFT')"
      ]
    },
    {
      "cell_type": "code",
      "execution_count": null,
      "metadata": {
        "collapsed": true,
        "id": "OF9IWsN-lQNl"
      },
      "outputs": [],
      "source": [
        "# write multiple sheets\n",
        "# requires use of the ExcelWriter class\n",
        "from pandas import ExcelWriter\n",
        "with ExcelWriter(\"data/all_stocks.xls\") as writer:\n",
        "    aapl.to_excel(writer, sheet_name='AAPL')\n",
        "    df.to_excel(writer, sheet_name='MSFT')"
      ]
    },
    {
      "cell_type": "code",
      "execution_count": null,
      "metadata": {
        "collapsed": true,
        "id": "XeektscllQNl"
      },
      "outputs": [],
      "source": [
        "# write to xlsx\n",
        "df.to_excel(\"data/msft2.xlsx\")"
      ]
    },
    {
      "cell_type": "markdown",
      "metadata": {
        "id": "xs8U4MkrlQNm"
      },
      "source": [
        "# Reading and writing JSON files"
      ]
    },
    {
      "cell_type": "markdown",
      "source": [
        "[Pandas DataFrame read html tables參考資料](https://www.learncodewithmike.com/2020/11/read-html-table-using-pandas.html)"
      ],
      "metadata": {
        "id": "VA4wT_aDDAMn"
      }
    },
    {
      "cell_type": "code",
      "source": [
        "bus_table = pd.read_html(\"https://www.ubus.com.tw/Booking/FareInquiry\")\n",
        "print(bus_table)"
      ],
      "metadata": {
        "colab": {
          "base_uri": "https://localhost:8080/"
        },
        "id": "gUyluHuTBjH2",
        "outputId": "bb672cc4-de2c-450b-9765-0c7a1800d81a"
      },
      "execution_count": 44,
      "outputs": [
        {
          "output_type": "stream",
          "name": "stdout",
          "text": [
            "[                國道路線                                       \n",
            "                路線名稱 全票 / 優惠全票 票價        半票票價  軍優票價    去回票價\n",
            "                路線名稱         優惠時段  原價時段  半票票價  軍優票價    去回票價\n",
            "0        【1610】台北－高雄         535元  590元  290元  560元  1,120元\n",
            "1        【1611】台北－台南         430元  480元  265元    -元    930元\n",
            "2    【1612】台北－北二高－台南         430元  480元  265元    -元    930元\n",
            "3   【1612】台北－北二高－北港路         400元  420元  220元    -元      -元\n",
            "4        【1613】台北－屏東         560元  620元  325元    -元      -元\n",
            "..               ...          ...   ...   ...   ...     ...\n",
            "55       【1663】南港－北埔         290元  320元  195元    -元      -元\n",
            "56       【1663】南港－新城         260元  290元  175元    -元      -元\n",
            "57       【1650】高雄－北港         220元  220元  110元    -元      -元\n",
            "58       【1651】高雄－北港         220元  220元  110元    -元      -元\n",
            "59      【1651】高雄－北港路         175元  175元   90元    -元      -元\n",
            "\n",
            "[60 rows x 6 columns],            短區間販售票價表                                   \n",
            "   ※下列短區間請至各自營站現場購買                                   \n",
            "               路線名稱 全票 / 優惠全票 票價        半票票價 軍優票價 去回票價\n",
            "               路線名稱         優惠時段  原價時段  半票票價 軍優票價 去回票價\n",
            "0           台北 - 南崁          55元   55元   25元   -元   -元\n",
            "1         台北 - 中壢新屋          90元   90元   45元   -元   -元\n",
            "2           台北 - 竹科         140元  140元   70元   -元   -元\n",
            "3        台北 - 中港轉運站         250元  270元  140元   -元   -元\n",
            "4        市府轉運站 - 三峽          75元   75元   35元   -元   -元\n",
            "..              ...          ...   ...   ...  ...  ...\n",
            "34       板橋 - 中港轉運站         240元  270元  140元   -元   -元\n",
            "35       中和 - 中港轉運站         240元  260元  130元   -元   -元\n",
            "36       中港轉運站 - 中和         240元  260元  130元   -元   -元\n",
            "37       中港轉運站 - 三峽         240元  260元  130元   -元   -元\n",
            "38       三峽 - 中港轉運站         240元  260元  130元   -元   -元\n",
            "\n",
            "[39 rows x 6 columns],                 國道路線                                                               \n",
            "                路線名稱 全票 / 優惠全票 票價        半票票價 Unnamed: 4_level_1 Unnamed: 5_level_1\n",
            "                路線名稱         優惠時段  原價時段  半票票價 Unnamed: 4_level_2 Unnamed: 5_level_2\n",
            "0        【1610】台北－高雄         490元  490元  240元                NaN                NaN\n",
            "1        【1611】台北－台南         410元  440元  220元                NaN                NaN\n",
            "2    【1612】台北－北二高－台南         410元  450元  220元                NaN                NaN\n",
            "3   【1612】台北－北二高－北港路         360元  360元  180元                NaN                NaN\n",
            "4        【1613】台北－屏東         550元  560元  280元                NaN                NaN\n",
            "..               ...          ...   ...   ...                ...                ...\n",
            "56  【1662】經國轉運站-松山機場          51元   51元   26元                NaN                NaN\n",
            "57       【1650】高雄－北港         220元  220元  110元                NaN                NaN\n",
            "58       【1651】高雄－北港         220元  220元  110元                NaN                NaN\n",
            "59       【1651】高雄－麻豆         115元  115元   55元                NaN                NaN\n",
            "60       【1660】板橋－高雄         490元  500元  250元                NaN                NaN\n",
            "\n",
            "[61 rows x 6 columns],            短區間販售票價表                                                               \n",
            "   ※下列短區間請至各自營站現場購買                                                               \n",
            "               路線名稱 全票 / 優惠全票 票價        半票票價 Unnamed: 4_level_2 Unnamed: 5_level_2\n",
            "               路線名稱         優惠時段  原價時段  半票票價 Unnamed: 4_level_3 Unnamed: 5_level_3\n",
            "0           台北 - 南崁          40元   40元   20元                NaN                NaN\n",
            "1         台北 - 中壢新屋          75元   75元   35元                NaN                NaN\n",
            "2           台北 - 竹科         110元  110元   50元                NaN                NaN\n",
            "3        台北 - 中港轉運站         230元  240元  120元                NaN                NaN\n",
            "4        市府轉運站 - 三峽          60元   60元   30元                NaN                NaN\n",
            "..              ...          ...   ...   ...                ...                ...\n",
            "38       板橋 - 中港轉運站         220元  235元  115元                NaN                NaN\n",
            "39       中和 - 中港轉運站         210元  220元  110元                NaN                NaN\n",
            "40       中港轉運站 - 中和         210元  220元  110元                NaN                NaN\n",
            "41       中港轉運站 - 三峽         220元  220元  110元                NaN                NaN\n",
            "42       三峽 - 中港轉運站         220元  220元  110元                NaN                NaN\n",
            "\n",
            "[43 rows x 6 columns],           轉乘桃園機場票價表                            \n",
            "   ※下列短區間請至各自營站現場購買                            \n",
            "                 區間            全票            半票\n",
            "0        桃園機場 - 三條崙  395+45=440 元  190+20=210 元\n",
            "1         桃園機場 - 台北   70+45=115 元    35+20=55 元\n",
            "2         桃園機場 - 台南  405+45=450 元  190+20=210 元\n",
            "3      桃園機場 - 員林.西港  275+45=320 元  130+20=150 元\n",
            "4         桃園機場 - 嘉義  375+45=420 元  180+20=200 元\n",
            "..              ...           ...           ...\n",
            "6         桃園機場 - 彰化  265+45=310 元  120+20=140 元\n",
            "7      桃園機場 - 竹山.南投  275+45=320 元  130+20=150 元\n",
            "8      桃園機場 - 西螺.虎尾  335+45=380 元  160+20=180 元\n",
            "9      桃園機場 - 豐原.東勢  215+45=260 元  110+20=130 元\n",
            "10        桃園機場 - 高雄  515+45=560 元  250+20=270 元\n",
            "\n",
            "[11 rows x 3 columns]]\n"
          ]
        }
      ]
    },
    {
      "cell_type": "code",
      "source": [
        "print(\"型態：\", type(bus_table))\n",
        "print(\"長度：\", len(bus_table))"
      ],
      "metadata": {
        "colab": {
          "base_uri": "https://localhost:8080/"
        },
        "id": "r5Axxc5XBtKj",
        "outputId": "e74b1baa-7ae8-45b6-84da-934aad0c4e4a"
      },
      "execution_count": 45,
      "outputs": [
        {
          "output_type": "stream",
          "name": "stdout",
          "text": [
            "型態： <class 'list'>\n",
            "長度： 5\n"
          ]
        }
      ]
    },
    {
      "cell_type": "code",
      "source": [
        "bus_df = bus_table[4]  #讀取第四個表格\n",
        "print(bus_df)"
      ],
      "metadata": {
        "colab": {
          "base_uri": "https://localhost:8080/"
        },
        "id": "lW9HlUs4B1UN",
        "outputId": "66fb9e84-a5df-4cf5-9c53-7990dfee0241"
      },
      "execution_count": 50,
      "outputs": [
        {
          "output_type": "stream",
          "name": "stdout",
          "text": [
            "          轉乘桃園機場票價表                            \n",
            "   ※下列短區間請至各自營站現場購買                            \n",
            "                 區間            全票            半票\n",
            "0        桃園機場 - 三條崙  395+45=440 元  190+20=210 元\n",
            "1         桃園機場 - 台北   70+45=115 元    35+20=55 元\n",
            "2         桃園機場 - 台南  405+45=450 元  190+20=210 元\n",
            "3      桃園機場 - 員林.西港  275+45=320 元  130+20=150 元\n",
            "4         桃園機場 - 嘉義  375+45=420 元  180+20=200 元\n",
            "..              ...           ...           ...\n",
            "6         桃園機場 - 彰化  265+45=310 元  120+20=140 元\n",
            "7      桃園機場 - 竹山.南投  275+45=320 元  130+20=150 元\n",
            "8      桃園機場 - 西螺.虎尾  335+45=380 元  160+20=180 元\n",
            "9      桃園機場 - 豐原.東勢  215+45=260 元  110+20=130 元\n",
            "10        桃園機場 - 高雄  515+45=560 元  250+20=270 元\n",
            "\n",
            "[11 rows x 3 columns]\n"
          ]
        }
      ]
    },
    {
      "cell_type": "code",
      "source": [
        "bus_df = bus_table[0]\n",
        "bus_df.columns = [\"路線名稱\", \"優惠時段\", \"原價時段\", \"半票票價\", \"軍優票價\", \"去回票價\"]\n",
        "print(bus_df)"
      ],
      "metadata": {
        "colab": {
          "base_uri": "https://localhost:8080/"
        },
        "id": "P79jA91mCTQm",
        "outputId": "79d6fe81-d0c2-416b-89de-6fc6016e1f1b"
      },
      "execution_count": 51,
      "outputs": [
        {
          "output_type": "stream",
          "name": "stdout",
          "text": [
            "                路線名稱  優惠時段  原價時段  半票票價  軍優票價    去回票價\n",
            "0        【1610】台北－高雄  535元  590元  290元  560元  1,120元\n",
            "1        【1611】台北－台南  430元  480元  265元    -元    930元\n",
            "2    【1612】台北－北二高－台南  430元  480元  265元    -元    930元\n",
            "3   【1612】台北－北二高－北港路  400元  420元  220元    -元      -元\n",
            "4        【1613】台北－屏東  560元  620元  325元    -元      -元\n",
            "..               ...   ...   ...   ...   ...     ...\n",
            "55       【1663】南港－北埔  290元  320元  195元    -元      -元\n",
            "56       【1663】南港－新城  260元  290元  175元    -元      -元\n",
            "57       【1650】高雄－北港  220元  220元  110元    -元      -元\n",
            "58       【1651】高雄－北港  220元  220元  110元    -元      -元\n",
            "59      【1651】高雄－北港路  175元  175元   90元    -元      -元\n",
            "\n",
            "[60 rows x 6 columns]\n"
          ]
        }
      ]
    },
    {
      "cell_type": "code",
      "source": [
        "!wget https://raw.githubusercontent.com/PacktPublishing/Learning-Pandas-Second-Edition/master/data/stocks.json"
      ],
      "metadata": {
        "colab": {
          "base_uri": "https://localhost:8080/"
        },
        "id": "YiBi3mzjyRre",
        "outputId": "88afc10b-ebca-4b9b-e05f-9636595ebd8b"
      },
      "execution_count": 26,
      "outputs": [
        {
          "output_type": "stream",
          "name": "stdout",
          "text": [
            "--2022-03-18 06:55:40--  https://raw.githubusercontent.com/PacktPublishing/Learning-Pandas-Second-Edition/master/data/stocks.json\n",
            "Resolving raw.githubusercontent.com (raw.githubusercontent.com)... 185.199.108.133, 185.199.109.133, 185.199.110.133, ...\n",
            "Connecting to raw.githubusercontent.com (raw.githubusercontent.com)|185.199.108.133|:443... connected.\n",
            "HTTP request sent, awaiting response... 200 OK\n",
            "Length: 403 [text/plain]\n",
            "Saving to: ‘stocks.json’\n",
            "\n",
            "\rstocks.json           0%[                    ]       0  --.-KB/s               \rstocks.json         100%[===================>]     403  --.-KB/s    in 0s      \n",
            "\n",
            "2022-03-18 06:55:40 (13.5 MB/s) - ‘stocks.json’ saved [403/403]\n",
            "\n"
          ]
        }
      ]
    },
    {
      "cell_type": "code",
      "execution_count": 42,
      "metadata": {
        "id": "fxKiBsLSlQNm",
        "outputId": "30447bc3-7b6f-4e5d-f6ba-1907c42c141a",
        "colab": {
          "base_uri": "https://localhost:8080/"
        }
      },
      "outputs": [
        {
          "output_type": "stream",
          "name": "stdout",
          "text": [
            "{\"Date\":{\"0\":1405900800000,\"1\":1405641600000,\"2\":1405555200000,\"3\":1405468800000,\"4\":1405382400000},\"Open\":{\"0\":83.46,\"1\":83.3,\"2\":84.35,\"3\":83.77,\"4\":84.3},\"High\":{\"0\":83.53,\"1\":83.4,\"2\":84.63,\"3\":84.91,\"4\":84.38},\"Low\":{\"0\":81.81,\"1\":82.52,\"2\":83.33,\"3\":83.66,\"4\":83.2},\"Close\":{\"0\":81.93,\"1\":83.35,\"2\":83.63,\"3\":84.91,\"4\":83.58},\"Volume\":{\"0\":2359300,\"1\":4020800,\"2\":1974000,\"3\":1755600,\"4\":1874700}}"
          ]
        }
      ],
      "source": [
        "#將前五筆輸出成stocks.json\n",
        "# wirite the excel data to a JSON file\n",
        "df[:5].to_json(\"./stocks.json\")\n",
        "#輸出stocks.json\n",
        "!cat ./stocks.json # osx or Linux\n",
        "#type data/stocks.json # windows"
      ]
    },
    {
      "cell_type": "code",
      "execution_count": 28,
      "metadata": {
        "id": "aG0OPLKBlQNm",
        "outputId": "7e71b12f-208f-4932-d78c-e93c03434328",
        "colab": {
          "base_uri": "https://localhost:8080/",
          "height": 145
        }
      },
      "outputs": [
        {
          "output_type": "execute_result",
          "data": {
            "text/plain": [
              "        Date   Open   High    Low  Close   Volume\n",
              "0 2014-07-21  83.46  83.53  81.81  81.93  2359300\n",
              "1 2014-07-18  83.30  83.40  82.52  83.35  4020800"
            ],
            "text/html": [
              "\n",
              "  <div id=\"df-98c6fc49-bba4-4cd6-99c2-064f35841480\">\n",
              "    <div class=\"colab-df-container\">\n",
              "      None\n",
              "      <button class=\"colab-df-convert\" onclick=\"convertToInteractive('df-98c6fc49-bba4-4cd6-99c2-064f35841480')\"\n",
              "              title=\"Convert this dataframe to an interactive table.\"\n",
              "              style=\"display:none;\">\n",
              "        \n",
              "  <svg xmlns=\"http://www.w3.org/2000/svg\" height=\"24px\"viewBox=\"0 0 24 24\"\n",
              "       width=\"24px\">\n",
              "    <path d=\"M0 0h24v24H0V0z\" fill=\"none\"/>\n",
              "    <path d=\"M18.56 5.44l.94 2.06.94-2.06 2.06-.94-2.06-.94-.94-2.06-.94 2.06-2.06.94zm-11 1L8.5 8.5l.94-2.06 2.06-.94-2.06-.94L8.5 2.5l-.94 2.06-2.06.94zm10 10l.94 2.06.94-2.06 2.06-.94-2.06-.94-.94-2.06-.94 2.06-2.06.94z\"/><path d=\"M17.41 7.96l-1.37-1.37c-.4-.4-.92-.59-1.43-.59-.52 0-1.04.2-1.43.59L10.3 9.45l-7.72 7.72c-.78.78-.78 2.05 0 2.83L4 21.41c.39.39.9.59 1.41.59.51 0 1.02-.2 1.41-.59l7.78-7.78 2.81-2.81c.8-.78.8-2.07 0-2.86zM5.41 20L4 18.59l7.72-7.72 1.47 1.35L5.41 20z\"/>\n",
              "  </svg>\n",
              "      </button>\n",
              "      \n",
              "  <style>\n",
              "    .colab-df-container {\n",
              "      display:flex;\n",
              "      flex-wrap:wrap;\n",
              "      gap: 12px;\n",
              "    }\n",
              "\n",
              "    .colab-df-convert {\n",
              "      background-color: #E8F0FE;\n",
              "      border: none;\n",
              "      border-radius: 50%;\n",
              "      cursor: pointer;\n",
              "      display: none;\n",
              "      fill: #1967D2;\n",
              "      height: 32px;\n",
              "      padding: 0 0 0 0;\n",
              "      width: 32px;\n",
              "    }\n",
              "\n",
              "    .colab-df-convert:hover {\n",
              "      background-color: #E2EBFA;\n",
              "      box-shadow: 0px 1px 2px rgba(60, 64, 67, 0.3), 0px 1px 3px 1px rgba(60, 64, 67, 0.15);\n",
              "      fill: #174EA6;\n",
              "    }\n",
              "\n",
              "    [theme=dark] .colab-df-convert {\n",
              "      background-color: #3B4455;\n",
              "      fill: #D2E3FC;\n",
              "    }\n",
              "\n",
              "    [theme=dark] .colab-df-convert:hover {\n",
              "      background-color: #434B5C;\n",
              "      box-shadow: 0px 1px 3px 1px rgba(0, 0, 0, 0.15);\n",
              "      filter: drop-shadow(0px 1px 2px rgba(0, 0, 0, 0.3));\n",
              "      fill: #FFFFFF;\n",
              "    }\n",
              "  </style>\n",
              "\n",
              "      <script>\n",
              "        const buttonEl =\n",
              "          document.querySelector('#df-98c6fc49-bba4-4cd6-99c2-064f35841480 button.colab-df-convert');\n",
              "        buttonEl.style.display =\n",
              "          google.colab.kernel.accessAllowed ? 'block' : 'none';\n",
              "\n",
              "        async function convertToInteractive(key) {\n",
              "          const element = document.querySelector('#df-98c6fc49-bba4-4cd6-99c2-064f35841480');\n",
              "          const dataTable =\n",
              "            await google.colab.kernel.invokeFunction('convertToInteractive',\n",
              "                                                     [key], {});\n",
              "          if (!dataTable) return;\n",
              "\n",
              "          const docLinkHtml = 'Like what you see? Visit the ' +\n",
              "            '<a target=\"_blank\" href=https://colab.research.google.com/notebooks/data_table.ipynb>data table notebook</a>'\n",
              "            + ' to learn more about interactive tables.';\n",
              "          element.innerHTML = '';\n",
              "          dataTable['output_type'] = 'display_data';\n",
              "          await google.colab.output.renderOutput(dataTable, element);\n",
              "          const docLink = document.createElement('div');\n",
              "          docLink.innerHTML = docLinkHtml;\n",
              "          element.appendChild(docLink);\n",
              "        }\n",
              "      </script>\n",
              "    </div>\n",
              "  </div>\n",
              "  "
            ]
          },
          "metadata": {},
          "execution_count": 28
        }
      ],
      "source": [
        "#輸出成表格\n",
        "# read data in from JSON\n",
        "df_from_json = pd.read_json(\"./stocks.json\")\n",
        "df_from_json[:5]"
      ]
    },
    {
      "cell_type": "code",
      "execution_count": 31,
      "metadata": {
        "id": "m11fAzl9lQNn",
        "outputId": "47ff7a9d-03d5-4d09-8320-a02f56c18726",
        "colab": {
          "base_uri": "https://localhost:8080/"
        }
      },
      "outputs": [
        {
          "output_type": "stream",
          "name": "stdout",
          "text": [
            "<table border=\"1\" class=\"dataframe\">\n",
            "  <thead>\n",
            "    <tr style=\"text-align: right;\">\n",
            "      <th></th>\n",
            "      <th>Date</th>\n",
            "      <th>Open</th>\n",
            "      <th>High</th>\n",
            "      <th>Low</th>\n",
            "      <th>Close</th>\n",
            "      <th>Volume</th>\n"
          ]
        }
      ],
      "source": [
        "# read the stock data\n",
        "df = pd.read_excel(\"./stocks.xlsx\")\n",
        "# write the first two rows to HTML\n",
        "df.head(2).to_html(\"./stocks.html\")\n",
        "# check the first 28 lines of the output\n",
        "!head -n 10 ./stocks.html # max or Linux\n",
        "# type data/stocks.html # window, but prints the entire file"
      ]
    },
    {
      "cell_type": "code",
      "source": [
        "#讀取stocks.xlsx檔 並輸出前五筆\n",
        "# read excel file\n",
        "# only reads first sheet (msft in this case)\n",
        "df = pd.read_excel(\"./stocks.xlsx\")\n",
        "df[:5]"
      ],
      "metadata": {
        "colab": {
          "base_uri": "https://localhost:8080/",
          "height": 205
        },
        "id": "1QMQaX1cztWa",
        "outputId": "9a0c0529-979a-4e29-a24a-e65c5effef9c"
      },
      "execution_count": 33,
      "outputs": [
        {
          "output_type": "execute_result",
          "data": {
            "text/plain": [
              "        Date   Open   High    Low  Close   Volume\n",
              "0 2014-07-21  83.46  83.53  81.81  81.93  2359300\n",
              "1 2014-07-18  83.30  83.40  82.52  83.35  4020800\n",
              "2 2014-07-17  84.35  84.63  83.33  83.63  1974000\n",
              "3 2014-07-16  83.77  84.91  83.66  84.91  1755600\n",
              "4 2014-07-15  84.30  84.38  83.20  83.58  1874700"
            ],
            "text/html": [
              "\n",
              "  <div id=\"df-a748a86c-3fe3-484b-ae86-d5d93028be4c\">\n",
              "    <div class=\"colab-df-container\">\n",
              "      None\n",
              "      <button class=\"colab-df-convert\" onclick=\"convertToInteractive('df-a748a86c-3fe3-484b-ae86-d5d93028be4c')\"\n",
              "              title=\"Convert this dataframe to an interactive table.\"\n",
              "              style=\"display:none;\">\n",
              "        \n",
              "  <svg xmlns=\"http://www.w3.org/2000/svg\" height=\"24px\"viewBox=\"0 0 24 24\"\n",
              "       width=\"24px\">\n",
              "    <path d=\"M0 0h24v24H0V0z\" fill=\"none\"/>\n",
              "    <path d=\"M18.56 5.44l.94 2.06.94-2.06 2.06-.94-2.06-.94-.94-2.06-.94 2.06-2.06.94zm-11 1L8.5 8.5l.94-2.06 2.06-.94-2.06-.94L8.5 2.5l-.94 2.06-2.06.94zm10 10l.94 2.06.94-2.06 2.06-.94-2.06-.94-.94-2.06-.94 2.06-2.06.94z\"/><path d=\"M17.41 7.96l-1.37-1.37c-.4-.4-.92-.59-1.43-.59-.52 0-1.04.2-1.43.59L10.3 9.45l-7.72 7.72c-.78.78-.78 2.05 0 2.83L4 21.41c.39.39.9.59 1.41.59.51 0 1.02-.2 1.41-.59l7.78-7.78 2.81-2.81c.8-.78.8-2.07 0-2.86zM5.41 20L4 18.59l7.72-7.72 1.47 1.35L5.41 20z\"/>\n",
              "  </svg>\n",
              "      </button>\n",
              "      \n",
              "  <style>\n",
              "    .colab-df-container {\n",
              "      display:flex;\n",
              "      flex-wrap:wrap;\n",
              "      gap: 12px;\n",
              "    }\n",
              "\n",
              "    .colab-df-convert {\n",
              "      background-color: #E8F0FE;\n",
              "      border: none;\n",
              "      border-radius: 50%;\n",
              "      cursor: pointer;\n",
              "      display: none;\n",
              "      fill: #1967D2;\n",
              "      height: 32px;\n",
              "      padding: 0 0 0 0;\n",
              "      width: 32px;\n",
              "    }\n",
              "\n",
              "    .colab-df-convert:hover {\n",
              "      background-color: #E2EBFA;\n",
              "      box-shadow: 0px 1px 2px rgba(60, 64, 67, 0.3), 0px 1px 3px 1px rgba(60, 64, 67, 0.15);\n",
              "      fill: #174EA6;\n",
              "    }\n",
              "\n",
              "    [theme=dark] .colab-df-convert {\n",
              "      background-color: #3B4455;\n",
              "      fill: #D2E3FC;\n",
              "    }\n",
              "\n",
              "    [theme=dark] .colab-df-convert:hover {\n",
              "      background-color: #434B5C;\n",
              "      box-shadow: 0px 1px 3px 1px rgba(0, 0, 0, 0.15);\n",
              "      filter: drop-shadow(0px 1px 2px rgba(0, 0, 0, 0.3));\n",
              "      fill: #FFFFFF;\n",
              "    }\n",
              "  </style>\n",
              "\n",
              "      <script>\n",
              "        const buttonEl =\n",
              "          document.querySelector('#df-a748a86c-3fe3-484b-ae86-d5d93028be4c button.colab-df-convert');\n",
              "        buttonEl.style.display =\n",
              "          google.colab.kernel.accessAllowed ? 'block' : 'none';\n",
              "\n",
              "        async function convertToInteractive(key) {\n",
              "          const element = document.querySelector('#df-a748a86c-3fe3-484b-ae86-d5d93028be4c');\n",
              "          const dataTable =\n",
              "            await google.colab.kernel.invokeFunction('convertToInteractive',\n",
              "                                                     [key], {});\n",
              "          if (!dataTable) return;\n",
              "\n",
              "          const docLinkHtml = 'Like what you see? Visit the ' +\n",
              "            '<a target=\"_blank\" href=https://colab.research.google.com/notebooks/data_table.ipynb>data table notebook</a>'\n",
              "            + ' to learn more about interactive tables.';\n",
              "          element.innerHTML = '';\n",
              "          dataTable['output_type'] = 'display_data';\n",
              "          await google.colab.output.renderOutput(dataTable, element);\n",
              "          const docLink = document.createElement('div');\n",
              "          docLink.innerHTML = docLinkHtml;\n",
              "          element.appendChild(docLink);\n",
              "        }\n",
              "      </script>\n",
              "    </div>\n",
              "  </div>\n",
              "  "
            ]
          },
          "metadata": {},
          "execution_count": 33
        }
      ]
    },
    {
      "cell_type": "code",
      "source": [
        "#讀取stocks.xlsx中的appl表並輸出前五筆 給予別名為aapl\n",
        "# read from the aapl worksheet\n",
        "aapl = pd.read_excel(\"./stocks.xlsx\", sheet_name='aapl')\n",
        "aapl[:5]"
      ],
      "metadata": {
        "colab": {
          "base_uri": "https://localhost:8080/",
          "height": 205
        },
        "id": "G86PPrhc0LHn",
        "outputId": "0fdf9fba-5a20-4213-f7f3-0d5a5164564d"
      },
      "execution_count": 39,
      "outputs": [
        {
          "output_type": "execute_result",
          "data": {
            "text/plain": [
              "        Date   Open   High    Low  Close    Volume\n",
              "0 2014-07-21  94.99  95.00  93.72  93.94  38887700\n",
              "1 2014-07-18  93.62  94.74  93.02  94.43  49898600\n",
              "2 2014-07-17  95.03  95.28  92.57  93.09  57152000\n",
              "3 2014-07-16  96.97  97.10  94.74  94.78  53396300\n",
              "4 2014-07-15  96.80  96.85  95.03  95.32  45477900"
            ],
            "text/html": [
              "\n",
              "  <div id=\"df-c79e7459-81c2-4870-9ac0-5fe4c06e5b6e\">\n",
              "    <div class=\"colab-df-container\">\n",
              "      None\n",
              "      <button class=\"colab-df-convert\" onclick=\"convertToInteractive('df-c79e7459-81c2-4870-9ac0-5fe4c06e5b6e')\"\n",
              "              title=\"Convert this dataframe to an interactive table.\"\n",
              "              style=\"display:none;\">\n",
              "        \n",
              "  <svg xmlns=\"http://www.w3.org/2000/svg\" height=\"24px\"viewBox=\"0 0 24 24\"\n",
              "       width=\"24px\">\n",
              "    <path d=\"M0 0h24v24H0V0z\" fill=\"none\"/>\n",
              "    <path d=\"M18.56 5.44l.94 2.06.94-2.06 2.06-.94-2.06-.94-.94-2.06-.94 2.06-2.06.94zm-11 1L8.5 8.5l.94-2.06 2.06-.94-2.06-.94L8.5 2.5l-.94 2.06-2.06.94zm10 10l.94 2.06.94-2.06 2.06-.94-2.06-.94-.94-2.06-.94 2.06-2.06.94z\"/><path d=\"M17.41 7.96l-1.37-1.37c-.4-.4-.92-.59-1.43-.59-.52 0-1.04.2-1.43.59L10.3 9.45l-7.72 7.72c-.78.78-.78 2.05 0 2.83L4 21.41c.39.39.9.59 1.41.59.51 0 1.02-.2 1.41-.59l7.78-7.78 2.81-2.81c.8-.78.8-2.07 0-2.86zM5.41 20L4 18.59l7.72-7.72 1.47 1.35L5.41 20z\"/>\n",
              "  </svg>\n",
              "      </button>\n",
              "      \n",
              "  <style>\n",
              "    .colab-df-container {\n",
              "      display:flex;\n",
              "      flex-wrap:wrap;\n",
              "      gap: 12px;\n",
              "    }\n",
              "\n",
              "    .colab-df-convert {\n",
              "      background-color: #E8F0FE;\n",
              "      border: none;\n",
              "      border-radius: 50%;\n",
              "      cursor: pointer;\n",
              "      display: none;\n",
              "      fill: #1967D2;\n",
              "      height: 32px;\n",
              "      padding: 0 0 0 0;\n",
              "      width: 32px;\n",
              "    }\n",
              "\n",
              "    .colab-df-convert:hover {\n",
              "      background-color: #E2EBFA;\n",
              "      box-shadow: 0px 1px 2px rgba(60, 64, 67, 0.3), 0px 1px 3px 1px rgba(60, 64, 67, 0.15);\n",
              "      fill: #174EA6;\n",
              "    }\n",
              "\n",
              "    [theme=dark] .colab-df-convert {\n",
              "      background-color: #3B4455;\n",
              "      fill: #D2E3FC;\n",
              "    }\n",
              "\n",
              "    [theme=dark] .colab-df-convert:hover {\n",
              "      background-color: #434B5C;\n",
              "      box-shadow: 0px 1px 3px 1px rgba(0, 0, 0, 0.15);\n",
              "      filter: drop-shadow(0px 1px 2px rgba(0, 0, 0, 0.3));\n",
              "      fill: #FFFFFF;\n",
              "    }\n",
              "  </style>\n",
              "\n",
              "      <script>\n",
              "        const buttonEl =\n",
              "          document.querySelector('#df-c79e7459-81c2-4870-9ac0-5fe4c06e5b6e button.colab-df-convert');\n",
              "        buttonEl.style.display =\n",
              "          google.colab.kernel.accessAllowed ? 'block' : 'none';\n",
              "\n",
              "        async function convertToInteractive(key) {\n",
              "          const element = document.querySelector('#df-c79e7459-81c2-4870-9ac0-5fe4c06e5b6e');\n",
              "          const dataTable =\n",
              "            await google.colab.kernel.invokeFunction('convertToInteractive',\n",
              "                                                     [key], {});\n",
              "          if (!dataTable) return;\n",
              "\n",
              "          const docLinkHtml = 'Like what you see? Visit the ' +\n",
              "            '<a target=\"_blank\" href=https://colab.research.google.com/notebooks/data_table.ipynb>data table notebook</a>'\n",
              "            + ' to learn more about interactive tables.';\n",
              "          element.innerHTML = '';\n",
              "          dataTable['output_type'] = 'display_data';\n",
              "          await google.colab.output.renderOutput(dataTable, element);\n",
              "          const docLink = document.createElement('div');\n",
              "          docLink.innerHTML = docLinkHtml;\n",
              "          element.appendChild(docLink);\n",
              "        }\n",
              "      </script>\n",
              "    </div>\n",
              "  </div>\n",
              "  "
            ]
          },
          "metadata": {},
          "execution_count": 39
        }
      ]
    },
    {
      "cell_type": "code",
      "source": [
        "#將df轉存為stocks2.xls\n",
        "# save to an .XLS file, in worksheet 'Sheet1'\n",
        "df.to_excel(\"./stocks2.xls\")"
      ],
      "metadata": {
        "colab": {
          "base_uri": "https://localhost:8080/"
        },
        "id": "5GqBFV0w1oca",
        "outputId": "3e641fe7-b6ef-4cf4-8087-6dcc07d8502a"
      },
      "execution_count": 41,
      "outputs": [
        {
          "output_type": "stream",
          "name": "stderr",
          "text": [
            "/usr/local/lib/python3.7/dist-packages/ipykernel_launcher.py:2: FutureWarning: As the xlwt package is no longer maintained, the xlwt engine will be removed in a future version of pandas. This is the only engine in pandas that supports writing in the xls format. Install openpyxl and write to an xlsx file instead. You can set the option io.excel.xls.writer to 'xlwt' to silence this warning. While this option is deprecated and will also raise a warning, it can be globally set and the warning suppressed.\n",
            "  \n"
          ]
        }
      ]
    },
    {
      "cell_type": "markdown",
      "metadata": {
        "id": "4jRQqDPFlQNp"
      },
      "source": [
        "# Reading and writing from/to SQL databases"
      ]
    },
    {
      "cell_type": "code",
      "execution_count": null,
      "metadata": {
        "collapsed": true,
        "id": "T6CeIT_slQNp"
      },
      "outputs": [],
      "source": [
        "# reference SQLite\n",
        "import sqlite3\n",
        "\n",
        "# read in the stock data from CSV\n",
        "msft = pd.read_csv(\"data/msft.csv\")\n",
        "msft[\"Symbol\"]=\"MSFT\"\n",
        "aapl = pd.read_csv(\"data/aapl.csv\")\n",
        "aapl[\"Symbol\"]=\"AAPL\"\n",
        "\n",
        "# create connection\n",
        "connection = sqlite3.connect(\"data/stocks.sqlite\")\n",
        "# .to_sql() will create SQL to store the DataFrame\n",
        "# in the specified table.  if_exists specifies\n",
        "# what to do if the table already exists\n",
        "msft.to_sql(\"STOCK_DATA\", connection, if_exists=\"replace\")\n",
        "aapl.to_sql(\"STOCK_DATA\", connection, if_exists=\"append\")\n",
        "\n",
        "# commit the SQL and close the connection\n",
        "connection.commit()\n",
        "connection.close()"
      ]
    },
    {
      "cell_type": "code",
      "execution_count": null,
      "metadata": {
        "id": "WQl02xwslQNq",
        "outputId": "7e618bdc-13ba-4ebe-8e8a-a6346a71e1fb"
      },
      "outputs": [
        {
          "data": {
            "text/plain": [
              "            Date   Open   High    Low  Close   Volume Symbol\n",
              "index                                                       \n",
              "0      7/21/2014  83.46  83.53  81.81  81.93  2359300   MSFT\n",
              "1      7/18/2014  83.30  83.40  82.52  83.35  4020800   MSFT\n",
              "2      7/17/2014  84.35  84.63  83.33  83.63  1974000   MSFT\n",
              "3      7/16/2014  83.77  84.91  83.66  84.91  1755600   MSFT\n",
              "4      7/15/2014  84.30  84.38  83.20  83.58  1874700   MSFT"
            ]
          },
          "execution_count": 35,
          "metadata": {},
          "output_type": "execute_result"
        }
      ],
      "source": [
        "# connect to the database file\n",
        "connection = sqlite3.connect(\"data/stocks.sqlite\")\n",
        "\n",
        "# query all records in STOCK_DATA\n",
        "# returns a DataFrame\n",
        "# inde_col specifies which column to make the DataFrame index\n",
        "stocks = pd.io.sql.read_sql(\"SELECT * FROM STOCK_DATA;\", \n",
        "                             connection, index_col='index')\n",
        "\n",
        "# close the connection\n",
        "connection.close()\n",
        "\n",
        "# report the head of the data retrieved\n",
        "stocks[:5]"
      ]
    },
    {
      "cell_type": "code",
      "execution_count": null,
      "metadata": {
        "id": "mzcQ4VwQlQNq",
        "outputId": "53a33a7f-4653-4841-b3d1-636fcd1f25e5"
      },
      "outputs": [
        {
          "data": {
            "text/plain": [
              "            Date   Open   High    Low  Close    Volume Symbol\n",
              "index                                                        \n",
              "1081   5/21/2010  42.22  42.35  40.99  42.00  33610800   MSFT\n",
              "1097   4/29/2010  46.80  46.95  44.65  45.92  47076200   MSFT\n",
              "1826   6/15/2007  89.80  92.10  89.55  92.04  30656400   MSFT\n",
              "3455   3/16/2001  47.00  47.80  46.10  45.33  40806400   MSFT\n",
              "3712   3/17/2000  49.50  50.00  48.29  50.00  50860500   MSFT"
            ]
          },
          "execution_count": 36,
          "metadata": {},
          "output_type": "execute_result"
        }
      ],
      "source": [
        "# open the connection\n",
        "connection = sqlite3.connect(\"data/stocks.sqlite\")\n",
        "# construct the query string\n",
        "query = \"SELECT * FROM STOCK_DATA WHERE \" + \\\n",
        "        \"Volume>29200100 AND Symbol='MSFT';\"\n",
        "# execute and close connection\n",
        "items = pd.io.sql.read_sql(query, connection, index_col='index')\n",
        "connection.close()\n",
        "# report the query result\n",
        "items"
      ]
    },
    {
      "cell_type": "markdown",
      "metadata": {
        "id": "WQgVNmPflQNq"
      },
      "source": [
        "# Reading stock data from Google Finance"
      ]
    },
    {
      "cell_type": "code",
      "execution_count": null,
      "metadata": {
        "collapsed": true,
        "id": "R8PFggbylQNq"
      },
      "outputs": [],
      "source": [
        "# import data reader package\n",
        "import pandas_datareader as pdr"
      ]
    },
    {
      "cell_type": "code",
      "execution_count": null,
      "metadata": {
        "id": "Ptq133yhlQNr",
        "outputId": "32f1e160-e506-41b1-cef3-c39f80bee3fc"
      },
      "outputs": [
        {
          "data": {
            "text/plain": [
              "             Open   High    Low  Close    Volume\n",
              "Date                                            \n",
              "2017-04-03  65.81  65.94  65.19  65.55  20400871\n",
              "2017-04-04  65.39  65.81  65.28  65.73  12997449\n",
              "2017-04-05  66.30  66.35  65.44  65.56  21448594\n",
              "2017-04-06  65.60  66.06  65.48  65.73  18103453\n",
              "2017-04-07  65.85  65.96  65.44  65.68  14108533"
            ]
          },
          "execution_count": 38,
          "metadata": {},
          "output_type": "execute_result"
        }
      ],
      "source": [
        "# read from google and display the head of the data\n",
        "start = datetime(2017, 4, 1)\n",
        "end = datetime(2017, 4, 30)\n",
        "goog = pdr.data.DataReader(\"MSFT\", 'google', start, end)\n",
        "goog[:5]"
      ]
    },
    {
      "cell_type": "markdown",
      "metadata": {
        "id": "Ks0VM7BhlQNr"
      },
      "source": [
        "# Retrieving options data from Google Finance"
      ]
    },
    {
      "cell_type": "code",
      "execution_count": null,
      "metadata": {
        "collapsed": true,
        "id": "VbgD5_mvlQNr"
      },
      "outputs": [],
      "source": [
        "# read options for MSFT\n",
        "options = pdr.data.Options('MSFT', 'google')"
      ]
    },
    {
      "cell_type": "code",
      "execution_count": null,
      "metadata": {
        "id": "nxjoCPq_lQNr",
        "outputId": "a653eb2c-2234-463f-f286-7c69d488f53e"
      },
      "outputs": [
        {
          "data": {
            "text/plain": [
              "[datetime.date(2018, 1, 19)]"
            ]
          },
          "execution_count": 40,
          "metadata": {},
          "output_type": "execute_result"
        }
      ],
      "source": [
        "options.expiry_dates"
      ]
    },
    {
      "cell_type": "code",
      "execution_count": null,
      "metadata": {
        "id": "RRNaBT0AlQN3",
        "outputId": "f9ee8a70-47d6-4e86-978b-ac845ffedc38"
      },
      "outputs": [
        {
          "data": {
            "text/plain": [
              "                                             Last    Bid    Ask\n",
              "Strike Expiry     Type Symbol                                  \n",
              "23.0   2018-01-19 call MSFT180119C00023000  45.34  46.90  48.80\n",
              "                  put  MSFT180119P00023000   0.02   0.01   0.03\n",
              "25.0   2018-01-19 call MSFT180119C00025000  43.25  45.05  46.20\n",
              "                  put  MSFT180119P00025000   0.04   0.02   0.04\n",
              "28.0   2018-01-19 call MSFT180119C00028000  41.55  41.85  42.90"
            ]
          },
          "execution_count": 41,
          "metadata": {},
          "output_type": "execute_result"
        }
      ],
      "source": [
        "data = options.get_options_data(expiry=options.expiry_dates[0])\n",
        "data.iloc[:5,:3]"
      ]
    },
    {
      "cell_type": "code",
      "execution_count": null,
      "metadata": {
        "id": "Hzq5nLbClQN3",
        "outputId": "6035d4cf-28a9-469b-ebee-069f2c0888bd"
      },
      "outputs": [
        {
          "data": {
            "text/plain": [
              "                                            Last   Bid   Ask\n",
              "Strike Expiry     Type Symbol                               \n",
              "30.0   2018-01-19 put  MSFT180119P00030000  0.06  0.04  0.07"
            ]
          },
          "execution_count": 42,
          "metadata": {},
          "output_type": "execute_result"
        }
      ],
      "source": [
        "# get all puts at strike price of $30 (first four columns only)\n",
        "data.loc[(30, slice(None), 'put'), :].iloc[0:5, 0:3]"
      ]
    },
    {
      "cell_type": "code",
      "execution_count": null,
      "metadata": {
        "id": "zO284YiUlQN3",
        "outputId": "3f8249d2-f9ad-45da-8baf-8fa4794f992e"
      },
      "outputs": [
        {
          "data": {
            "text/plain": [
              "                                            Last   Bid   Ask\n",
              "Strike Expiry     Type Symbol                               \n",
              "30.0   2018-01-19 put  MSFT180119P00030000  0.06  0.04  0.07"
            ]
          },
          "execution_count": 43,
          "metadata": {},
          "output_type": "execute_result"
        }
      ],
      "source": [
        "# put options at strike of $80, between 2017-06-01 and 2017-06-30\n",
        "data.loc[(30, slice('20180119','20180130'), 'put'), :] \\\n",
        "    .iloc[:, 0:3]"
      ]
    },
    {
      "cell_type": "markdown",
      "metadata": {
        "id": "_sUFycz8lQN4"
      },
      "source": [
        "# Reading economic data from the Federal Reserve Bank of St. Louis"
      ]
    },
    {
      "cell_type": "code",
      "execution_count": null,
      "metadata": {
        "id": "hGfpc9HjlQN4",
        "outputId": "15cd06cc-d633-4a38-dc4c-0d48806837aa"
      },
      "outputs": [
        {
          "name": "stderr",
          "output_type": "stream",
          "text": [
            "/Users/michaelheydt/anaconda/lib/python3.6/site-packages/ipykernel/__main__.py:5: DeprecationWarning: pandas.core.common.is_list_like is deprecated. import from the public API: pandas.api.types.is_list_like instead\n"
          ]
        },
        {
          "data": {
            "text/plain": [
              "                GDP\n",
              "DATE               \n",
              "2012-01-01  15973.9\n",
              "2012-04-01  16121.9\n",
              "2012-07-01  16227.9\n",
              "2012-10-01  16297.3\n",
              "2013-01-01  16475.4"
            ]
          },
          "execution_count": 44,
          "metadata": {},
          "output_type": "execute_result"
        }
      ],
      "source": [
        "# read GDP data from FRED\n",
        "gdp = pdr.data.FredReader(\"GDP\",\n",
        "                     date(2012, 1, 1), \n",
        "                     date(2014, 1, 27))\n",
        "gdp.read()[:5]"
      ]
    },
    {
      "cell_type": "code",
      "execution_count": null,
      "metadata": {
        "id": "Dsf56H-KlQN4",
        "outputId": "b2585ff9-e95f-47a5-e770-d864fab60ebd"
      },
      "outputs": [
        {
          "name": "stderr",
          "output_type": "stream",
          "text": [
            "/Users/michaelheydt/anaconda/lib/python3.6/site-packages/ipykernel/__main__.py:4: DeprecationWarning: pandas.core.common.is_list_like is deprecated. import from the public API: pandas.api.types.is_list_like instead\n"
          ]
        },
        {
          "data": {
            "text/plain": [
              "            A576RC1A027NBEA\n",
              "DATE                       \n",
              "1929-01-01             50.5\n",
              "1930-01-01             46.2\n",
              "1931-01-01             39.2\n",
              "1932-01-01             30.5\n",
              "1933-01-01             29.0"
            ]
          },
          "execution_count": 45,
          "metadata": {},
          "output_type": "execute_result"
        }
      ],
      "source": [
        "# Get Compensation of employees: Wages and salaries\n",
        "pdr.data.FredReader(\"A576RC1A027NBEA\",\n",
        "                date(1929, 1, 1),\n",
        "                date(2013, 1, 1)).read()[:5]"
      ]
    },
    {
      "cell_type": "markdown",
      "metadata": {
        "id": "snB_wrTglQN4"
      },
      "source": [
        "# Accessing Kenneth French data"
      ]
    },
    {
      "cell_type": "code",
      "execution_count": null,
      "metadata": {
        "id": "t7GLji4xlQN5",
        "outputId": "83485127-5a27-4b9a-e4cb-22b36d5ca72f"
      },
      "outputs": [
        {
          "data": {
            "text/plain": [
              "         Mkt-RF   SMB   HML   WML    RF\n",
              "Date                                   \n",
              "2010-01   -3.70  2.70 -0.29 -2.23  0.00\n",
              "2010-02    1.24  0.14  0.10  1.59  0.00\n",
              "2010-03    6.30 -0.26  3.18  4.26  0.01\n",
              "2010-04    0.44  3.78  0.77  1.60  0.01\n",
              "2010-05   -9.52  0.17 -2.54 -0.56  0.01"
            ]
          },
          "execution_count": 46,
          "metadata": {},
          "output_type": "execute_result"
        }
      ],
      "source": [
        "# read from Kenneth French fama global factors data set\n",
        "factors = pdr.data.FamaFrenchReader(\"Global_Factors\").read()\n",
        "factors[0][:5]"
      ]
    },
    {
      "cell_type": "markdown",
      "metadata": {
        "id": "2Y-LNu4hlQN5"
      },
      "source": [
        "# Reading from the World Bank"
      ]
    },
    {
      "cell_type": "code",
      "execution_count": null,
      "metadata": {
        "id": "vAb177_JlQN5",
        "outputId": "6ec546cc-6b53-4475-eb5b-c2b3850ac5c1"
      },
      "outputs": [
        {
          "data": {
            "text/plain": [
              "                     id                                     name\n",
              "0    1.0.HCount.1.90usd          Poverty Headcount ($1.90 a day)\n",
              "1     1.0.HCount.2.5usd          Poverty Headcount ($2.50 a day)\n",
              "2  1.0.HCount.Mid10to50    Middle Class ($10-50 a day) Headcount\n",
              "3       1.0.HCount.Ofcl  Official Moderate Poverty Rate-National\n",
              "4   1.0.HCount.Poor4uds             Poverty Headcount ($4 a day)"
            ]
          },
          "execution_count": 47,
          "metadata": {},
          "output_type": "execute_result"
        }
      ],
      "source": [
        "# get all indicators\n",
        "from pandas_datareader import wb\n",
        "all_indicators = pdr.wb.get_indicators()\n",
        "all_indicators.iloc[:5,:2]"
      ]
    },
    {
      "cell_type": "code",
      "execution_count": null,
      "metadata": {
        "id": "xoK5lvAvlQN5",
        "outputId": "1897a381-6489-4f76-9e0e-890872893ae7"
      },
      "outputs": [
        {
          "data": {
            "text/plain": [
              "                     id                                               name\n",
              "8413        SE.SCH.LIFE  School life expectancy, primary to tertiary, b...\n",
              "9626  SP.DYN.LE00.FE.IN           Life expectancy at birth, female (years)\n",
              "9627     SP.DYN.LE00.IN            Life expectancy at birth, total (years)\n",
              "9628  SP.DYN.LE00.MA.IN             Life expectancy at birth, male (years)\n",
              "9629  SP.DYN.LE60.FE.IN                  Life expectancy at age 60, female"
            ]
          },
          "execution_count": 48,
          "metadata": {},
          "output_type": "execute_result"
        }
      ],
      "source": [
        "# search of life expectancy indicators\n",
        "le_indicators = pdr.wb.search(\"life expectancy\")\n",
        "# report first three rows, first two columns\n",
        "le_indicators.iloc[:5,:2]"
      ]
    },
    {
      "cell_type": "code",
      "execution_count": null,
      "metadata": {
        "id": "y7vUaCPvlQN6",
        "outputId": "63190551-1954-46d6-e464-232805d946fd"
      },
      "outputs": [
        {
          "data": {
            "text/plain": [
              "          name       capitalCity iso2c\n",
              "0        Aruba        Oranjestad    AW\n",
              "1  Afghanistan             Kabul    AF\n",
              "2       Africa                      A9\n",
              "3       Angola            Luanda    AO\n",
              "4      Albania            Tirane    AL\n",
              "5      Andorra  Andorra la Vella    AD"
            ]
          },
          "execution_count": 49,
          "metadata": {},
          "output_type": "execute_result"
        }
      ],
      "source": [
        "# get countries and show the 3 digit code and name\n",
        "countries = pdr.wb.get_countries()\n",
        "# show a subset of the country data\n",
        "countries.loc[0:5,['name', 'capitalCity', 'iso2c']]"
      ]
    },
    {
      "cell_type": "code",
      "execution_count": null,
      "metadata": {
        "id": "IsSlLil0lQN6",
        "outputId": "86d7ae57-46f3-497f-908f-d54dab5e490c"
      },
      "outputs": [
        {
          "data": {
            "text/plain": [
              "                    SP.DYN.LE00.IN\n",
              "country       year                \n",
              "Canada        2014       81.956610\n",
              "              2013       81.765049\n",
              "              2012       81.562439\n",
              "              2011       81.448780\n",
              "              2010       81.197561\n",
              "...                            ...\n",
              "United States 1984       74.563415\n",
              "              1983       74.463415\n",
              "              1982       74.360976\n",
              "              1981       74.009756\n",
              "              1980       73.609756\n",
              "\n",
              "[105 rows x 1 columns]"
            ]
          },
          "execution_count": 50,
          "metadata": {},
          "output_type": "execute_result"
        }
      ],
      "source": [
        "# get life expectancy at birth for all countries from 1980 to 2014\n",
        "le_data_all = pdr.wb.download(indicator=\"SP.DYN.LE00.IN\", \n",
        "                          start='1980', \n",
        "                          end='2014')\n",
        "le_data_all"
      ]
    },
    {
      "cell_type": "code",
      "execution_count": null,
      "metadata": {
        "id": "9TSZIB8YlQN6",
        "outputId": "a2830e73-a7d0-44e9-d1e1-5070787e4e24"
      },
      "outputs": [
        {
          "data": {
            "text/plain": [
              "Index(['Canada', 'Mexico', 'United States'], dtype='object', name='country')"
            ]
          },
          "execution_count": 51,
          "metadata": {},
          "output_type": "execute_result"
        }
      ],
      "source": [
        "# only US, CAN, and MEX are returned by default\n",
        "le_data_all.index.levels[0]"
      ]
    },
    {
      "cell_type": "code",
      "execution_count": null,
      "metadata": {
        "id": "MkD-Gf2HlQN7",
        "outputId": "53200531-b2ba-4c64-f3ee-cc59710454ef"
      },
      "outputs": [
        {
          "name": "stderr",
          "output_type": "stream",
          "text": [
            "/Users/michaelheydt/anaconda/lib/python3.6/site-packages/pandas_datareader/wb.py:145: UserWarning: Non-standard ISO country codes: 1A, 1W, 4E, 6D, 6F, 6L, 6N, 6X, 7E, 8S, A4, A5, A9, B1, B2, B3, B4, B6, B7, B8, C4, C5, C6, C7, C8, C9, D2, D3, D4, D5, D6, D7, D8, D9, EU, F1, F6, JG, L4, L5, L6, L7, M1, M2, N6, O6, OE, R6, S1, S2, S3, S4, T2, T3, T4, T5, T6, T7, V1, V2, V3, V4, XC, XD, XE, XF, XG, XH, XI, XJ, XK, XL, XM, XN, XO, XP, XQ, XT, XU, XY, Z4, Z7, ZB, ZF, ZG, ZJ, ZQ, ZT\n",
            "  'country codes: %s' % tmp, UserWarning)\n"
          ]
        },
        {
          "data": {
            "text/plain": [
              "               SP.DYN.LE00.IN\n",
              "country  year                \n",
              "Aruba    2012       75.205756\n",
              "         2011       75.081390\n",
              "         2010       74.953537\n",
              "         2009       74.818146\n",
              "         2008       74.675732\n",
              "...                       ...\n",
              "Zimbabwe 1984       61.583951\n",
              "         1983       61.148171\n",
              "         1982       60.605512\n",
              "         1981       60.004829\n",
              "         1980       59.388024\n",
              "\n",
              "[8679 rows x 1 columns]"
            ]
          },
          "execution_count": 52,
          "metadata": {},
          "output_type": "execute_result"
        }
      ],
      "source": [
        "# retrieve life expectancy at birth for all countries \n",
        "# from 1980 to 2014\n",
        "le_data_all = wb.download(indicator=\"SP.DYN.LE00.IN\", \n",
        "                          country = countries['iso2c'],\n",
        "                          start='1980', \n",
        "                          end='2012')\n",
        "le_data_all"
      ]
    },
    {
      "cell_type": "code",
      "execution_count": null,
      "metadata": {
        "id": "u9aPhZ8JlQN7",
        "outputId": "f391a1ed-a65a-41f1-c0a4-9c22aac95132"
      },
      "outputs": [
        {
          "data": {
            "text/plain": [
              "               SP.DYN.LE00.IN                      \n",
              "year                     1980       1981       1982\n",
              "country                                            \n",
              "Afghanistan         41.867537  42.526927  43.230732\n",
              "Albania             70.235976  70.454463  70.685122\n",
              "Algeria             58.164024  59.486756  60.786341\n",
              "American Samoa            NaN        NaN        NaN\n",
              "Andorra                   NaN        NaN        NaN"
            ]
          },
          "execution_count": 53,
          "metadata": {},
          "output_type": "execute_result"
        }
      ],
      "source": [
        "#le_data_all.pivot(index='country', columns='year')\n",
        "le_data = le_data_all.reset_index().pivot(index='country', \n",
        "                                          columns='year')\n",
        "# examine pivoted data\n",
        "le_data.iloc[:5,0:3]"
      ]
    },
    {
      "cell_type": "code",
      "execution_count": null,
      "metadata": {
        "id": "EgbDYnRDlQN7",
        "outputId": "3ffca29b-c3e6-44ab-8665-4d254ccbcd30"
      },
      "outputs": [
        {
          "data": {
            "text/plain": [
              "                year\n",
              "SP.DYN.LE00.IN  1980       Cambodia\n",
              "                1981       Cambodia\n",
              "                1982    Timor-Leste\n",
              "                1983    South Sudan\n",
              "                1984    South Sudan\n",
              "dtype: object"
            ]
          },
          "execution_count": 54,
          "metadata": {},
          "output_type": "execute_result"
        }
      ],
      "source": [
        "# ask what is the name of country for each year\n",
        "# with the least life expectancy\n",
        "country_with_least_expectancy = le_data.idxmin(axis=0)\n",
        "country_with_least_expectancy[:5]"
      ]
    },
    {
      "cell_type": "code",
      "execution_count": null,
      "metadata": {
        "id": "PJBWdTlYlQN7",
        "outputId": "d8f84314-d6e6-42b5-f19a-8cc792d94143"
      },
      "outputs": [
        {
          "data": {
            "text/plain": [
              "                year\n",
              "SP.DYN.LE00.IN  1980    27.738976\n",
              "                1981    33.449927\n",
              "                1982    38.186220\n",
              "                1983    39.666488\n",
              "                1984    39.999537\n",
              "dtype: float64"
            ]
          },
          "execution_count": 55,
          "metadata": {},
          "output_type": "execute_result"
        }
      ],
      "source": [
        "# and what is the minimum life expectancy for each year\n",
        "expectancy_for_least_country = le_data.min(axis=0)\n",
        "expectancy_for_least_country[:5]"
      ]
    },
    {
      "cell_type": "code",
      "execution_count": null,
      "metadata": {
        "id": "tWJvomnNlQN8",
        "outputId": "a46144b5-ef3b-49ea-ec00-d7009291ce46"
      },
      "outputs": [
        {
          "data": {
            "text/plain": [
              "          Country  Expectancy\n",
              "year                         \n",
              "1980     Cambodia   27.738976\n",
              "1981     Cambodia   33.449927\n",
              "1982  Timor-Leste   38.186220\n",
              "1983  South Sudan   39.666488\n",
              "1984  South Sudan   39.999537"
            ]
          },
          "execution_count": 56,
          "metadata": {},
          "output_type": "execute_result"
        }
      ],
      "source": [
        "# this merges the two frames together and gives us\n",
        "# year, country and expectancy where there minimum exists\n",
        "least = pd.DataFrame(\n",
        "    data = {'Country': country_with_least_expectancy.values,\n",
        "            'Expectancy': expectancy_for_least_country.values},\n",
        "    index = country_with_least_expectancy.index.levels[1])\n",
        "least[:5]"
      ]
    }
  ],
  "metadata": {
    "anaconda-cloud": {},
    "kernelspec": {
      "display_name": "Python 3",
      "language": "python",
      "name": "python3"
    },
    "language_info": {
      "codemirror_mode": {
        "name": "ipython",
        "version": 3
      },
      "file_extension": ".py",
      "mimetype": "text/x-python",
      "name": "python",
      "nbconvert_exporter": "python",
      "pygments_lexer": "ipython3",
      "version": "3.6.1"
    },
    "colab": {
      "name": "AIDL_220318.ipynb",
      "provenance": [],
      "collapsed_sections": [
        "1_-gCTH5lQNe",
        "pFzJbNRLlQNj",
        "4jRQqDPFlQNp",
        "WQgVNmPflQNq",
        "Ks0VM7BhlQNr",
        "_sUFycz8lQN4",
        "snB_wrTglQN4",
        "2Y-LNu4hlQN5"
      ],
      "include_colab_link": true
    }
  },
  "nbformat": 4,
  "nbformat_minor": 0
}