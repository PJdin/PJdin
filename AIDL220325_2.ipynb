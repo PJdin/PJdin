{
  "cells": [
    {
      "cell_type": "markdown",
      "metadata": {
        "id": "view-in-github",
        "colab_type": "text"
      },
      "source": [
        "<a href=\"https://colab.research.google.com/github/PJdin/PJdin/blob/main/AIDL220325_2.ipynb\" target=\"_parent\"><img src=\"https://colab.research.google.com/assets/colab-badge.svg\" alt=\"Open In Colab\"/></a>"
      ]
    },
    {
      "cell_type": "markdown",
      "metadata": {
        "id": "BvpFfEfWAc8u"
      },
      "source": [
        "# Configuring pandas"
      ]
    },
    {
      "cell_type": "code",
      "execution_count": 1,
      "metadata": {
        "collapsed": true,
        "id": "-QxbUlvtAc80"
      },
      "outputs": [],
      "source": [
        "# import numpy and pandas\n",
        "import numpy as np\n",
        "import pandas as pd\n",
        "\n",
        "# used for dates\n",
        "import datetime\n",
        "from datetime import datetime, date\n",
        "\n",
        "# Set some pandas options controlling output format\n",
        "pd.set_option('display.notebook_repr_html', False)\n",
        "pd.set_option('display.max_columns', 8)\n",
        "pd.set_option('display.max_rows', 10)\n",
        "pd.set_option('display.width', 60)\n",
        "\n",
        "# bring in matplotlib for graphics\n",
        "import matplotlib.pyplot as plt\n",
        "%matplotlib inline"
      ]
    },
    {
      "cell_type": "markdown",
      "metadata": {
        "id": "LSTYSiuUAc83"
      },
      "source": [
        "# Concatenating data"
      ]
    },
    {
      "cell_type": "code",
      "execution_count": 7,
      "metadata": {
        "id": "xxjAGXJQAc84",
        "outputId": "d73d97bf-c9b4-4334-c394-a8187e5f401e",
        "colab": {
          "base_uri": "https://localhost:8080/"
        }
      },
      "outputs": [
        {
          "output_type": "execute_result",
          "data": {
            "text/plain": [
              "0    0\n",
              "1    1\n",
              "2    2\n",
              "dtype: int64"
            ]
          },
          "metadata": {},
          "execution_count": 7
        }
      ],
      "source": [
        "# two Series objects to concatenate\n",
        "# 連接兩個series對象\n",
        "s1 = pd.Series(np.arange(0, 3))\n",
        "s2 = pd.Series(np.arange(5, 8))\n",
        "s1"
      ]
    },
    {
      "cell_type": "code",
      "execution_count": 8,
      "metadata": {
        "id": "kwd9pWFeAc85",
        "outputId": "81a0bc4b-128c-4c97-e3e1-7a37e58a03ae",
        "colab": {
          "base_uri": "https://localhost:8080/"
        }
      },
      "outputs": [
        {
          "output_type": "execute_result",
          "data": {
            "text/plain": [
              "0    5\n",
              "1    6\n",
              "2    7\n",
              "dtype: int64"
            ]
          },
          "metadata": {},
          "execution_count": 8
        }
      ],
      "source": [
        "s2"
      ]
    },
    {
      "cell_type": "code",
      "execution_count": 9,
      "metadata": {
        "id": "jPOgn-MJAc86",
        "outputId": "8502d7c1-a339-4c94-8592-64888040c342",
        "colab": {
          "base_uri": "https://localhost:8080/"
        }
      },
      "outputs": [
        {
          "output_type": "execute_result",
          "data": {
            "text/plain": [
              "0    0\n",
              "1    1\n",
              "2    2\n",
              "0    5\n",
              "1    6\n",
              "2    7\n",
              "dtype: int64"
            ]
          },
          "metadata": {},
          "execution_count": 9
        }
      ],
      "source": [
        "# concatenate them\n",
        "# 將兩個接起來\n",
        "pd.concat([s1, s2])"
      ]
    },
    {
      "cell_type": "code",
      "execution_count": 18,
      "metadata": {
        "id": "cLqXxZMMAc87",
        "outputId": "80d32bef-67ff-4301-d587-f21d6f3a2f56",
        "colab": {
          "base_uri": "https://localhost:8080/",
          "height": 172
        }
      },
      "outputs": [
        {
          "output_type": "execute_result",
          "data": {
            "text/plain": [
              "   a  b  c\n",
              "0  0  1  2\n",
              "1  3  4  5\n",
              "2  6  7  8"
            ],
            "text/html": [
              "\n",
              "  <div id=\"df-d2cd3fef-3ed1-4379-81a5-b1f00f1e2d9b\">\n",
              "    <div class=\"colab-df-container\">\n",
              "      None\n",
              "      <button class=\"colab-df-convert\" onclick=\"convertToInteractive('df-d2cd3fef-3ed1-4379-81a5-b1f00f1e2d9b')\"\n",
              "              title=\"Convert this dataframe to an interactive table.\"\n",
              "              style=\"display:none;\">\n",
              "        \n",
              "  <svg xmlns=\"http://www.w3.org/2000/svg\" height=\"24px\"viewBox=\"0 0 24 24\"\n",
              "       width=\"24px\">\n",
              "    <path d=\"M0 0h24v24H0V0z\" fill=\"none\"/>\n",
              "    <path d=\"M18.56 5.44l.94 2.06.94-2.06 2.06-.94-2.06-.94-.94-2.06-.94 2.06-2.06.94zm-11 1L8.5 8.5l.94-2.06 2.06-.94-2.06-.94L8.5 2.5l-.94 2.06-2.06.94zm10 10l.94 2.06.94-2.06 2.06-.94-2.06-.94-.94-2.06-.94 2.06-2.06.94z\"/><path d=\"M17.41 7.96l-1.37-1.37c-.4-.4-.92-.59-1.43-.59-.52 0-1.04.2-1.43.59L10.3 9.45l-7.72 7.72c-.78.78-.78 2.05 0 2.83L4 21.41c.39.39.9.59 1.41.59.51 0 1.02-.2 1.41-.59l7.78-7.78 2.81-2.81c.8-.78.8-2.07 0-2.86zM5.41 20L4 18.59l7.72-7.72 1.47 1.35L5.41 20z\"/>\n",
              "  </svg>\n",
              "      </button>\n",
              "      \n",
              "  <style>\n",
              "    .colab-df-container {\n",
              "      display:flex;\n",
              "      flex-wrap:wrap;\n",
              "      gap: 12px;\n",
              "    }\n",
              "\n",
              "    .colab-df-convert {\n",
              "      background-color: #E8F0FE;\n",
              "      border: none;\n",
              "      border-radius: 50%;\n",
              "      cursor: pointer;\n",
              "      display: none;\n",
              "      fill: #1967D2;\n",
              "      height: 32px;\n",
              "      padding: 0 0 0 0;\n",
              "      width: 32px;\n",
              "    }\n",
              "\n",
              "    .colab-df-convert:hover {\n",
              "      background-color: #E2EBFA;\n",
              "      box-shadow: 0px 1px 2px rgba(60, 64, 67, 0.3), 0px 1px 3px 1px rgba(60, 64, 67, 0.15);\n",
              "      fill: #174EA6;\n",
              "    }\n",
              "\n",
              "    [theme=dark] .colab-df-convert {\n",
              "      background-color: #3B4455;\n",
              "      fill: #D2E3FC;\n",
              "    }\n",
              "\n",
              "    [theme=dark] .colab-df-convert:hover {\n",
              "      background-color: #434B5C;\n",
              "      box-shadow: 0px 1px 3px 1px rgba(0, 0, 0, 0.15);\n",
              "      filter: drop-shadow(0px 1px 2px rgba(0, 0, 0, 0.3));\n",
              "      fill: #FFFFFF;\n",
              "    }\n",
              "  </style>\n",
              "\n",
              "      <script>\n",
              "        const buttonEl =\n",
              "          document.querySelector('#df-d2cd3fef-3ed1-4379-81a5-b1f00f1e2d9b button.colab-df-convert');\n",
              "        buttonEl.style.display =\n",
              "          google.colab.kernel.accessAllowed ? 'block' : 'none';\n",
              "\n",
              "        async function convertToInteractive(key) {\n",
              "          const element = document.querySelector('#df-d2cd3fef-3ed1-4379-81a5-b1f00f1e2d9b');\n",
              "          const dataTable =\n",
              "            await google.colab.kernel.invokeFunction('convertToInteractive',\n",
              "                                                     [key], {});\n",
              "          if (!dataTable) return;\n",
              "\n",
              "          const docLinkHtml = 'Like what you see? Visit the ' +\n",
              "            '<a target=\"_blank\" href=https://colab.research.google.com/notebooks/data_table.ipynb>data table notebook</a>'\n",
              "            + ' to learn more about interactive tables.';\n",
              "          element.innerHTML = '';\n",
              "          dataTable['output_type'] = 'display_data';\n",
              "          await google.colab.output.renderOutput(dataTable, element);\n",
              "          const docLink = document.createElement('div');\n",
              "          docLink.innerHTML = docLinkHtml;\n",
              "          element.appendChild(docLink);\n",
              "        }\n",
              "      </script>\n",
              "    </div>\n",
              "  </div>\n",
              "  "
            ]
          },
          "metadata": {},
          "execution_count": 18
        }
      ],
      "source": [
        "# create two DataFrame objects to concatenate\n",
        "# using the same index labels and column names, \n",
        "# but different values\n",
        "# reshape(欄，列) 改變array的shape，但並不會改變它的數值\n",
        "df1 = pd.DataFrame(np.arange(9).reshape(3, 3), \n",
        "                   columns=['a', 'b', 'c'])\n",
        "#df2 has 9 .. 18\n",
        "df2 = pd.DataFrame(np.arange(9, 18).reshape(3, 3), \n",
        "                   columns=['a', 'b', 'c'])\n",
        "df1"
      ]
    },
    {
      "cell_type": "code",
      "execution_count": 19,
      "metadata": {
        "id": "-JI6YodGAc89",
        "outputId": "b0c465a3-5cc1-4a88-b842-d269267be947",
        "colab": {
          "base_uri": "https://localhost:8080/",
          "height": 172
        }
      },
      "outputs": [
        {
          "output_type": "execute_result",
          "data": {
            "text/plain": [
              "    a   b   c\n",
              "0   9  10  11\n",
              "1  12  13  14\n",
              "2  15  16  17"
            ],
            "text/html": [
              "\n",
              "  <div id=\"df-58898398-5efd-4e24-a0ae-52171c74581d\">\n",
              "    <div class=\"colab-df-container\">\n",
              "      None\n",
              "      <button class=\"colab-df-convert\" onclick=\"convertToInteractive('df-58898398-5efd-4e24-a0ae-52171c74581d')\"\n",
              "              title=\"Convert this dataframe to an interactive table.\"\n",
              "              style=\"display:none;\">\n",
              "        \n",
              "  <svg xmlns=\"http://www.w3.org/2000/svg\" height=\"24px\"viewBox=\"0 0 24 24\"\n",
              "       width=\"24px\">\n",
              "    <path d=\"M0 0h24v24H0V0z\" fill=\"none\"/>\n",
              "    <path d=\"M18.56 5.44l.94 2.06.94-2.06 2.06-.94-2.06-.94-.94-2.06-.94 2.06-2.06.94zm-11 1L8.5 8.5l.94-2.06 2.06-.94-2.06-.94L8.5 2.5l-.94 2.06-2.06.94zm10 10l.94 2.06.94-2.06 2.06-.94-2.06-.94-.94-2.06-.94 2.06-2.06.94z\"/><path d=\"M17.41 7.96l-1.37-1.37c-.4-.4-.92-.59-1.43-.59-.52 0-1.04.2-1.43.59L10.3 9.45l-7.72 7.72c-.78.78-.78 2.05 0 2.83L4 21.41c.39.39.9.59 1.41.59.51 0 1.02-.2 1.41-.59l7.78-7.78 2.81-2.81c.8-.78.8-2.07 0-2.86zM5.41 20L4 18.59l7.72-7.72 1.47 1.35L5.41 20z\"/>\n",
              "  </svg>\n",
              "      </button>\n",
              "      \n",
              "  <style>\n",
              "    .colab-df-container {\n",
              "      display:flex;\n",
              "      flex-wrap:wrap;\n",
              "      gap: 12px;\n",
              "    }\n",
              "\n",
              "    .colab-df-convert {\n",
              "      background-color: #E8F0FE;\n",
              "      border: none;\n",
              "      border-radius: 50%;\n",
              "      cursor: pointer;\n",
              "      display: none;\n",
              "      fill: #1967D2;\n",
              "      height: 32px;\n",
              "      padding: 0 0 0 0;\n",
              "      width: 32px;\n",
              "    }\n",
              "\n",
              "    .colab-df-convert:hover {\n",
              "      background-color: #E2EBFA;\n",
              "      box-shadow: 0px 1px 2px rgba(60, 64, 67, 0.3), 0px 1px 3px 1px rgba(60, 64, 67, 0.15);\n",
              "      fill: #174EA6;\n",
              "    }\n",
              "\n",
              "    [theme=dark] .colab-df-convert {\n",
              "      background-color: #3B4455;\n",
              "      fill: #D2E3FC;\n",
              "    }\n",
              "\n",
              "    [theme=dark] .colab-df-convert:hover {\n",
              "      background-color: #434B5C;\n",
              "      box-shadow: 0px 1px 3px 1px rgba(0, 0, 0, 0.15);\n",
              "      filter: drop-shadow(0px 1px 2px rgba(0, 0, 0, 0.3));\n",
              "      fill: #FFFFFF;\n",
              "    }\n",
              "  </style>\n",
              "\n",
              "      <script>\n",
              "        const buttonEl =\n",
              "          document.querySelector('#df-58898398-5efd-4e24-a0ae-52171c74581d button.colab-df-convert');\n",
              "        buttonEl.style.display =\n",
              "          google.colab.kernel.accessAllowed ? 'block' : 'none';\n",
              "\n",
              "        async function convertToInteractive(key) {\n",
              "          const element = document.querySelector('#df-58898398-5efd-4e24-a0ae-52171c74581d');\n",
              "          const dataTable =\n",
              "            await google.colab.kernel.invokeFunction('convertToInteractive',\n",
              "                                                     [key], {});\n",
              "          if (!dataTable) return;\n",
              "\n",
              "          const docLinkHtml = 'Like what you see? Visit the ' +\n",
              "            '<a target=\"_blank\" href=https://colab.research.google.com/notebooks/data_table.ipynb>data table notebook</a>'\n",
              "            + ' to learn more about interactive tables.';\n",
              "          element.innerHTML = '';\n",
              "          dataTable['output_type'] = 'display_data';\n",
              "          await google.colab.output.renderOutput(dataTable, element);\n",
              "          const docLink = document.createElement('div');\n",
              "          docLink.innerHTML = docLinkHtml;\n",
              "          element.appendChild(docLink);\n",
              "        }\n",
              "      </script>\n",
              "    </div>\n",
              "  </div>\n",
              "  "
            ]
          },
          "metadata": {},
          "execution_count": 19
        }
      ],
      "source": [
        "df2"
      ]
    },
    {
      "cell_type": "code",
      "execution_count": 20,
      "metadata": {
        "id": "5FfwaUmjAc8-",
        "outputId": "97085015-a86f-4614-9bcc-503f55ae0ede",
        "colab": {
          "base_uri": "https://localhost:8080/",
          "height": 236
        }
      },
      "outputs": [
        {
          "output_type": "execute_result",
          "data": {
            "text/plain": [
              "    a   b   c\n",
              "0   0   1   2\n",
              "1   3   4   5\n",
              "2   6   7   8\n",
              "0   9  10  11\n",
              "1  12  13  14\n",
              "2  15  16  17"
            ],
            "text/html": [
              "\n",
              "  <div id=\"df-c8ba111c-bddd-441b-9cc7-bac1ab2d707b\">\n",
              "    <div class=\"colab-df-container\">\n",
              "      None\n",
              "      <button class=\"colab-df-convert\" onclick=\"convertToInteractive('df-c8ba111c-bddd-441b-9cc7-bac1ab2d707b')\"\n",
              "              title=\"Convert this dataframe to an interactive table.\"\n",
              "              style=\"display:none;\">\n",
              "        \n",
              "  <svg xmlns=\"http://www.w3.org/2000/svg\" height=\"24px\"viewBox=\"0 0 24 24\"\n",
              "       width=\"24px\">\n",
              "    <path d=\"M0 0h24v24H0V0z\" fill=\"none\"/>\n",
              "    <path d=\"M18.56 5.44l.94 2.06.94-2.06 2.06-.94-2.06-.94-.94-2.06-.94 2.06-2.06.94zm-11 1L8.5 8.5l.94-2.06 2.06-.94-2.06-.94L8.5 2.5l-.94 2.06-2.06.94zm10 10l.94 2.06.94-2.06 2.06-.94-2.06-.94-.94-2.06-.94 2.06-2.06.94z\"/><path d=\"M17.41 7.96l-1.37-1.37c-.4-.4-.92-.59-1.43-.59-.52 0-1.04.2-1.43.59L10.3 9.45l-7.72 7.72c-.78.78-.78 2.05 0 2.83L4 21.41c.39.39.9.59 1.41.59.51 0 1.02-.2 1.41-.59l7.78-7.78 2.81-2.81c.8-.78.8-2.07 0-2.86zM5.41 20L4 18.59l7.72-7.72 1.47 1.35L5.41 20z\"/>\n",
              "  </svg>\n",
              "      </button>\n",
              "      \n",
              "  <style>\n",
              "    .colab-df-container {\n",
              "      display:flex;\n",
              "      flex-wrap:wrap;\n",
              "      gap: 12px;\n",
              "    }\n",
              "\n",
              "    .colab-df-convert {\n",
              "      background-color: #E8F0FE;\n",
              "      border: none;\n",
              "      border-radius: 50%;\n",
              "      cursor: pointer;\n",
              "      display: none;\n",
              "      fill: #1967D2;\n",
              "      height: 32px;\n",
              "      padding: 0 0 0 0;\n",
              "      width: 32px;\n",
              "    }\n",
              "\n",
              "    .colab-df-convert:hover {\n",
              "      background-color: #E2EBFA;\n",
              "      box-shadow: 0px 1px 2px rgba(60, 64, 67, 0.3), 0px 1px 3px 1px rgba(60, 64, 67, 0.15);\n",
              "      fill: #174EA6;\n",
              "    }\n",
              "\n",
              "    [theme=dark] .colab-df-convert {\n",
              "      background-color: #3B4455;\n",
              "      fill: #D2E3FC;\n",
              "    }\n",
              "\n",
              "    [theme=dark] .colab-df-convert:hover {\n",
              "      background-color: #434B5C;\n",
              "      box-shadow: 0px 1px 3px 1px rgba(0, 0, 0, 0.15);\n",
              "      filter: drop-shadow(0px 1px 2px rgba(0, 0, 0, 0.3));\n",
              "      fill: #FFFFFF;\n",
              "    }\n",
              "  </style>\n",
              "\n",
              "      <script>\n",
              "        const buttonEl =\n",
              "          document.querySelector('#df-c8ba111c-bddd-441b-9cc7-bac1ab2d707b button.colab-df-convert');\n",
              "        buttonEl.style.display =\n",
              "          google.colab.kernel.accessAllowed ? 'block' : 'none';\n",
              "\n",
              "        async function convertToInteractive(key) {\n",
              "          const element = document.querySelector('#df-c8ba111c-bddd-441b-9cc7-bac1ab2d707b');\n",
              "          const dataTable =\n",
              "            await google.colab.kernel.invokeFunction('convertToInteractive',\n",
              "                                                     [key], {});\n",
              "          if (!dataTable) return;\n",
              "\n",
              "          const docLinkHtml = 'Like what you see? Visit the ' +\n",
              "            '<a target=\"_blank\" href=https://colab.research.google.com/notebooks/data_table.ipynb>data table notebook</a>'\n",
              "            + ' to learn more about interactive tables.';\n",
              "          element.innerHTML = '';\n",
              "          dataTable['output_type'] = 'display_data';\n",
              "          await google.colab.output.renderOutput(dataTable, element);\n",
              "          const docLink = document.createElement('div');\n",
              "          docLink.innerHTML = docLinkHtml;\n",
              "          element.appendChild(docLink);\n",
              "        }\n",
              "      </script>\n",
              "    </div>\n",
              "  </div>\n",
              "  "
            ]
          },
          "metadata": {},
          "execution_count": 20
        }
      ],
      "source": [
        "# do the concat\n",
        "# 將兩個接起來\n",
        "pd.concat([df1, df2])"
      ]
    },
    {
      "cell_type": "code",
      "execution_count": 21,
      "metadata": {
        "id": "7qR6oclPAc8_",
        "outputId": "f8d0af67-dd95-4398-d695-b88422d39985",
        "colab": {
          "base_uri": "https://localhost:8080/",
          "height": 172
        }
      },
      "outputs": [
        {
          "output_type": "execute_result",
          "data": {
            "text/plain": [
              "   a  b  c\n",
              "0  0  1  2\n",
              "1  3  4  5\n",
              "2  6  7  8"
            ],
            "text/html": [
              "\n",
              "  <div id=\"df-4c6a1c88-d257-469c-8c60-292d9ceb8bad\">\n",
              "    <div class=\"colab-df-container\">\n",
              "      None\n",
              "      <button class=\"colab-df-convert\" onclick=\"convertToInteractive('df-4c6a1c88-d257-469c-8c60-292d9ceb8bad')\"\n",
              "              title=\"Convert this dataframe to an interactive table.\"\n",
              "              style=\"display:none;\">\n",
              "        \n",
              "  <svg xmlns=\"http://www.w3.org/2000/svg\" height=\"24px\"viewBox=\"0 0 24 24\"\n",
              "       width=\"24px\">\n",
              "    <path d=\"M0 0h24v24H0V0z\" fill=\"none\"/>\n",
              "    <path d=\"M18.56 5.44l.94 2.06.94-2.06 2.06-.94-2.06-.94-.94-2.06-.94 2.06-2.06.94zm-11 1L8.5 8.5l.94-2.06 2.06-.94-2.06-.94L8.5 2.5l-.94 2.06-2.06.94zm10 10l.94 2.06.94-2.06 2.06-.94-2.06-.94-.94-2.06-.94 2.06-2.06.94z\"/><path d=\"M17.41 7.96l-1.37-1.37c-.4-.4-.92-.59-1.43-.59-.52 0-1.04.2-1.43.59L10.3 9.45l-7.72 7.72c-.78.78-.78 2.05 0 2.83L4 21.41c.39.39.9.59 1.41.59.51 0 1.02-.2 1.41-.59l7.78-7.78 2.81-2.81c.8-.78.8-2.07 0-2.86zM5.41 20L4 18.59l7.72-7.72 1.47 1.35L5.41 20z\"/>\n",
              "  </svg>\n",
              "      </button>\n",
              "      \n",
              "  <style>\n",
              "    .colab-df-container {\n",
              "      display:flex;\n",
              "      flex-wrap:wrap;\n",
              "      gap: 12px;\n",
              "    }\n",
              "\n",
              "    .colab-df-convert {\n",
              "      background-color: #E8F0FE;\n",
              "      border: none;\n",
              "      border-radius: 50%;\n",
              "      cursor: pointer;\n",
              "      display: none;\n",
              "      fill: #1967D2;\n",
              "      height: 32px;\n",
              "      padding: 0 0 0 0;\n",
              "      width: 32px;\n",
              "    }\n",
              "\n",
              "    .colab-df-convert:hover {\n",
              "      background-color: #E2EBFA;\n",
              "      box-shadow: 0px 1px 2px rgba(60, 64, 67, 0.3), 0px 1px 3px 1px rgba(60, 64, 67, 0.15);\n",
              "      fill: #174EA6;\n",
              "    }\n",
              "\n",
              "    [theme=dark] .colab-df-convert {\n",
              "      background-color: #3B4455;\n",
              "      fill: #D2E3FC;\n",
              "    }\n",
              "\n",
              "    [theme=dark] .colab-df-convert:hover {\n",
              "      background-color: #434B5C;\n",
              "      box-shadow: 0px 1px 3px 1px rgba(0, 0, 0, 0.15);\n",
              "      filter: drop-shadow(0px 1px 2px rgba(0, 0, 0, 0.3));\n",
              "      fill: #FFFFFF;\n",
              "    }\n",
              "  </style>\n",
              "\n",
              "      <script>\n",
              "        const buttonEl =\n",
              "          document.querySelector('#df-4c6a1c88-d257-469c-8c60-292d9ceb8bad button.colab-df-convert');\n",
              "        buttonEl.style.display =\n",
              "          google.colab.kernel.accessAllowed ? 'block' : 'none';\n",
              "\n",
              "        async function convertToInteractive(key) {\n",
              "          const element = document.querySelector('#df-4c6a1c88-d257-469c-8c60-292d9ceb8bad');\n",
              "          const dataTable =\n",
              "            await google.colab.kernel.invokeFunction('convertToInteractive',\n",
              "                                                     [key], {});\n",
              "          if (!dataTable) return;\n",
              "\n",
              "          const docLinkHtml = 'Like what you see? Visit the ' +\n",
              "            '<a target=\"_blank\" href=https://colab.research.google.com/notebooks/data_table.ipynb>data table notebook</a>'\n",
              "            + ' to learn more about interactive tables.';\n",
              "          element.innerHTML = '';\n",
              "          dataTable['output_type'] = 'display_data';\n",
              "          await google.colab.output.renderOutput(dataTable, element);\n",
              "          const docLink = document.createElement('div');\n",
              "          docLink.innerHTML = docLinkHtml;\n",
              "          element.appendChild(docLink);\n",
              "        }\n",
              "      </script>\n",
              "    </div>\n",
              "  </div>\n",
              "  "
            ]
          },
          "metadata": {},
          "execution_count": 21
        }
      ],
      "source": [
        "# demonstrate concatenating two DataFrame objects with\n",
        "# different columns\n",
        "df1 = pd.DataFrame(np.arange(9).reshape(3, 3), \n",
        "                   columns=['a', 'b', 'c'])\n",
        "df2 = pd.DataFrame(np.arange(9, 18).reshape(3, 3), \n",
        "                   columns=['a', 'c', 'd'])\n",
        "df1"
      ]
    },
    {
      "cell_type": "code",
      "execution_count": 22,
      "metadata": {
        "id": "8buRfMAbAc9A",
        "outputId": "5943023c-00b1-499e-b413-e233ffbcbd78",
        "colab": {
          "base_uri": "https://localhost:8080/",
          "height": 172
        }
      },
      "outputs": [
        {
          "output_type": "execute_result",
          "data": {
            "text/plain": [
              "    a   c   d\n",
              "0   9  10  11\n",
              "1  12  13  14\n",
              "2  15  16  17"
            ],
            "text/html": [
              "\n",
              "  <div id=\"df-113a4e4c-6dec-42cd-940f-a8b15389617a\">\n",
              "    <div class=\"colab-df-container\">\n",
              "      None\n",
              "      <button class=\"colab-df-convert\" onclick=\"convertToInteractive('df-113a4e4c-6dec-42cd-940f-a8b15389617a')\"\n",
              "              title=\"Convert this dataframe to an interactive table.\"\n",
              "              style=\"display:none;\">\n",
              "        \n",
              "  <svg xmlns=\"http://www.w3.org/2000/svg\" height=\"24px\"viewBox=\"0 0 24 24\"\n",
              "       width=\"24px\">\n",
              "    <path d=\"M0 0h24v24H0V0z\" fill=\"none\"/>\n",
              "    <path d=\"M18.56 5.44l.94 2.06.94-2.06 2.06-.94-2.06-.94-.94-2.06-.94 2.06-2.06.94zm-11 1L8.5 8.5l.94-2.06 2.06-.94-2.06-.94L8.5 2.5l-.94 2.06-2.06.94zm10 10l.94 2.06.94-2.06 2.06-.94-2.06-.94-.94-2.06-.94 2.06-2.06.94z\"/><path d=\"M17.41 7.96l-1.37-1.37c-.4-.4-.92-.59-1.43-.59-.52 0-1.04.2-1.43.59L10.3 9.45l-7.72 7.72c-.78.78-.78 2.05 0 2.83L4 21.41c.39.39.9.59 1.41.59.51 0 1.02-.2 1.41-.59l7.78-7.78 2.81-2.81c.8-.78.8-2.07 0-2.86zM5.41 20L4 18.59l7.72-7.72 1.47 1.35L5.41 20z\"/>\n",
              "  </svg>\n",
              "      </button>\n",
              "      \n",
              "  <style>\n",
              "    .colab-df-container {\n",
              "      display:flex;\n",
              "      flex-wrap:wrap;\n",
              "      gap: 12px;\n",
              "    }\n",
              "\n",
              "    .colab-df-convert {\n",
              "      background-color: #E8F0FE;\n",
              "      border: none;\n",
              "      border-radius: 50%;\n",
              "      cursor: pointer;\n",
              "      display: none;\n",
              "      fill: #1967D2;\n",
              "      height: 32px;\n",
              "      padding: 0 0 0 0;\n",
              "      width: 32px;\n",
              "    }\n",
              "\n",
              "    .colab-df-convert:hover {\n",
              "      background-color: #E2EBFA;\n",
              "      box-shadow: 0px 1px 2px rgba(60, 64, 67, 0.3), 0px 1px 3px 1px rgba(60, 64, 67, 0.15);\n",
              "      fill: #174EA6;\n",
              "    }\n",
              "\n",
              "    [theme=dark] .colab-df-convert {\n",
              "      background-color: #3B4455;\n",
              "      fill: #D2E3FC;\n",
              "    }\n",
              "\n",
              "    [theme=dark] .colab-df-convert:hover {\n",
              "      background-color: #434B5C;\n",
              "      box-shadow: 0px 1px 3px 1px rgba(0, 0, 0, 0.15);\n",
              "      filter: drop-shadow(0px 1px 2px rgba(0, 0, 0, 0.3));\n",
              "      fill: #FFFFFF;\n",
              "    }\n",
              "  </style>\n",
              "\n",
              "      <script>\n",
              "        const buttonEl =\n",
              "          document.querySelector('#df-113a4e4c-6dec-42cd-940f-a8b15389617a button.colab-df-convert');\n",
              "        buttonEl.style.display =\n",
              "          google.colab.kernel.accessAllowed ? 'block' : 'none';\n",
              "\n",
              "        async function convertToInteractive(key) {\n",
              "          const element = document.querySelector('#df-113a4e4c-6dec-42cd-940f-a8b15389617a');\n",
              "          const dataTable =\n",
              "            await google.colab.kernel.invokeFunction('convertToInteractive',\n",
              "                                                     [key], {});\n",
              "          if (!dataTable) return;\n",
              "\n",
              "          const docLinkHtml = 'Like what you see? Visit the ' +\n",
              "            '<a target=\"_blank\" href=https://colab.research.google.com/notebooks/data_table.ipynb>data table notebook</a>'\n",
              "            + ' to learn more about interactive tables.';\n",
              "          element.innerHTML = '';\n",
              "          dataTable['output_type'] = 'display_data';\n",
              "          await google.colab.output.renderOutput(dataTable, element);\n",
              "          const docLink = document.createElement('div');\n",
              "          docLink.innerHTML = docLinkHtml;\n",
              "          element.appendChild(docLink);\n",
              "        }\n",
              "      </script>\n",
              "    </div>\n",
              "  </div>\n",
              "  "
            ]
          },
          "metadata": {},
          "execution_count": 22
        }
      ],
      "source": [
        "df2"
      ]
    },
    {
      "cell_type": "code",
      "execution_count": 23,
      "metadata": {
        "id": "YtglEr_qAc9B",
        "outputId": "fb770d6e-082e-4351-b92b-633101821c19",
        "colab": {
          "base_uri": "https://localhost:8080/",
          "height": 236
        }
      },
      "outputs": [
        {
          "output_type": "execute_result",
          "data": {
            "text/plain": [
              "    a    b   c     d\n",
              "0   0  1.0   2   NaN\n",
              "1   3  4.0   5   NaN\n",
              "2   6  7.0   8   NaN\n",
              "0   9  NaN  10  11.0\n",
              "1  12  NaN  13  14.0\n",
              "2  15  NaN  16  17.0"
            ],
            "text/html": [
              "\n",
              "  <div id=\"df-4700f118-fa00-418d-bf5e-d7d8a0866e6d\">\n",
              "    <div class=\"colab-df-container\">\n",
              "      None\n",
              "      <button class=\"colab-df-convert\" onclick=\"convertToInteractive('df-4700f118-fa00-418d-bf5e-d7d8a0866e6d')\"\n",
              "              title=\"Convert this dataframe to an interactive table.\"\n",
              "              style=\"display:none;\">\n",
              "        \n",
              "  <svg xmlns=\"http://www.w3.org/2000/svg\" height=\"24px\"viewBox=\"0 0 24 24\"\n",
              "       width=\"24px\">\n",
              "    <path d=\"M0 0h24v24H0V0z\" fill=\"none\"/>\n",
              "    <path d=\"M18.56 5.44l.94 2.06.94-2.06 2.06-.94-2.06-.94-.94-2.06-.94 2.06-2.06.94zm-11 1L8.5 8.5l.94-2.06 2.06-.94-2.06-.94L8.5 2.5l-.94 2.06-2.06.94zm10 10l.94 2.06.94-2.06 2.06-.94-2.06-.94-.94-2.06-.94 2.06-2.06.94z\"/><path d=\"M17.41 7.96l-1.37-1.37c-.4-.4-.92-.59-1.43-.59-.52 0-1.04.2-1.43.59L10.3 9.45l-7.72 7.72c-.78.78-.78 2.05 0 2.83L4 21.41c.39.39.9.59 1.41.59.51 0 1.02-.2 1.41-.59l7.78-7.78 2.81-2.81c.8-.78.8-2.07 0-2.86zM5.41 20L4 18.59l7.72-7.72 1.47 1.35L5.41 20z\"/>\n",
              "  </svg>\n",
              "      </button>\n",
              "      \n",
              "  <style>\n",
              "    .colab-df-container {\n",
              "      display:flex;\n",
              "      flex-wrap:wrap;\n",
              "      gap: 12px;\n",
              "    }\n",
              "\n",
              "    .colab-df-convert {\n",
              "      background-color: #E8F0FE;\n",
              "      border: none;\n",
              "      border-radius: 50%;\n",
              "      cursor: pointer;\n",
              "      display: none;\n",
              "      fill: #1967D2;\n",
              "      height: 32px;\n",
              "      padding: 0 0 0 0;\n",
              "      width: 32px;\n",
              "    }\n",
              "\n",
              "    .colab-df-convert:hover {\n",
              "      background-color: #E2EBFA;\n",
              "      box-shadow: 0px 1px 2px rgba(60, 64, 67, 0.3), 0px 1px 3px 1px rgba(60, 64, 67, 0.15);\n",
              "      fill: #174EA6;\n",
              "    }\n",
              "\n",
              "    [theme=dark] .colab-df-convert {\n",
              "      background-color: #3B4455;\n",
              "      fill: #D2E3FC;\n",
              "    }\n",
              "\n",
              "    [theme=dark] .colab-df-convert:hover {\n",
              "      background-color: #434B5C;\n",
              "      box-shadow: 0px 1px 3px 1px rgba(0, 0, 0, 0.15);\n",
              "      filter: drop-shadow(0px 1px 2px rgba(0, 0, 0, 0.3));\n",
              "      fill: #FFFFFF;\n",
              "    }\n",
              "  </style>\n",
              "\n",
              "      <script>\n",
              "        const buttonEl =\n",
              "          document.querySelector('#df-4700f118-fa00-418d-bf5e-d7d8a0866e6d button.colab-df-convert');\n",
              "        buttonEl.style.display =\n",
              "          google.colab.kernel.accessAllowed ? 'block' : 'none';\n",
              "\n",
              "        async function convertToInteractive(key) {\n",
              "          const element = document.querySelector('#df-4700f118-fa00-418d-bf5e-d7d8a0866e6d');\n",
              "          const dataTable =\n",
              "            await google.colab.kernel.invokeFunction('convertToInteractive',\n",
              "                                                     [key], {});\n",
              "          if (!dataTable) return;\n",
              "\n",
              "          const docLinkHtml = 'Like what you see? Visit the ' +\n",
              "            '<a target=\"_blank\" href=https://colab.research.google.com/notebooks/data_table.ipynb>data table notebook</a>'\n",
              "            + ' to learn more about interactive tables.';\n",
              "          element.innerHTML = '';\n",
              "          dataTable['output_type'] = 'display_data';\n",
              "          await google.colab.output.renderOutput(dataTable, element);\n",
              "          const docLink = document.createElement('div');\n",
              "          docLink.innerHTML = docLinkHtml;\n",
              "          element.appendChild(docLink);\n",
              "        }\n",
              "      </script>\n",
              "    </div>\n",
              "  </div>\n",
              "  "
            ]
          },
          "metadata": {},
          "execution_count": 23
        }
      ],
      "source": [
        "# do the concat, NaN's will be filled in for\n",
        "# the d column for df1 and b column for df2\n",
        "# 將兩個接起來 若有不同的列 則輸出 null\n",
        "pd.concat([df1, df2])"
      ]
    },
    {
      "cell_type": "code",
      "execution_count": 24,
      "metadata": {
        "id": "l02NwPwgAc9C",
        "outputId": "1bfb284e-95f0-45a1-8a67-834ba498e448",
        "colab": {
          "base_uri": "https://localhost:8080/",
          "height": 236
        }
      },
      "outputs": [
        {
          "output_type": "execute_result",
          "data": {
            "text/plain": [
              "        a    b   c     d\n",
              "df1 0   0  1.0   2   NaN\n",
              "    1   3  4.0   5   NaN\n",
              "    2   6  7.0   8   NaN\n",
              "df2 0   9  NaN  10  11.0\n",
              "    1  12  NaN  13  14.0\n",
              "    2  15  NaN  16  17.0"
            ],
            "text/html": [
              "\n",
              "  <div id=\"df-db074658-1d64-4f46-a7cd-1996a88fd4c0\">\n",
              "    <div class=\"colab-df-container\">\n",
              "      None\n",
              "      <button class=\"colab-df-convert\" onclick=\"convertToInteractive('df-db074658-1d64-4f46-a7cd-1996a88fd4c0')\"\n",
              "              title=\"Convert this dataframe to an interactive table.\"\n",
              "              style=\"display:none;\">\n",
              "        \n",
              "  <svg xmlns=\"http://www.w3.org/2000/svg\" height=\"24px\"viewBox=\"0 0 24 24\"\n",
              "       width=\"24px\">\n",
              "    <path d=\"M0 0h24v24H0V0z\" fill=\"none\"/>\n",
              "    <path d=\"M18.56 5.44l.94 2.06.94-2.06 2.06-.94-2.06-.94-.94-2.06-.94 2.06-2.06.94zm-11 1L8.5 8.5l.94-2.06 2.06-.94-2.06-.94L8.5 2.5l-.94 2.06-2.06.94zm10 10l.94 2.06.94-2.06 2.06-.94-2.06-.94-.94-2.06-.94 2.06-2.06.94z\"/><path d=\"M17.41 7.96l-1.37-1.37c-.4-.4-.92-.59-1.43-.59-.52 0-1.04.2-1.43.59L10.3 9.45l-7.72 7.72c-.78.78-.78 2.05 0 2.83L4 21.41c.39.39.9.59 1.41.59.51 0 1.02-.2 1.41-.59l7.78-7.78 2.81-2.81c.8-.78.8-2.07 0-2.86zM5.41 20L4 18.59l7.72-7.72 1.47 1.35L5.41 20z\"/>\n",
              "  </svg>\n",
              "      </button>\n",
              "      \n",
              "  <style>\n",
              "    .colab-df-container {\n",
              "      display:flex;\n",
              "      flex-wrap:wrap;\n",
              "      gap: 12px;\n",
              "    }\n",
              "\n",
              "    .colab-df-convert {\n",
              "      background-color: #E8F0FE;\n",
              "      border: none;\n",
              "      border-radius: 50%;\n",
              "      cursor: pointer;\n",
              "      display: none;\n",
              "      fill: #1967D2;\n",
              "      height: 32px;\n",
              "      padding: 0 0 0 0;\n",
              "      width: 32px;\n",
              "    }\n",
              "\n",
              "    .colab-df-convert:hover {\n",
              "      background-color: #E2EBFA;\n",
              "      box-shadow: 0px 1px 2px rgba(60, 64, 67, 0.3), 0px 1px 3px 1px rgba(60, 64, 67, 0.15);\n",
              "      fill: #174EA6;\n",
              "    }\n",
              "\n",
              "    [theme=dark] .colab-df-convert {\n",
              "      background-color: #3B4455;\n",
              "      fill: #D2E3FC;\n",
              "    }\n",
              "\n",
              "    [theme=dark] .colab-df-convert:hover {\n",
              "      background-color: #434B5C;\n",
              "      box-shadow: 0px 1px 3px 1px rgba(0, 0, 0, 0.15);\n",
              "      filter: drop-shadow(0px 1px 2px rgba(0, 0, 0, 0.3));\n",
              "      fill: #FFFFFF;\n",
              "    }\n",
              "  </style>\n",
              "\n",
              "      <script>\n",
              "        const buttonEl =\n",
              "          document.querySelector('#df-db074658-1d64-4f46-a7cd-1996a88fd4c0 button.colab-df-convert');\n",
              "        buttonEl.style.display =\n",
              "          google.colab.kernel.accessAllowed ? 'block' : 'none';\n",
              "\n",
              "        async function convertToInteractive(key) {\n",
              "          const element = document.querySelector('#df-db074658-1d64-4f46-a7cd-1996a88fd4c0');\n",
              "          const dataTable =\n",
              "            await google.colab.kernel.invokeFunction('convertToInteractive',\n",
              "                                                     [key], {});\n",
              "          if (!dataTable) return;\n",
              "\n",
              "          const docLinkHtml = 'Like what you see? Visit the ' +\n",
              "            '<a target=\"_blank\" href=https://colab.research.google.com/notebooks/data_table.ipynb>data table notebook</a>'\n",
              "            + ' to learn more about interactive tables.';\n",
              "          element.innerHTML = '';\n",
              "          dataTable['output_type'] = 'display_data';\n",
              "          await google.colab.output.renderOutput(dataTable, element);\n",
              "          const docLink = document.createElement('div');\n",
              "          docLink.innerHTML = docLinkHtml;\n",
              "          element.appendChild(docLink);\n",
              "        }\n",
              "      </script>\n",
              "    </div>\n",
              "  </div>\n",
              "  "
            ]
          },
          "metadata": {},
          "execution_count": 24
        }
      ],
      "source": [
        "# concat the two objects, but create an index using the\n",
        "# given keys \n",
        "# 將兩個連接起來並給予key值\n",
        "c = pd.concat([df1, df2], keys=['df1', 'df2'])\n",
        "# note in the labeling of the rows in the output\n",
        "c"
      ]
    },
    {
      "cell_type": "code",
      "execution_count": 26,
      "metadata": {
        "id": "hz8Jf-EtAc9D",
        "outputId": "cf74bd29-e3f4-4d7a-e71c-dfc0f5a75932",
        "colab": {
          "base_uri": "https://localhost:8080/",
          "height": 172
        }
      },
      "outputs": [
        {
          "output_type": "execute_result",
          "data": {
            "text/plain": [
              "    a   b   c     d\n",
              "0   9 NaN  10  11.0\n",
              "1  12 NaN  13  14.0\n",
              "2  15 NaN  16  17.0"
            ],
            "text/html": [
              "\n",
              "  <div id=\"df-f0ebeb4d-2c2b-4d42-883f-6295948a30d8\">\n",
              "    <div class=\"colab-df-container\">\n",
              "      None\n",
              "      <button class=\"colab-df-convert\" onclick=\"convertToInteractive('df-f0ebeb4d-2c2b-4d42-883f-6295948a30d8')\"\n",
              "              title=\"Convert this dataframe to an interactive table.\"\n",
              "              style=\"display:none;\">\n",
              "        \n",
              "  <svg xmlns=\"http://www.w3.org/2000/svg\" height=\"24px\"viewBox=\"0 0 24 24\"\n",
              "       width=\"24px\">\n",
              "    <path d=\"M0 0h24v24H0V0z\" fill=\"none\"/>\n",
              "    <path d=\"M18.56 5.44l.94 2.06.94-2.06 2.06-.94-2.06-.94-.94-2.06-.94 2.06-2.06.94zm-11 1L8.5 8.5l.94-2.06 2.06-.94-2.06-.94L8.5 2.5l-.94 2.06-2.06.94zm10 10l.94 2.06.94-2.06 2.06-.94-2.06-.94-.94-2.06-.94 2.06-2.06.94z\"/><path d=\"M17.41 7.96l-1.37-1.37c-.4-.4-.92-.59-1.43-.59-.52 0-1.04.2-1.43.59L10.3 9.45l-7.72 7.72c-.78.78-.78 2.05 0 2.83L4 21.41c.39.39.9.59 1.41.59.51 0 1.02-.2 1.41-.59l7.78-7.78 2.81-2.81c.8-.78.8-2.07 0-2.86zM5.41 20L4 18.59l7.72-7.72 1.47 1.35L5.41 20z\"/>\n",
              "  </svg>\n",
              "      </button>\n",
              "      \n",
              "  <style>\n",
              "    .colab-df-container {\n",
              "      display:flex;\n",
              "      flex-wrap:wrap;\n",
              "      gap: 12px;\n",
              "    }\n",
              "\n",
              "    .colab-df-convert {\n",
              "      background-color: #E8F0FE;\n",
              "      border: none;\n",
              "      border-radius: 50%;\n",
              "      cursor: pointer;\n",
              "      display: none;\n",
              "      fill: #1967D2;\n",
              "      height: 32px;\n",
              "      padding: 0 0 0 0;\n",
              "      width: 32px;\n",
              "    }\n",
              "\n",
              "    .colab-df-convert:hover {\n",
              "      background-color: #E2EBFA;\n",
              "      box-shadow: 0px 1px 2px rgba(60, 64, 67, 0.3), 0px 1px 3px 1px rgba(60, 64, 67, 0.15);\n",
              "      fill: #174EA6;\n",
              "    }\n",
              "\n",
              "    [theme=dark] .colab-df-convert {\n",
              "      background-color: #3B4455;\n",
              "      fill: #D2E3FC;\n",
              "    }\n",
              "\n",
              "    [theme=dark] .colab-df-convert:hover {\n",
              "      background-color: #434B5C;\n",
              "      box-shadow: 0px 1px 3px 1px rgba(0, 0, 0, 0.15);\n",
              "      filter: drop-shadow(0px 1px 2px rgba(0, 0, 0, 0.3));\n",
              "      fill: #FFFFFF;\n",
              "    }\n",
              "  </style>\n",
              "\n",
              "      <script>\n",
              "        const buttonEl =\n",
              "          document.querySelector('#df-f0ebeb4d-2c2b-4d42-883f-6295948a30d8 button.colab-df-convert');\n",
              "        buttonEl.style.display =\n",
              "          google.colab.kernel.accessAllowed ? 'block' : 'none';\n",
              "\n",
              "        async function convertToInteractive(key) {\n",
              "          const element = document.querySelector('#df-f0ebeb4d-2c2b-4d42-883f-6295948a30d8');\n",
              "          const dataTable =\n",
              "            await google.colab.kernel.invokeFunction('convertToInteractive',\n",
              "                                                     [key], {});\n",
              "          if (!dataTable) return;\n",
              "\n",
              "          const docLinkHtml = 'Like what you see? Visit the ' +\n",
              "            '<a target=\"_blank\" href=https://colab.research.google.com/notebooks/data_table.ipynb>data table notebook</a>'\n",
              "            + ' to learn more about interactive tables.';\n",
              "          element.innerHTML = '';\n",
              "          dataTable['output_type'] = 'display_data';\n",
              "          await google.colab.output.renderOutput(dataTable, element);\n",
              "          const docLink = document.createElement('div');\n",
              "          docLink.innerHTML = docLinkHtml;\n",
              "          element.appendChild(docLink);\n",
              "        }\n",
              "      </script>\n",
              "    </div>\n",
              "  </div>\n",
              "  "
            ]
          },
          "metadata": {},
          "execution_count": 26
        }
      ],
      "source": [
        "# we can extract the data originating from\n",
        "# the first or second source DataFrame\n",
        "# 選擇輸出哪個dataframe\n",
        "c.loc['df2']"
      ]
    },
    {
      "cell_type": "code",
      "execution_count": 25,
      "metadata": {
        "id": "apmU7dldAc9E",
        "outputId": "47afae9c-348a-4b2c-b9ea-c7e804b9668f",
        "colab": {
          "base_uri": "https://localhost:8080/",
          "height": 172
        }
      },
      "outputs": [
        {
          "output_type": "execute_result",
          "data": {
            "text/plain": [
              "   a  b  c   a   c   d\n",
              "0  0  1  2   9  10  11\n",
              "1  3  4  5  12  13  14\n",
              "2  6  7  8  15  16  17"
            ],
            "text/html": [
              "\n",
              "  <div id=\"df-248202dc-af8c-4aff-8ca7-c934caf23f50\">\n",
              "    <div class=\"colab-df-container\">\n",
              "      None\n",
              "      <button class=\"colab-df-convert\" onclick=\"convertToInteractive('df-248202dc-af8c-4aff-8ca7-c934caf23f50')\"\n",
              "              title=\"Convert this dataframe to an interactive table.\"\n",
              "              style=\"display:none;\">\n",
              "        \n",
              "  <svg xmlns=\"http://www.w3.org/2000/svg\" height=\"24px\"viewBox=\"0 0 24 24\"\n",
              "       width=\"24px\">\n",
              "    <path d=\"M0 0h24v24H0V0z\" fill=\"none\"/>\n",
              "    <path d=\"M18.56 5.44l.94 2.06.94-2.06 2.06-.94-2.06-.94-.94-2.06-.94 2.06-2.06.94zm-11 1L8.5 8.5l.94-2.06 2.06-.94-2.06-.94L8.5 2.5l-.94 2.06-2.06.94zm10 10l.94 2.06.94-2.06 2.06-.94-2.06-.94-.94-2.06-.94 2.06-2.06.94z\"/><path d=\"M17.41 7.96l-1.37-1.37c-.4-.4-.92-.59-1.43-.59-.52 0-1.04.2-1.43.59L10.3 9.45l-7.72 7.72c-.78.78-.78 2.05 0 2.83L4 21.41c.39.39.9.59 1.41.59.51 0 1.02-.2 1.41-.59l7.78-7.78 2.81-2.81c.8-.78.8-2.07 0-2.86zM5.41 20L4 18.59l7.72-7.72 1.47 1.35L5.41 20z\"/>\n",
              "  </svg>\n",
              "      </button>\n",
              "      \n",
              "  <style>\n",
              "    .colab-df-container {\n",
              "      display:flex;\n",
              "      flex-wrap:wrap;\n",
              "      gap: 12px;\n",
              "    }\n",
              "\n",
              "    .colab-df-convert {\n",
              "      background-color: #E8F0FE;\n",
              "      border: none;\n",
              "      border-radius: 50%;\n",
              "      cursor: pointer;\n",
              "      display: none;\n",
              "      fill: #1967D2;\n",
              "      height: 32px;\n",
              "      padding: 0 0 0 0;\n",
              "      width: 32px;\n",
              "    }\n",
              "\n",
              "    .colab-df-convert:hover {\n",
              "      background-color: #E2EBFA;\n",
              "      box-shadow: 0px 1px 2px rgba(60, 64, 67, 0.3), 0px 1px 3px 1px rgba(60, 64, 67, 0.15);\n",
              "      fill: #174EA6;\n",
              "    }\n",
              "\n",
              "    [theme=dark] .colab-df-convert {\n",
              "      background-color: #3B4455;\n",
              "      fill: #D2E3FC;\n",
              "    }\n",
              "\n",
              "    [theme=dark] .colab-df-convert:hover {\n",
              "      background-color: #434B5C;\n",
              "      box-shadow: 0px 1px 3px 1px rgba(0, 0, 0, 0.15);\n",
              "      filter: drop-shadow(0px 1px 2px rgba(0, 0, 0, 0.3));\n",
              "      fill: #FFFFFF;\n",
              "    }\n",
              "  </style>\n",
              "\n",
              "      <script>\n",
              "        const buttonEl =\n",
              "          document.querySelector('#df-248202dc-af8c-4aff-8ca7-c934caf23f50 button.colab-df-convert');\n",
              "        buttonEl.style.display =\n",
              "          google.colab.kernel.accessAllowed ? 'block' : 'none';\n",
              "\n",
              "        async function convertToInteractive(key) {\n",
              "          const element = document.querySelector('#df-248202dc-af8c-4aff-8ca7-c934caf23f50');\n",
              "          const dataTable =\n",
              "            await google.colab.kernel.invokeFunction('convertToInteractive',\n",
              "                                                     [key], {});\n",
              "          if (!dataTable) return;\n",
              "\n",
              "          const docLinkHtml = 'Like what you see? Visit the ' +\n",
              "            '<a target=\"_blank\" href=https://colab.research.google.com/notebooks/data_table.ipynb>data table notebook</a>'\n",
              "            + ' to learn more about interactive tables.';\n",
              "          element.innerHTML = '';\n",
              "          dataTable['output_type'] = 'display_data';\n",
              "          await google.colab.output.renderOutput(dataTable, element);\n",
              "          const docLink = document.createElement('div');\n",
              "          docLink.innerHTML = docLinkHtml;\n",
              "          element.appendChild(docLink);\n",
              "        }\n",
              "      </script>\n",
              "    </div>\n",
              "  </div>\n",
              "  "
            ]
          },
          "metadata": {},
          "execution_count": 25
        }
      ],
      "source": [
        "# concat df1 and df2 along columns\n",
        "# aligns on row labels, has duplicate columns\n",
        "# axis=0時直向合併 axis=1時左右合併\n",
        "pd.concat([df1, df2], axis=1)"
      ]
    },
    {
      "cell_type": "code",
      "execution_count": 31,
      "metadata": {
        "id": "0VqtwSivAc9E",
        "outputId": "86146a3b-27d9-4394-a7e6-4580a3923a58",
        "colab": {
          "base_uri": "https://localhost:8080/",
          "height": 172
        }
      },
      "outputs": [
        {
          "output_type": "execute_result",
          "data": {
            "text/plain": [
              "    a   d\n",
              "2  20  21\n",
              "3  22  23\n",
              "4  24  25"
            ],
            "text/html": [
              "\n",
              "  <div id=\"df-8cbf92db-5329-4404-9e25-0594444d4bad\">\n",
              "    <div class=\"colab-df-container\">\n",
              "      None\n",
              "      <button class=\"colab-df-convert\" onclick=\"convertToInteractive('df-8cbf92db-5329-4404-9e25-0594444d4bad')\"\n",
              "              title=\"Convert this dataframe to an interactive table.\"\n",
              "              style=\"display:none;\">\n",
              "        \n",
              "  <svg xmlns=\"http://www.w3.org/2000/svg\" height=\"24px\"viewBox=\"0 0 24 24\"\n",
              "       width=\"24px\">\n",
              "    <path d=\"M0 0h24v24H0V0z\" fill=\"none\"/>\n",
              "    <path d=\"M18.56 5.44l.94 2.06.94-2.06 2.06-.94-2.06-.94-.94-2.06-.94 2.06-2.06.94zm-11 1L8.5 8.5l.94-2.06 2.06-.94-2.06-.94L8.5 2.5l-.94 2.06-2.06.94zm10 10l.94 2.06.94-2.06 2.06-.94-2.06-.94-.94-2.06-.94 2.06-2.06.94z\"/><path d=\"M17.41 7.96l-1.37-1.37c-.4-.4-.92-.59-1.43-.59-.52 0-1.04.2-1.43.59L10.3 9.45l-7.72 7.72c-.78.78-.78 2.05 0 2.83L4 21.41c.39.39.9.59 1.41.59.51 0 1.02-.2 1.41-.59l7.78-7.78 2.81-2.81c.8-.78.8-2.07 0-2.86zM5.41 20L4 18.59l7.72-7.72 1.47 1.35L5.41 20z\"/>\n",
              "  </svg>\n",
              "      </button>\n",
              "      \n",
              "  <style>\n",
              "    .colab-df-container {\n",
              "      display:flex;\n",
              "      flex-wrap:wrap;\n",
              "      gap: 12px;\n",
              "    }\n",
              "\n",
              "    .colab-df-convert {\n",
              "      background-color: #E8F0FE;\n",
              "      border: none;\n",
              "      border-radius: 50%;\n",
              "      cursor: pointer;\n",
              "      display: none;\n",
              "      fill: #1967D2;\n",
              "      height: 32px;\n",
              "      padding: 0 0 0 0;\n",
              "      width: 32px;\n",
              "    }\n",
              "\n",
              "    .colab-df-convert:hover {\n",
              "      background-color: #E2EBFA;\n",
              "      box-shadow: 0px 1px 2px rgba(60, 64, 67, 0.3), 0px 1px 3px 1px rgba(60, 64, 67, 0.15);\n",
              "      fill: #174EA6;\n",
              "    }\n",
              "\n",
              "    [theme=dark] .colab-df-convert {\n",
              "      background-color: #3B4455;\n",
              "      fill: #D2E3FC;\n",
              "    }\n",
              "\n",
              "    [theme=dark] .colab-df-convert:hover {\n",
              "      background-color: #434B5C;\n",
              "      box-shadow: 0px 1px 3px 1px rgba(0, 0, 0, 0.15);\n",
              "      filter: drop-shadow(0px 1px 2px rgba(0, 0, 0, 0.3));\n",
              "      fill: #FFFFFF;\n",
              "    }\n",
              "  </style>\n",
              "\n",
              "      <script>\n",
              "        const buttonEl =\n",
              "          document.querySelector('#df-8cbf92db-5329-4404-9e25-0594444d4bad button.colab-df-convert');\n",
              "        buttonEl.style.display =\n",
              "          google.colab.kernel.accessAllowed ? 'block' : 'none';\n",
              "\n",
              "        async function convertToInteractive(key) {\n",
              "          const element = document.querySelector('#df-8cbf92db-5329-4404-9e25-0594444d4bad');\n",
              "          const dataTable =\n",
              "            await google.colab.kernel.invokeFunction('convertToInteractive',\n",
              "                                                     [key], {});\n",
              "          if (!dataTable) return;\n",
              "\n",
              "          const docLinkHtml = 'Like what you see? Visit the ' +\n",
              "            '<a target=\"_blank\" href=https://colab.research.google.com/notebooks/data_table.ipynb>data table notebook</a>'\n",
              "            + ' to learn more about interactive tables.';\n",
              "          element.innerHTML = '';\n",
              "          dataTable['output_type'] = 'display_data';\n",
              "          await google.colab.output.renderOutput(dataTable, element);\n",
              "          const docLink = document.createElement('div');\n",
              "          docLink.innerHTML = docLinkHtml;\n",
              "          element.appendChild(docLink);\n",
              "        }\n",
              "      </script>\n",
              "    </div>\n",
              "  </div>\n",
              "  "
            ]
          },
          "metadata": {},
          "execution_count": 31
        }
      ],
      "source": [
        "# a new DataFrame to merge with df1\n",
        "# this has two common row labels (2, 3) \n",
        "# common columns (a) and one disjoint column\n",
        "# in each (b in df1 and d in df2)\n",
        "# 資料範圍20~26 改為三列兩欄 列名稱為a、d\n",
        "df3 = pd.DataFrame(np.arange(20, 26).reshape(3, 2), \n",
        "                   columns=['a', 'd'], \n",
        "                   index=[2, 3, 4])\n",
        "df3"
      ]
    },
    {
      "cell_type": "code",
      "execution_count": null,
      "metadata": {
        "id": "r0B5mUpoAc9F",
        "outputId": "f38c65c2-ec89-4a11-fc30-15deb78f1c97"
      },
      "outputs": [
        {
          "data": {
            "text/plain": [
              "     a    b    c     a     d\n",
              "0  0.0  1.0  2.0   NaN   NaN\n",
              "1  3.0  4.0  5.0   NaN   NaN\n",
              "2  6.0  7.0  8.0  20.0  21.0\n",
              "3  NaN  NaN  NaN  22.0  23.0\n",
              "4  NaN  NaN  NaN  24.0  25.0"
            ]
          },
          "execution_count": 15,
          "metadata": {},
          "output_type": "execute_result"
        }
      ],
      "source": [
        "# concat them. Alignment is along row labels\n",
        "# columns first from df1 and then df3, with duplicates.\n",
        "# NaN filled in where those columns do not exist in the source\n",
        "pd.concat([df1, df3], axis=1)"
      ]
    },
    {
      "cell_type": "code",
      "execution_count": null,
      "metadata": {
        "id": "n5g-jYnIAc9F",
        "outputId": "5f3ecf30-89ab-4da4-bdcc-426255386084"
      },
      "outputs": [
        {
          "data": {
            "text/plain": [
              "   a  b  c   a   d\n",
              "2  6  7  8  20  21"
            ]
          },
          "execution_count": 16,
          "metadata": {},
          "output_type": "execute_result"
        }
      ],
      "source": [
        "# do an inner join instead of outer\n",
        "# results in one row\n",
        "pd.concat([df1, df3], axis=1, join='inner')"
      ]
    },
    {
      "cell_type": "code",
      "execution_count": null,
      "metadata": {
        "id": "qkrV99JYAc9G",
        "outputId": "f73a1655-ca4f-48fb-8f0b-6d443e732d72"
      },
      "outputs": [
        {
          "data": {
            "text/plain": [
              "  df1       df2        \n",
              "    a  b  c   a   c   d\n",
              "0   0  1  2   9  10  11\n",
              "1   3  4  5  12  13  14\n",
              "2   6  7  8  15  16  17"
            ]
          },
          "execution_count": 17,
          "metadata": {},
          "output_type": "execute_result"
        }
      ],
      "source": [
        "# add keys to the columns\n",
        "df = pd.concat([df1, df2], \n",
        "               axis=1,\n",
        "               keys=['df1', 'df2'])\n",
        "df"
      ]
    },
    {
      "cell_type": "code",
      "execution_count": null,
      "metadata": {
        "id": "udwGGH0uAc9G",
        "outputId": "dce94686-da60-4963-a7b9-2fc05948f4d6"
      },
      "outputs": [
        {
          "data": {
            "text/plain": [
              "    a   c   d\n",
              "0   9  10  11\n",
              "1  12  13  14\n",
              "2  15  16  17"
            ]
          },
          "execution_count": 18,
          "metadata": {},
          "output_type": "execute_result"
        }
      ],
      "source": [
        "# retrieve the data that originated from the \n",
        "# DataFrame with key 'df2'\n",
        "df.loc[:, 'df2']"
      ]
    },
    {
      "cell_type": "code",
      "execution_count": null,
      "metadata": {
        "id": "JlX4oVPhAc9H",
        "outputId": "90a42955-4c38-44b9-d8ec-2fcecf5d036a"
      },
      "outputs": [
        {
          "data": {
            "text/plain": [
              "    a    b   c     d\n",
              "0   0  1.0   2   NaN\n",
              "1   3  4.0   5   NaN\n",
              "2   6  7.0   8   NaN\n",
              "0   9  NaN  10  11.0\n",
              "1  12  NaN  13  14.0\n",
              "2  15  NaN  16  17.0"
            ]
          },
          "execution_count": 19,
          "metadata": {},
          "output_type": "execute_result"
        }
      ],
      "source": [
        "# append does a concatenate along axis=0 \n",
        "# duplicate row index labels can result\n",
        "df1.append(df2)"
      ]
    },
    {
      "cell_type": "code",
      "execution_count": null,
      "metadata": {
        "id": "aKczjRkUAc9H",
        "outputId": "e9712dcc-5a1d-4623-b2b6-eedd98f0e7fb"
      },
      "outputs": [
        {
          "data": {
            "text/plain": [
              "    a    b   c     d\n",
              "0   0  1.0   2   NaN\n",
              "1   3  4.0   5   NaN\n",
              "2   6  7.0   8   NaN\n",
              "3   9  NaN  10  11.0\n",
              "4  12  NaN  13  14.0\n",
              "5  15  NaN  16  17.0"
            ]
          },
          "execution_count": 20,
          "metadata": {},
          "output_type": "execute_result"
        }
      ],
      "source": [
        "# remove duplicates in the result index by ignoring the \n",
        "# index labels in the source DataFrame objects\n",
        "df1.append(df2, ignore_index=True)"
      ]
    },
    {
      "cell_type": "markdown",
      "metadata": {
        "id": "_YtssiLrAc9I"
      },
      "source": [
        "# An overview of merges"
      ]
    },
    {
      "cell_type": "code",
      "execution_count": null,
      "metadata": {
        "id": "v_YxMnnGAc9I",
        "outputId": "946fb5be-6b53-4a4e-89c9-379aca7a9cbd"
      },
      "outputs": [
        {
          "data": {
            "text/plain": [
              "              Address  CustomerID    Name\n",
              "0    Address for Mike          10    Mike\n",
              "1  Address for Marcia          11  Marcia"
            ]
          },
          "execution_count": 21,
          "metadata": {},
          "output_type": "execute_result"
        }
      ],
      "source": [
        "# these are our customers\n",
        "customers = {'CustomerID': [10, 11],\n",
        "             'Name': ['Mike', 'Marcia'],\n",
        "             'Address': ['Address for Mike',\n",
        "                         'Address for Marcia']}\n",
        "customers = pd.DataFrame(customers)\n",
        "customers"
      ]
    },
    {
      "cell_type": "code",
      "execution_count": null,
      "metadata": {
        "id": "LN_fz9cPAc9J",
        "outputId": "c014f0fd-495b-415f-f6bf-49c2ec5503fd"
      },
      "outputs": [
        {
          "data": {
            "text/plain": [
              "   CustomerID   OrderDate\n",
              "0          10  2014-12-01\n",
              "1          11  2014-12-01\n",
              "2          10  2014-12-01"
            ]
          },
          "execution_count": 22,
          "metadata": {},
          "output_type": "execute_result"
        }
      ],
      "source": [
        "# and these are the orders made by our customers\n",
        "# they are related to customers by CustomerID\n",
        "orders = {'CustomerID': [10, 11, 10],\n",
        "          'OrderDate': [date(2014, 12, 1),\n",
        "                        date(2014, 12, 1),\n",
        "                        date(2014, 12, 1)]}\n",
        "orders = pd.DataFrame(orders)\n",
        "orders"
      ]
    },
    {
      "cell_type": "code",
      "execution_count": null,
      "metadata": {
        "id": "so3JfPMuAc9J",
        "outputId": "97721c92-44ef-417e-8ba9-d6cbc9876141"
      },
      "outputs": [
        {
          "data": {
            "text/plain": [
              "              Address  CustomerID    Name   OrderDate\n",
              "0    Address for Mike          10    Mike  2014-12-01\n",
              "1    Address for Mike          10    Mike  2014-12-01\n",
              "2  Address for Marcia          11  Marcia  2014-12-01"
            ]
          },
          "execution_count": 23,
          "metadata": {},
          "output_type": "execute_result"
        }
      ],
      "source": [
        "# merge customers and orders so we can ship the items\n",
        "customers.merge(orders)"
      ]
    },
    {
      "cell_type": "code",
      "execution_count": null,
      "metadata": {
        "id": "EvkLFWx1Ac9K",
        "outputId": "da577467-8950-4892-9d82-eeca12cab192"
      },
      "outputs": [
        {
          "data": {
            "text/plain": [
              "  key1 key2  lval1\n",
              "0    a    x      0\n",
              "1    b    y      1\n",
              "2    c    z      2"
            ]
          },
          "execution_count": 24,
          "metadata": {},
          "output_type": "execute_result"
        }
      ],
      "source": [
        "# data to be used in the remainder of this section's examples\n",
        "left_data = {'key1': ['a', 'b', 'c'], \n",
        "            'key2': ['x', 'y', 'z'],\n",
        "            'lval1': [ 0, 1, 2]}\n",
        "right_data = {'key1': ['a', 'b', 'c'],\n",
        "              'key2': ['x', 'a', 'z'], \n",
        "              'rval1': [ 6, 7, 8 ]}\n",
        "left = pd.DataFrame(left_data, index=[0, 1, 2])\n",
        "right = pd.DataFrame(right_data, index=[1, 2, 3])\n",
        "left"
      ]
    },
    {
      "cell_type": "code",
      "execution_count": null,
      "metadata": {
        "id": "w7m4fU-vAc9K",
        "outputId": "404dfb2b-bc50-46ae-d266-a7a30f69a785"
      },
      "outputs": [
        {
          "data": {
            "text/plain": [
              "  key1 key2  rval1\n",
              "1    a    x      6\n",
              "2    b    a      7\n",
              "3    c    z      8"
            ]
          },
          "execution_count": 25,
          "metadata": {},
          "output_type": "execute_result"
        }
      ],
      "source": [
        "right"
      ]
    },
    {
      "cell_type": "code",
      "execution_count": null,
      "metadata": {
        "id": "or4hai8aAc9K",
        "outputId": "a91e3d1f-da28-44af-faf2-fbbeed0a1914"
      },
      "outputs": [
        {
          "data": {
            "text/plain": [
              "  key1 key2  lval1  rval1\n",
              "0    a    x      0      6\n",
              "1    c    z      2      8"
            ]
          },
          "execution_count": 26,
          "metadata": {},
          "output_type": "execute_result"
        }
      ],
      "source": [
        "# demonstrate merge without specifying columns to merge\n",
        "# this will implicitly merge on all common columns\n",
        "left.merge(right)"
      ]
    },
    {
      "cell_type": "code",
      "execution_count": null,
      "metadata": {
        "id": "NmwxZsbJAc9L",
        "outputId": "062cb143-9a42-48c7-a6fa-bb51f6ba8826"
      },
      "outputs": [
        {
          "data": {
            "text/plain": [
              "  key1 key2_x  lval1 key2_y  rval1\n",
              "0    a      x      0      x      6\n",
              "1    b      y      1      a      7\n",
              "2    c      z      2      z      8"
            ]
          },
          "execution_count": 27,
          "metadata": {},
          "output_type": "execute_result"
        }
      ],
      "source": [
        "# demonstrate merge using an explicit column\n",
        "# on needs the value to be in both DataFrame objects\n",
        "left.merge(right, on='key1')"
      ]
    },
    {
      "cell_type": "code",
      "execution_count": null,
      "metadata": {
        "id": "9y-EmXRdAc9L",
        "outputId": "f154942f-5a29-4adb-b11f-a1295421b49b"
      },
      "outputs": [
        {
          "data": {
            "text/plain": [
              "  key1 key2  lval1  rval1\n",
              "0    a    x      0      6\n",
              "1    c    z      2      8"
            ]
          },
          "execution_count": 28,
          "metadata": {},
          "output_type": "execute_result"
        }
      ],
      "source": [
        "# merge explicitly using two columns\n",
        "left.merge(right, on=['key1', 'key2'])"
      ]
    },
    {
      "cell_type": "code",
      "execution_count": null,
      "metadata": {
        "id": "WSLKmVdtAc9L",
        "outputId": "f57d313f-9343-410d-a1f7-49476ba6d8e5"
      },
      "outputs": [
        {
          "data": {
            "text/plain": [
              "  key1_x key2_x  lval1 key1_y key2_y  rval1\n",
              "1      b      y      1      a      x      6\n",
              "2      c      z      2      b      a      7"
            ]
          },
          "execution_count": 29,
          "metadata": {},
          "output_type": "execute_result"
        }
      ],
      "source": [
        "# join on the row indices of both matrices\n",
        "pd.merge(left, right, left_index=True, right_index=True)"
      ]
    },
    {
      "cell_type": "markdown",
      "metadata": {
        "id": "jO-MB5JNAc9L"
      },
      "source": [
        "# Specifying the join semantics of a merge operation"
      ]
    },
    {
      "cell_type": "code",
      "execution_count": null,
      "metadata": {
        "id": "8AMOuNAZAc9M",
        "outputId": "de690ecc-5af1-4939-a14d-081822f49083"
      },
      "outputs": [
        {
          "data": {
            "text/plain": [
              "  key1 key2  lval1  rval1\n",
              "0    a    x    0.0    6.0\n",
              "1    b    y    1.0    NaN\n",
              "2    c    z    2.0    8.0\n",
              "3    b    a    NaN    7.0"
            ]
          },
          "execution_count": 30,
          "metadata": {},
          "output_type": "execute_result"
        }
      ],
      "source": [
        "# outer join, merges all matched data, \n",
        "# and fills unmatched items with NaN\n",
        "left.merge(right, how='outer')"
      ]
    },
    {
      "cell_type": "code",
      "execution_count": null,
      "metadata": {
        "id": "Ky4D7B63Ac9M",
        "outputId": "83450486-fe87-46b8-a9f1-79c8227e1937"
      },
      "outputs": [
        {
          "data": {
            "text/plain": [
              "  key1 key2  lval1  rval1\n",
              "0    a    x      0    6.0\n",
              "1    b    y      1    NaN\n",
              "2    c    z      2    8.0"
            ]
          },
          "execution_count": 31,
          "metadata": {},
          "output_type": "execute_result"
        }
      ],
      "source": [
        "# left join, merges all matched data, and only fills unmatched \n",
        "# items from the left dataframe with NaN filled for the \n",
        "# unmatched items in the result \n",
        "# rows with labels 0 and 2 \n",
        "# match on key1 and key2 the row with label 1 is from left\n",
        "\n",
        "left.merge(right, how='left')"
      ]
    },
    {
      "cell_type": "code",
      "execution_count": null,
      "metadata": {
        "id": "6p0RSJw_Ac9M",
        "outputId": "afed01b8-41b6-40b2-b816-1ffd0d07e87f"
      },
      "outputs": [
        {
          "data": {
            "text/plain": [
              "  key1 key2  lval1  rval1\n",
              "0    a    x    0.0      6\n",
              "1    c    z    2.0      8\n",
              "2    b    a    NaN      7"
            ]
          },
          "execution_count": 32,
          "metadata": {},
          "output_type": "execute_result"
        }
      ],
      "source": [
        "# right join, merges all matched data, and only fills unmatched\n",
        "# item from the right with NaN filled for the unmatched items\n",
        "# in the result \n",
        "# rows with labels 0 and 2 match on key1 and key2\n",
        "# the row with label 1 is from right\n",
        "left.merge(right, how='right')"
      ]
    },
    {
      "cell_type": "code",
      "execution_count": null,
      "metadata": {
        "id": "UAydaCDQAc9N",
        "outputId": "50168ab7-b6e4-49a7-df8a-d726cb940f0c"
      },
      "outputs": [
        {
          "data": {
            "text/plain": [
              "  key1_left key2_left  lval1 key1_right key2_right  rval1\n",
              "0         a         x      0        NaN        NaN    NaN\n",
              "1         b         y      1          a          x    6.0\n",
              "2         c         z      2          b          a    7.0"
            ]
          },
          "execution_count": 33,
          "metadata": {},
          "output_type": "execute_result"
        }
      ],
      "source": [
        "# join left with right (default method is outer)\n",
        "# and since these DataFrame objects have duplicate column names\n",
        "# we just specify lsuffix and rsuffix\n",
        "left.join(right, lsuffix='_left', rsuffix='_right')"
      ]
    },
    {
      "cell_type": "code",
      "execution_count": null,
      "metadata": {
        "id": "gOIfv2N4Ac9N",
        "outputId": "2cb0b542-5aef-4788-9dfe-452ea8d31886"
      },
      "outputs": [
        {
          "data": {
            "text/plain": [
              "  key1_left key2_left  lval1 key1_right key2_right  rval1\n",
              "1         b         y      1          a          x      6\n",
              "2         c         z      2          b          a      7"
            ]
          },
          "execution_count": 34,
          "metadata": {},
          "output_type": "execute_result"
        }
      ],
      "source": [
        "# join left with right with an inner join\n",
        "left.join(right, lsuffix='_left', rsuffix='_right', how='inner')"
      ]
    },
    {
      "cell_type": "markdown",
      "metadata": {
        "id": "sWOynCa2Ac9N"
      },
      "source": [
        "# Pivoting"
      ]
    },
    {
      "cell_type": "code",
      "execution_count": null,
      "metadata": {
        "id": "2JP4VTSSAc9O",
        "outputId": "832f6b7c-53e7-463d-9a50-f519d4759c18"
      },
      "outputs": [
        {
          "data": {
            "text/plain": [
              "    interval axis  reading\n",
              "0          0    X      0.0\n",
              "1          0    Y      0.5\n",
              "2          0    Z      1.0\n",
              "3          1    X      0.1\n",
              "4          1    Y      0.4\n",
              "..       ...  ...      ...\n",
              "7          2    Y      0.3\n",
              "8          2    Z      0.8\n",
              "9          3    X      0.3\n",
              "10         3    Y      0.2\n",
              "11         3    Z      0.7\n",
              "\n",
              "[12 rows x 3 columns]"
            ]
          },
          "execution_count": 35,
          "metadata": {},
          "output_type": "execute_result"
        }
      ],
      "source": [
        "# read in accelerometer data\n",
        "sensor_readings = pd.read_csv(\"data/accel.csv\")\n",
        "sensor_readings"
      ]
    },
    {
      "cell_type": "code",
      "execution_count": null,
      "metadata": {
        "id": "qxlSrQ47Ac9O",
        "outputId": "7e4e5f1f-34e2-48ef-e3d2-6769b14fdff7"
      },
      "outputs": [
        {
          "data": {
            "text/plain": [
              "   interval axis  reading\n",
              "0         0    X      0.0\n",
              "3         1    X      0.1\n",
              "6         2    X      0.2\n",
              "9         3    X      0.3"
            ]
          },
          "execution_count": 36,
          "metadata": {},
          "output_type": "execute_result"
        }
      ],
      "source": [
        "# extract X-axis readings\n",
        "sensor_readings[sensor_readings['axis'] == 'X']"
      ]
    },
    {
      "cell_type": "code",
      "execution_count": null,
      "metadata": {
        "id": "o9VUqfr0Ac9O",
        "outputId": "5f371e19-29e5-4c7c-e965-932db4e3fefe"
      },
      "outputs": [
        {
          "data": {
            "text/plain": [
              "axis        X    Y    Z\n",
              "interval               \n",
              "0         0.0  0.5  1.0\n",
              "1         0.1  0.4  0.9\n",
              "2         0.2  0.3  0.8\n",
              "3         0.3  0.2  0.7"
            ]
          },
          "execution_count": 37,
          "metadata": {},
          "output_type": "execute_result"
        }
      ],
      "source": [
        "# pivot the data.  Interval becomes the index, the columns are\n",
        "# the current axes values, and use the readings as values\n",
        "sensor_readings.pivot(index='interval', \n",
        "                     columns='axis', \n",
        "                     values='reading')"
      ]
    },
    {
      "cell_type": "markdown",
      "metadata": {
        "id": "y1gO_4rKAc9P"
      },
      "source": [
        "# Stacking using non-hierarchical indexes"
      ]
    },
    {
      "cell_type": "code",
      "execution_count": null,
      "metadata": {
        "id": "czxLq7w5Ac9P",
        "outputId": "7f4e7e8f-9aba-4a3e-ac5d-0cbbd76942ca"
      },
      "outputs": [
        {
          "data": {
            "text/plain": [
              "     a\n",
              "one  1\n",
              "two  2"
            ]
          },
          "execution_count": 38,
          "metadata": {},
          "output_type": "execute_result"
        }
      ],
      "source": [
        "# simple DataFrame with one column\n",
        "df = pd.DataFrame({'a': [1, 2]}, index={'one', 'two'})\n",
        "df"
      ]
    },
    {
      "cell_type": "code",
      "execution_count": null,
      "metadata": {
        "id": "XWfMo75IAc9P",
        "outputId": "2d6abed1-8fa6-4c0b-b9af-5a6a598ba0d6"
      },
      "outputs": [
        {
          "data": {
            "text/plain": [
              "one  a    1\n",
              "two  a    2\n",
              "dtype: int64"
            ]
          },
          "execution_count": 39,
          "metadata": {},
          "output_type": "execute_result"
        }
      ],
      "source": [
        "# push the column to another level of the index\n",
        "# the result is a Series where values are looked up through\n",
        "# a multi-index\n",
        "stacked1 = df.stack()\n",
        "stacked1"
      ]
    },
    {
      "cell_type": "code",
      "execution_count": null,
      "metadata": {
        "id": "2LG6oyOWAc9P",
        "outputId": "b367a1ca-4830-422b-9970-b1f595e7baec"
      },
      "outputs": [
        {
          "data": {
            "text/plain": [
              "1"
            ]
          },
          "execution_count": 40,
          "metadata": {},
          "output_type": "execute_result"
        }
      ],
      "source": [
        "# lookup one / a using just the index via a tuple\n",
        "stacked1[('one', 'a')]"
      ]
    },
    {
      "cell_type": "code",
      "execution_count": null,
      "metadata": {
        "id": "lI03BpMBAc9Q",
        "outputId": "398221cd-df7b-438f-ef77-5e3c31f3c16e"
      },
      "outputs": [
        {
          "data": {
            "text/plain": [
              "     a  b\n",
              "one  1  3\n",
              "two  2  4"
            ]
          },
          "execution_count": 41,
          "metadata": {},
          "output_type": "execute_result"
        }
      ],
      "source": [
        "# DataFrame with two columns\n",
        "df = pd.DataFrame({'a': [1, 2],\n",
        "                   'b': [3, 4]}, \n",
        "                  index={'one', 'two'})\n",
        "df"
      ]
    },
    {
      "cell_type": "code",
      "execution_count": null,
      "metadata": {
        "id": "uReKDpaKAc9Q",
        "outputId": "d974fdfc-94b3-4553-8b4b-402ac1bc92ae"
      },
      "outputs": [
        {
          "data": {
            "text/plain": [
              "one  a    1\n",
              "     b    3\n",
              "two  a    2\n",
              "     b    4\n",
              "dtype: int64"
            ]
          },
          "execution_count": 42,
          "metadata": {},
          "output_type": "execute_result"
        }
      ],
      "source": [
        "# push the two columns into a single level of the index\n",
        "stacked2 = df.stack()\n",
        "stacked2"
      ]
    },
    {
      "cell_type": "code",
      "execution_count": null,
      "metadata": {
        "id": "slLnp_kfAc9Q",
        "outputId": "f9cd3b7f-e653-491c-9467-9dfa8942809e"
      },
      "outputs": [
        {
          "data": {
            "text/plain": [
              "3"
            ]
          },
          "execution_count": 43,
          "metadata": {},
          "output_type": "execute_result"
        }
      ],
      "source": [
        "# lookup value with index of one / b\n",
        "stacked2[('one', 'b')]"
      ]
    },
    {
      "cell_type": "markdown",
      "metadata": {
        "id": "Kc4bEn-_Ac9R"
      },
      "source": [
        "# Unstacking using hierarchical indexes"
      ]
    },
    {
      "cell_type": "code",
      "execution_count": null,
      "metadata": {
        "id": "rEsWppDqAc9R",
        "outputId": "fbe26cb6-7702-4e4a-befe-d6aa2b530958"
      },
      "outputs": [
        {
          "data": {
            "text/plain": [
              "                      reading\n",
              "who    interval axis         \n",
              "Mike   0        X         0.0\n",
              "                Y         0.5\n",
              "                Z         1.0\n",
              "       1        X         0.1\n",
              "                Y         0.4\n",
              "...                       ...\n",
              "Mikael 2        Y        30.0\n",
              "                Z        80.0\n",
              "       3        X        30.0\n",
              "                Y        20.0\n",
              "                Z        70.0\n",
              "\n",
              "[24 rows x 1 columns]"
            ]
          },
          "execution_count": 44,
          "metadata": {},
          "output_type": "execute_result"
        }
      ],
      "source": [
        "# make two copies of the sensor data, one for each user\n",
        "user1 = sensor_readings.copy()\n",
        "user2 = sensor_readings.copy()\n",
        "# add names to the two copies\n",
        "user1['who'] = 'Mike'\n",
        "user2['who'] = 'Mikael'\n",
        "# for demonstration, lets scale user2's readings\n",
        "user2['reading'] *= 100\n",
        "# and reorganize this to have a hierarchical row index\n",
        "multi_user_sensor_data = pd.concat([user1, user2]) \\\n",
        "            .set_index(['who', 'interval', 'axis'])\n",
        "multi_user_sensor_data"
      ]
    },
    {
      "cell_type": "code",
      "execution_count": null,
      "metadata": {
        "id": "s3JW5_CyAc9R",
        "outputId": "4890bf03-3647-4787-d61a-6cf98775b1c6"
      },
      "outputs": [
        {
          "data": {
            "text/plain": [
              "               reading\n",
              "interval axis         \n",
              "0        X         0.0\n",
              "         Y         0.5\n",
              "         Z         1.0\n",
              "1        X         0.1\n",
              "         Y         0.4\n",
              "...                ...\n",
              "2        Y         0.3\n",
              "         Z         0.8\n",
              "3        X         0.3\n",
              "         Y         0.2\n",
              "         Z         0.7\n",
              "\n",
              "[12 rows x 1 columns]"
            ]
          },
          "execution_count": 45,
          "metadata": {},
          "output_type": "execute_result"
        }
      ],
      "source": [
        "# lookup user data for Mike using just the index\n",
        "multi_user_sensor_data.loc['Mike']"
      ]
    },
    {
      "cell_type": "code",
      "execution_count": null,
      "metadata": {
        "id": "a0r13F1ZAc9R",
        "outputId": "48087b9e-0d6d-42e1-e79d-5b8356234ec8"
      },
      "outputs": [
        {
          "data": {
            "text/plain": [
              "             reading\n",
              "who    axis         \n",
              "Mike   X         0.1\n",
              "       Y         0.4\n",
              "       Z         0.9\n",
              "Mikael X        10.0\n",
              "       Y        40.0\n",
              "       Z        90.0"
            ]
          },
          "execution_count": 46,
          "metadata": {},
          "output_type": "execute_result"
        }
      ],
      "source": [
        "# readings for all users and axes at interval 1\n",
        "multi_user_sensor_data.xs(1, level='interval')"
      ]
    },
    {
      "cell_type": "code",
      "execution_count": null,
      "metadata": {
        "id": "Fus3WUxxAc9S",
        "outputId": "bd917c70-acc5-43c4-d229-bb3cc403f21d"
      },
      "outputs": [
        {
          "data": {
            "text/plain": [
              "                reading             \n",
              "axis                  X     Y      Z\n",
              "who    interval                     \n",
              "Mikael 0            0.0  50.0  100.0\n",
              "       1           10.0  40.0   90.0\n",
              "       2           20.0  30.0   80.0\n",
              "       3           30.0  20.0   70.0\n",
              "Mike   0            0.0   0.5    1.0\n",
              "       1            0.1   0.4    0.9\n",
              "       2            0.2   0.3    0.8\n",
              "       3            0.3   0.2    0.7"
            ]
          },
          "execution_count": 47,
          "metadata": {},
          "output_type": "execute_result"
        }
      ],
      "source": [
        "# unstack the who level\n",
        "multi_user_sensor_data.unstack()"
      ]
    },
    {
      "cell_type": "code",
      "execution_count": null,
      "metadata": {
        "id": "EK4ENGFWAc9S",
        "outputId": "5d501fd7-f36c-476a-ce2d-26ca17b6ed51"
      },
      "outputs": [
        {
          "data": {
            "text/plain": [
              "              reading     \n",
              "who            Mikael Mike\n",
              "interval axis             \n",
              "0        X        0.0  0.0\n",
              "         Y       50.0  0.5\n",
              "         Z      100.0  1.0\n",
              "1        X       10.0  0.1\n",
              "         Y       40.0  0.4\n",
              "...               ...  ...\n",
              "2        Y       30.0  0.3\n",
              "         Z       80.0  0.8\n",
              "3        X       30.0  0.3\n",
              "         Y       20.0  0.2\n",
              "         Z       70.0  0.7\n",
              "\n",
              "[12 rows x 2 columns]"
            ]
          },
          "execution_count": 48,
          "metadata": {},
          "output_type": "execute_result"
        }
      ],
      "source": [
        "# unstack at level=0\n",
        "multi_user_sensor_data.unstack(level=0)"
      ]
    },
    {
      "cell_type": "code",
      "execution_count": null,
      "metadata": {
        "id": "yx0pDEwzAc9S",
        "outputId": "70e0573b-43ac-4372-fdb2-bac6f7edc3a6"
      },
      "outputs": [
        {
          "data": {
            "text/plain": [
              "         reading                              \n",
              "who         Mike           Mikael             \n",
              "axis           X    Y    Z      X     Y      Z\n",
              "interval                                      \n",
              "0            0.0  0.5  1.0    0.0  50.0  100.0\n",
              "1            0.1  0.4  0.9   10.0  40.0   90.0\n",
              "2            0.2  0.3  0.8   20.0  30.0   80.0\n",
              "3            0.3  0.2  0.7   30.0  20.0   70.0"
            ]
          },
          "execution_count": 49,
          "metadata": {},
          "output_type": "execute_result"
        }
      ],
      "source": [
        "# unstack who and axis levels\n",
        "unstacked = multi_user_sensor_data.unstack(['who', 'axis'])\n",
        "unstacked"
      ]
    },
    {
      "cell_type": "code",
      "execution_count": null,
      "metadata": {
        "id": "I6hRysyFAc9T",
        "outputId": "e530a352-ec68-44bb-d140-f5f5c71f517f"
      },
      "outputs": [
        {
          "data": {
            "text/plain": [
              "                reading             \n",
              "axis                  X     Y      Z\n",
              "interval who                        \n",
              "0        Mikael     0.0  50.0  100.0\n",
              "         Mike       0.0   0.5    1.0\n",
              "1        Mikael    10.0  40.0   90.0\n",
              "         Mike       0.1   0.4    0.9\n",
              "2        Mikael    20.0  30.0   80.0\n",
              "         Mike       0.2   0.3    0.8\n",
              "3        Mikael    30.0  20.0   70.0\n",
              "         Mike       0.3   0.2    0.7"
            ]
          },
          "execution_count": 50,
          "metadata": {},
          "output_type": "execute_result"
        }
      ],
      "source": [
        "# and we can of course stack what we have unstacked\n",
        "# this re-stacks who\n",
        "unstacked.stack(level='who')"
      ]
    },
    {
      "cell_type": "markdown",
      "metadata": {
        "id": "_9z0dqptAc9T"
      },
      "source": [
        "# Melting"
      ]
    },
    {
      "cell_type": "code",
      "execution_count": null,
      "metadata": {
        "id": "hOO9ol1lAc9U",
        "outputId": "99069390-e02a-427f-ea9c-e35cebe81c0b"
      },
      "outputs": [
        {
          "data": {
            "text/plain": [
              "   Height    Name  Weight\n",
              "0     6.1    Mike     220\n",
              "1     6.0  Mikael     185"
            ]
          },
          "execution_count": 51,
          "metadata": {},
          "output_type": "execute_result"
        }
      ],
      "source": [
        "# we will demonstrate melting with this DataFrame\n",
        "data = pd.DataFrame({'Name' : ['Mike', 'Mikael'],\n",
        "                     'Height' : [6.1, 6.0],\n",
        "                     'Weight' : [220, 185]})\n",
        "data"
      ]
    },
    {
      "cell_type": "code",
      "execution_count": null,
      "metadata": {
        "id": "xqwi5rE-Ac9U",
        "outputId": "4d75fcc7-7ab4-472b-b443-53f577fe4f51"
      },
      "outputs": [
        {
          "data": {
            "text/plain": [
              "     Name variable  value\n",
              "0    Mike   Height    6.1\n",
              "1  Mikael   Height    6.0\n",
              "2    Mike   Weight  220.0\n",
              "3  Mikael   Weight  185.0"
            ]
          },
          "execution_count": 52,
          "metadata": {},
          "output_type": "execute_result"
        }
      ],
      "source": [
        "# melt it, use Name as the id's, \n",
        "# Height and Weight columns as the variables\n",
        "pd.melt(data, \n",
        "        id_vars=['Name'],\n",
        "        value_vars=['Height', 'Weight'])"
      ]
    },
    {
      "cell_type": "markdown",
      "metadata": {
        "id": "vorAfZkdAc9U"
      },
      "source": [
        "# Performance benefits of stacked data"
      ]
    },
    {
      "cell_type": "code",
      "execution_count": null,
      "metadata": {
        "id": "MfFCxMyqAc9V",
        "outputId": "6e48b383-587c-4313-faec-c9db5d4d41c8"
      },
      "outputs": [
        {
          "data": {
            "text/plain": [
              "(0.5042991369991796, 1.2535194699958083, 0.1478830999985803)"
            ]
          },
          "execution_count": 53,
          "metadata": {},
          "output_type": "execute_result"
        }
      ],
      "source": [
        "# stacked scalar access can be a lot faster than\n",
        "# column access\n",
        "\n",
        "# time the different methods\n",
        "import timeit\n",
        "t = timeit.Timer(\"stacked1[('one', 'a')]\", \n",
        "                 \"from __main__ import stacked1, df\")\n",
        "r1 = timeit.timeit(lambda: stacked1.loc[('one', 'a')], \n",
        "                   number=10000)\n",
        "r2 = timeit.timeit(lambda: df.loc['one']['a'], \n",
        "                   number=10000)\n",
        "r3 = timeit.timeit(lambda: df.iloc[1, 0], \n",
        "                   number=10000)\n",
        "\n",
        "# and the results are...  Yes, it's the fastest of the three\n",
        "r1, r2, r3"
      ]
    }
  ],
  "metadata": {
    "anaconda-cloud": {},
    "kernelspec": {
      "display_name": "Python 3",
      "language": "python",
      "name": "python3"
    },
    "language_info": {
      "codemirror_mode": {
        "name": "ipython",
        "version": 3
      },
      "file_extension": ".py",
      "mimetype": "text/x-python",
      "name": "python",
      "nbconvert_exporter": "python",
      "pygments_lexer": "ipython3",
      "version": "3.6.1"
    },
    "colab": {
      "name": "AIDL220325-2.ipynb",
      "provenance": [],
      "collapsed_sections": [
        "_YtssiLrAc9I",
        "jO-MB5JNAc9L",
        "sWOynCa2Ac9N",
        "y1gO_4rKAc9P",
        "Kc4bEn-_Ac9R",
        "_9z0dqptAc9T",
        "vorAfZkdAc9U"
      ],
      "include_colab_link": true
    }
  },
  "nbformat": 4,
  "nbformat_minor": 0
}