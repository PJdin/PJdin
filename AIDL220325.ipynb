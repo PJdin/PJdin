{
  "cells": [
    {
      "cell_type": "markdown",
      "metadata": {
        "id": "view-in-github",
        "colab_type": "text"
      },
      "source": [
        "<a href=\"https://colab.research.google.com/github/PJdin/PJdin/blob/main/AIDL220325.ipynb\" target=\"_parent\"><img src=\"https://colab.research.google.com/assets/colab-badge.svg\" alt=\"Open In Colab\"/></a>"
      ]
    },
    {
      "cell_type": "markdown",
      "metadata": {
        "id": "CRTT_1g7s4gn"
      },
      "source": [
        "# Configuring panadas"
      ]
    },
    {
      "cell_type": "code",
      "source": [
        "!wget https://raw.githubusercontent.com/PacktPublishing/Learning-Pandas-Second-Edition/master/data/sp500.csv"
      ],
      "metadata": {
        "colab": {
          "base_uri": "https://localhost:8080/"
        },
        "id": "l_DBHC7AtYYd",
        "outputId": "626cc697-994f-45ec-82eb-39fafd501877"
      },
      "execution_count": 3,
      "outputs": [
        {
          "output_type": "stream",
          "name": "stdout",
          "text": [
            "--2022-03-25 06:13:47--  https://raw.githubusercontent.com/PacktPublishing/Learning-Pandas-Second-Edition/master/data/sp500.csv\n",
            "Resolving raw.githubusercontent.com (raw.githubusercontent.com)... 185.199.108.133, 185.199.109.133, 185.199.110.133, ...\n",
            "Connecting to raw.githubusercontent.com (raw.githubusercontent.com)|185.199.108.133|:443... connected.\n",
            "HTTP request sent, awaiting response... 200 OK\n",
            "Length: 83629 (82K) [text/plain]\n",
            "Saving to: ‘sp500.csv’\n",
            "\n",
            "\rsp500.csv             0%[                    ]       0  --.-KB/s               \rsp500.csv           100%[===================>]  81.67K  --.-KB/s    in 0.01s   \n",
            "\n",
            "2022-03-25 06:13:47 (6.32 MB/s) - ‘sp500.csv’ saved [83629/83629]\n",
            "\n"
          ]
        }
      ]
    },
    {
      "cell_type": "code",
      "execution_count": 7,
      "metadata": {
        "collapsed": true,
        "id": "LsS_N8sNs4gp"
      },
      "outputs": [],
      "source": [
        "# import numpy and pandas\n",
        "import numpy as np\n",
        "import pandas as pd\n",
        "\n",
        "# used for dates\n",
        "import datetime\n",
        "from datetime import datetime, date\n",
        "\n",
        "\n",
        "# Set some pandas options controlling output format\n",
        "pd.set_option('display.notebook_repr_html', False)\n",
        "pd.set_option('display.max_columns', 8)\n",
        "pd.set_option('display.max_rows', 10)\n",
        "pd.set_option('display.width', 60)\n",
        "\n",
        "# bring in matplotlib for graphics\n",
        "import matplotlib.pyplot as plt\n",
        "%matplotlib inline\n",
        "\n",
        "# read in the data and print the first five rows\n",
        "# use the Symbol column as the index, and \n",
        "# only read in columns in positions 0, 2, 3, 7\n",
        "sp500 = pd.read_csv(\"./sp500.csv\", \n",
        "                    index_col='Symbol', \n",
        "                    usecols=[0, 2, 3, 7])"
      ]
    },
    {
      "cell_type": "markdown",
      "metadata": {
        "id": "qMgqLHDzs4gr"
      },
      "source": [
        "# The importance of indexes"
      ]
    },
    {
      "cell_type": "code",
      "execution_count": 13,
      "metadata": {
        "id": "47EGHNeMs4gs",
        "outputId": "e2c55de8-fae9-462c-ec86-41e97e4e52b5",
        "colab": {
          "base_uri": "https://localhost:8080/",
          "height": 215
        }
      },
      "outputs": [
        {
          "output_type": "execute_result",
          "data": {
            "text/plain": [
              "        foo  key\n",
              "0  0.126970  100\n",
              "1  0.966718  101\n",
              "2  0.260476  102\n",
              "3  0.897237  103\n",
              "4  0.376750  104"
            ],
            "text/html": [
              "\n",
              "  <div id=\"df-ca87fa8b-8340-4d46-80ce-1ff73c759af4\">\n",
              "    <div class=\"colab-df-container\">\n",
              "      None\n",
              "      <button class=\"colab-df-convert\" onclick=\"convertToInteractive('df-ca87fa8b-8340-4d46-80ce-1ff73c759af4')\"\n",
              "              title=\"Convert this dataframe to an interactive table.\"\n",
              "              style=\"display:none;\">\n",
              "        \n",
              "  <svg xmlns=\"http://www.w3.org/2000/svg\" height=\"24px\"viewBox=\"0 0 24 24\"\n",
              "       width=\"24px\">\n",
              "    <path d=\"M0 0h24v24H0V0z\" fill=\"none\"/>\n",
              "    <path d=\"M18.56 5.44l.94 2.06.94-2.06 2.06-.94-2.06-.94-.94-2.06-.94 2.06-2.06.94zm-11 1L8.5 8.5l.94-2.06 2.06-.94-2.06-.94L8.5 2.5l-.94 2.06-2.06.94zm10 10l.94 2.06.94-2.06 2.06-.94-2.06-.94-.94-2.06-.94 2.06-2.06.94z\"/><path d=\"M17.41 7.96l-1.37-1.37c-.4-.4-.92-.59-1.43-.59-.52 0-1.04.2-1.43.59L10.3 9.45l-7.72 7.72c-.78.78-.78 2.05 0 2.83L4 21.41c.39.39.9.59 1.41.59.51 0 1.02-.2 1.41-.59l7.78-7.78 2.81-2.81c.8-.78.8-2.07 0-2.86zM5.41 20L4 18.59l7.72-7.72 1.47 1.35L5.41 20z\"/>\n",
              "  </svg>\n",
              "      </button>\n",
              "      \n",
              "  <style>\n",
              "    .colab-df-container {\n",
              "      display:flex;\n",
              "      flex-wrap:wrap;\n",
              "      gap: 12px;\n",
              "    }\n",
              "\n",
              "    .colab-df-convert {\n",
              "      background-color: #E8F0FE;\n",
              "      border: none;\n",
              "      border-radius: 50%;\n",
              "      cursor: pointer;\n",
              "      display: none;\n",
              "      fill: #1967D2;\n",
              "      height: 32px;\n",
              "      padding: 0 0 0 0;\n",
              "      width: 32px;\n",
              "    }\n",
              "\n",
              "    .colab-df-convert:hover {\n",
              "      background-color: #E2EBFA;\n",
              "      box-shadow: 0px 1px 2px rgba(60, 64, 67, 0.3), 0px 1px 3px 1px rgba(60, 64, 67, 0.15);\n",
              "      fill: #174EA6;\n",
              "    }\n",
              "\n",
              "    [theme=dark] .colab-df-convert {\n",
              "      background-color: #3B4455;\n",
              "      fill: #D2E3FC;\n",
              "    }\n",
              "\n",
              "    [theme=dark] .colab-df-convert:hover {\n",
              "      background-color: #434B5C;\n",
              "      box-shadow: 0px 1px 3px 1px rgba(0, 0, 0, 0.15);\n",
              "      filter: drop-shadow(0px 1px 2px rgba(0, 0, 0, 0.3));\n",
              "      fill: #FFFFFF;\n",
              "    }\n",
              "  </style>\n",
              "\n",
              "      <script>\n",
              "        const buttonEl =\n",
              "          document.querySelector('#df-ca87fa8b-8340-4d46-80ce-1ff73c759af4 button.colab-df-convert');\n",
              "        buttonEl.style.display =\n",
              "          google.colab.kernel.accessAllowed ? 'block' : 'none';\n",
              "\n",
              "        async function convertToInteractive(key) {\n",
              "          const element = document.querySelector('#df-ca87fa8b-8340-4d46-80ce-1ff73c759af4');\n",
              "          const dataTable =\n",
              "            await google.colab.kernel.invokeFunction('convertToInteractive',\n",
              "                                                     [key], {});\n",
              "          if (!dataTable) return;\n",
              "\n",
              "          const docLinkHtml = 'Like what you see? Visit the ' +\n",
              "            '<a target=\"_blank\" href=https://colab.research.google.com/notebooks/data_table.ipynb>data table notebook</a>'\n",
              "            + ' to learn more about interactive tables.';\n",
              "          element.innerHTML = '';\n",
              "          dataTable['output_type'] = 'display_data';\n",
              "          await google.colab.output.renderOutput(dataTable, element);\n",
              "          const docLink = document.createElement('div');\n",
              "          docLink.innerHTML = docLinkHtml;\n",
              "          element.appendChild(docLink);\n",
              "        }\n",
              "      </script>\n",
              "    </div>\n",
              "  </div>\n",
              "  "
            ]
          },
          "metadata": {},
          "execution_count": 13
        }
      ],
      "source": [
        "# create DataFame of random numbers and a key column\n",
        "# random.seed 產生第一次執行的亂數 之後執行都輸出同樣的參數\n",
        "np.random.seed(123456)\n",
        "df = pd.DataFrame({'foo':np.random.random(10000), 'key':range(100, 10100)})\n",
        "df[:5]"
      ]
    },
    {
      "cell_type": "code",
      "execution_count": 12,
      "metadata": {
        "id": "ATpY0PqZs4gt",
        "outputId": "9d29d50f-450a-44b2-ae97-0e5b0b812a9e",
        "colab": {
          "base_uri": "https://localhost:8080/",
          "height": 129
        }
      },
      "outputs": [
        {
          "output_type": "execute_result",
          "data": {
            "text/plain": [
              "           foo    key\n",
              "9999  0.272283  10099"
            ],
            "text/html": [
              "\n",
              "  <div id=\"df-113b4b9f-e8f6-40d3-89de-d3b1ac5a96cd\">\n",
              "    <div class=\"colab-df-container\">\n",
              "      None\n",
              "      <button class=\"colab-df-convert\" onclick=\"convertToInteractive('df-113b4b9f-e8f6-40d3-89de-d3b1ac5a96cd')\"\n",
              "              title=\"Convert this dataframe to an interactive table.\"\n",
              "              style=\"display:none;\">\n",
              "        \n",
              "  <svg xmlns=\"http://www.w3.org/2000/svg\" height=\"24px\"viewBox=\"0 0 24 24\"\n",
              "       width=\"24px\">\n",
              "    <path d=\"M0 0h24v24H0V0z\" fill=\"none\"/>\n",
              "    <path d=\"M18.56 5.44l.94 2.06.94-2.06 2.06-.94-2.06-.94-.94-2.06-.94 2.06-2.06.94zm-11 1L8.5 8.5l.94-2.06 2.06-.94-2.06-.94L8.5 2.5l-.94 2.06-2.06.94zm10 10l.94 2.06.94-2.06 2.06-.94-2.06-.94-.94-2.06-.94 2.06-2.06.94z\"/><path d=\"M17.41 7.96l-1.37-1.37c-.4-.4-.92-.59-1.43-.59-.52 0-1.04.2-1.43.59L10.3 9.45l-7.72 7.72c-.78.78-.78 2.05 0 2.83L4 21.41c.39.39.9.59 1.41.59.51 0 1.02-.2 1.41-.59l7.78-7.78 2.81-2.81c.8-.78.8-2.07 0-2.86zM5.41 20L4 18.59l7.72-7.72 1.47 1.35L5.41 20z\"/>\n",
              "  </svg>\n",
              "      </button>\n",
              "      \n",
              "  <style>\n",
              "    .colab-df-container {\n",
              "      display:flex;\n",
              "      flex-wrap:wrap;\n",
              "      gap: 12px;\n",
              "    }\n",
              "\n",
              "    .colab-df-convert {\n",
              "      background-color: #E8F0FE;\n",
              "      border: none;\n",
              "      border-radius: 50%;\n",
              "      cursor: pointer;\n",
              "      display: none;\n",
              "      fill: #1967D2;\n",
              "      height: 32px;\n",
              "      padding: 0 0 0 0;\n",
              "      width: 32px;\n",
              "    }\n",
              "\n",
              "    .colab-df-convert:hover {\n",
              "      background-color: #E2EBFA;\n",
              "      box-shadow: 0px 1px 2px rgba(60, 64, 67, 0.3), 0px 1px 3px 1px rgba(60, 64, 67, 0.15);\n",
              "      fill: #174EA6;\n",
              "    }\n",
              "\n",
              "    [theme=dark] .colab-df-convert {\n",
              "      background-color: #3B4455;\n",
              "      fill: #D2E3FC;\n",
              "    }\n",
              "\n",
              "    [theme=dark] .colab-df-convert:hover {\n",
              "      background-color: #434B5C;\n",
              "      box-shadow: 0px 1px 3px 1px rgba(0, 0, 0, 0.15);\n",
              "      filter: drop-shadow(0px 1px 2px rgba(0, 0, 0, 0.3));\n",
              "      fill: #FFFFFF;\n",
              "    }\n",
              "  </style>\n",
              "\n",
              "      <script>\n",
              "        const buttonEl =\n",
              "          document.querySelector('#df-113b4b9f-e8f6-40d3-89de-d3b1ac5a96cd button.colab-df-convert');\n",
              "        buttonEl.style.display =\n",
              "          google.colab.kernel.accessAllowed ? 'block' : 'none';\n",
              "\n",
              "        async function convertToInteractive(key) {\n",
              "          const element = document.querySelector('#df-113b4b9f-e8f6-40d3-89de-d3b1ac5a96cd');\n",
              "          const dataTable =\n",
              "            await google.colab.kernel.invokeFunction('convertToInteractive',\n",
              "                                                     [key], {});\n",
              "          if (!dataTable) return;\n",
              "\n",
              "          const docLinkHtml = 'Like what you see? Visit the ' +\n",
              "            '<a target=\"_blank\" href=https://colab.research.google.com/notebooks/data_table.ipynb>data table notebook</a>'\n",
              "            + ' to learn more about interactive tables.';\n",
              "          element.innerHTML = '';\n",
              "          dataTable['output_type'] = 'display_data';\n",
              "          await google.colab.output.renderOutput(dataTable, element);\n",
              "          const docLink = document.createElement('div');\n",
              "          docLink.innerHTML = docLinkHtml;\n",
              "          element.appendChild(docLink);\n",
              "        }\n",
              "      </script>\n",
              "    </div>\n",
              "  </div>\n",
              "  "
            ]
          },
          "metadata": {},
          "execution_count": 12
        }
      ],
      "source": [
        "# boolean select where key is 10099\n",
        "df[df.key==10099]"
      ]
    },
    {
      "cell_type": "code",
      "execution_count": 14,
      "metadata": {
        "id": "gc3DS7tos4gt",
        "outputId": "16fef8b6-62c4-4034-f06b-67a9038acdc5",
        "colab": {
          "base_uri": "https://localhost:8080/"
        }
      },
      "outputs": [
        {
          "output_type": "stream",
          "name": "stdout",
          "text": [
            "The slowest run took 4.44 times longer than the fastest. This could mean that an intermediate result is being cached.\n",
            "1000 loops, best of 5: 310 µs per loop\n"
          ]
        }
      ],
      "source": [
        "# time the select\n",
        "%timeit df[df.key==10099]"
      ]
    },
    {
      "cell_type": "code",
      "execution_count": 15,
      "metadata": {
        "id": "LxS1lnB2s4gt",
        "outputId": "289c8ec9-5bb8-472c-83ff-deff8ba72808",
        "colab": {
          "base_uri": "https://localhost:8080/",
          "height": 215
        }
      },
      "outputs": [
        {
          "output_type": "execute_result",
          "data": {
            "text/plain": [
              "          foo\n",
              "key          \n",
              "100  0.126970\n",
              "101  0.966718\n",
              "102  0.260476\n",
              "103  0.897237\n",
              "104  0.376750"
            ],
            "text/html": [
              "\n",
              "  <div id=\"df-f39352c7-6809-4382-b66f-ebaf5ce2ea4c\">\n",
              "    <div class=\"colab-df-container\">\n",
              "      None\n",
              "      <button class=\"colab-df-convert\" onclick=\"convertToInteractive('df-f39352c7-6809-4382-b66f-ebaf5ce2ea4c')\"\n",
              "              title=\"Convert this dataframe to an interactive table.\"\n",
              "              style=\"display:none;\">\n",
              "        \n",
              "  <svg xmlns=\"http://www.w3.org/2000/svg\" height=\"24px\"viewBox=\"0 0 24 24\"\n",
              "       width=\"24px\">\n",
              "    <path d=\"M0 0h24v24H0V0z\" fill=\"none\"/>\n",
              "    <path d=\"M18.56 5.44l.94 2.06.94-2.06 2.06-.94-2.06-.94-.94-2.06-.94 2.06-2.06.94zm-11 1L8.5 8.5l.94-2.06 2.06-.94-2.06-.94L8.5 2.5l-.94 2.06-2.06.94zm10 10l.94 2.06.94-2.06 2.06-.94-2.06-.94-.94-2.06-.94 2.06-2.06.94z\"/><path d=\"M17.41 7.96l-1.37-1.37c-.4-.4-.92-.59-1.43-.59-.52 0-1.04.2-1.43.59L10.3 9.45l-7.72 7.72c-.78.78-.78 2.05 0 2.83L4 21.41c.39.39.9.59 1.41.59.51 0 1.02-.2 1.41-.59l7.78-7.78 2.81-2.81c.8-.78.8-2.07 0-2.86zM5.41 20L4 18.59l7.72-7.72 1.47 1.35L5.41 20z\"/>\n",
              "  </svg>\n",
              "      </button>\n",
              "      \n",
              "  <style>\n",
              "    .colab-df-container {\n",
              "      display:flex;\n",
              "      flex-wrap:wrap;\n",
              "      gap: 12px;\n",
              "    }\n",
              "\n",
              "    .colab-df-convert {\n",
              "      background-color: #E8F0FE;\n",
              "      border: none;\n",
              "      border-radius: 50%;\n",
              "      cursor: pointer;\n",
              "      display: none;\n",
              "      fill: #1967D2;\n",
              "      height: 32px;\n",
              "      padding: 0 0 0 0;\n",
              "      width: 32px;\n",
              "    }\n",
              "\n",
              "    .colab-df-convert:hover {\n",
              "      background-color: #E2EBFA;\n",
              "      box-shadow: 0px 1px 2px rgba(60, 64, 67, 0.3), 0px 1px 3px 1px rgba(60, 64, 67, 0.15);\n",
              "      fill: #174EA6;\n",
              "    }\n",
              "\n",
              "    [theme=dark] .colab-df-convert {\n",
              "      background-color: #3B4455;\n",
              "      fill: #D2E3FC;\n",
              "    }\n",
              "\n",
              "    [theme=dark] .colab-df-convert:hover {\n",
              "      background-color: #434B5C;\n",
              "      box-shadow: 0px 1px 3px 1px rgba(0, 0, 0, 0.15);\n",
              "      filter: drop-shadow(0px 1px 2px rgba(0, 0, 0, 0.3));\n",
              "      fill: #FFFFFF;\n",
              "    }\n",
              "  </style>\n",
              "\n",
              "      <script>\n",
              "        const buttonEl =\n",
              "          document.querySelector('#df-f39352c7-6809-4382-b66f-ebaf5ce2ea4c button.colab-df-convert');\n",
              "        buttonEl.style.display =\n",
              "          google.colab.kernel.accessAllowed ? 'block' : 'none';\n",
              "\n",
              "        async function convertToInteractive(key) {\n",
              "          const element = document.querySelector('#df-f39352c7-6809-4382-b66f-ebaf5ce2ea4c');\n",
              "          const dataTable =\n",
              "            await google.colab.kernel.invokeFunction('convertToInteractive',\n",
              "                                                     [key], {});\n",
              "          if (!dataTable) return;\n",
              "\n",
              "          const docLinkHtml = 'Like what you see? Visit the ' +\n",
              "            '<a target=\"_blank\" href=https://colab.research.google.com/notebooks/data_table.ipynb>data table notebook</a>'\n",
              "            + ' to learn more about interactive tables.';\n",
              "          element.innerHTML = '';\n",
              "          dataTable['output_type'] = 'display_data';\n",
              "          await google.colab.output.renderOutput(dataTable, element);\n",
              "          const docLink = document.createElement('div');\n",
              "          docLink.innerHTML = docLinkHtml;\n",
              "          element.appendChild(docLink);\n",
              "        }\n",
              "      </script>\n",
              "    </div>\n",
              "  </div>\n",
              "  "
            ]
          },
          "metadata": {},
          "execution_count": 15
        }
      ],
      "source": [
        "# move key to the index\n",
        "df_with_index = df.set_index(['key'])\n",
        "df_with_index[:5]"
      ]
    },
    {
      "cell_type": "code",
      "execution_count": 16,
      "metadata": {
        "id": "cgSjH7LQs4gt",
        "outputId": "b092a515-7c95-4613-9b71-7e107364ab1c",
        "colab": {
          "base_uri": "https://localhost:8080/"
        }
      },
      "outputs": [
        {
          "output_type": "execute_result",
          "data": {
            "text/plain": [
              "foo    0.272283\n",
              "Name: 10099, dtype: float64"
            ]
          },
          "metadata": {},
          "execution_count": 16
        }
      ],
      "source": [
        "# now can lookup with the index\n",
        "# 用索引找尋\n",
        "df_with_index.loc[10099]"
      ]
    },
    {
      "cell_type": "code",
      "execution_count": 17,
      "metadata": {
        "id": "Tjsr-89ts4gu",
        "outputId": "63bb5540-ef2d-41fe-f003-ad59d6457547",
        "colab": {
          "base_uri": "https://localhost:8080/"
        }
      },
      "outputs": [
        {
          "output_type": "stream",
          "name": "stdout",
          "text": [
            "The slowest run took 6.18 times longer than the fastest. This could mean that an intermediate result is being cached.\n",
            "10000 loops, best of 5: 66.9 µs per loop\n"
          ]
        }
      ],
      "source": [
        "# and this is a lot faster\n",
        "%timeit df_with_index.loc[10099]"
      ]
    },
    {
      "cell_type": "markdown",
      "metadata": {
        "id": "y4z2HVKps4gu"
      },
      "source": [
        "# The fundamental index type: Index"
      ]
    },
    {
      "cell_type": "code",
      "execution_count": 18,
      "metadata": {
        "id": "Gx8mw8ZBs4gv",
        "outputId": "0bce7774-e66c-4da8-864e-9de6cf93ae20",
        "colab": {
          "base_uri": "https://localhost:8080/",
          "height": 150
        }
      },
      "outputs": [
        {
          "output_type": "execute_result",
          "data": {
            "text/plain": [
              "           City  Temperature\n",
              "0      Missoula           70\n",
              "1  Philadelphia           80"
            ],
            "text/html": [
              "\n",
              "  <div id=\"df-e46e503e-49f4-4bd0-ba7c-367017b4efbd\">\n",
              "    <div class=\"colab-df-container\">\n",
              "      None\n",
              "      <button class=\"colab-df-convert\" onclick=\"convertToInteractive('df-e46e503e-49f4-4bd0-ba7c-367017b4efbd')\"\n",
              "              title=\"Convert this dataframe to an interactive table.\"\n",
              "              style=\"display:none;\">\n",
              "        \n",
              "  <svg xmlns=\"http://www.w3.org/2000/svg\" height=\"24px\"viewBox=\"0 0 24 24\"\n",
              "       width=\"24px\">\n",
              "    <path d=\"M0 0h24v24H0V0z\" fill=\"none\"/>\n",
              "    <path d=\"M18.56 5.44l.94 2.06.94-2.06 2.06-.94-2.06-.94-.94-2.06-.94 2.06-2.06.94zm-11 1L8.5 8.5l.94-2.06 2.06-.94-2.06-.94L8.5 2.5l-.94 2.06-2.06.94zm10 10l.94 2.06.94-2.06 2.06-.94-2.06-.94-.94-2.06-.94 2.06-2.06.94z\"/><path d=\"M17.41 7.96l-1.37-1.37c-.4-.4-.92-.59-1.43-.59-.52 0-1.04.2-1.43.59L10.3 9.45l-7.72 7.72c-.78.78-.78 2.05 0 2.83L4 21.41c.39.39.9.59 1.41.59.51 0 1.02-.2 1.41-.59l7.78-7.78 2.81-2.81c.8-.78.8-2.07 0-2.86zM5.41 20L4 18.59l7.72-7.72 1.47 1.35L5.41 20z\"/>\n",
              "  </svg>\n",
              "      </button>\n",
              "      \n",
              "  <style>\n",
              "    .colab-df-container {\n",
              "      display:flex;\n",
              "      flex-wrap:wrap;\n",
              "      gap: 12px;\n",
              "    }\n",
              "\n",
              "    .colab-df-convert {\n",
              "      background-color: #E8F0FE;\n",
              "      border: none;\n",
              "      border-radius: 50%;\n",
              "      cursor: pointer;\n",
              "      display: none;\n",
              "      fill: #1967D2;\n",
              "      height: 32px;\n",
              "      padding: 0 0 0 0;\n",
              "      width: 32px;\n",
              "    }\n",
              "\n",
              "    .colab-df-convert:hover {\n",
              "      background-color: #E2EBFA;\n",
              "      box-shadow: 0px 1px 2px rgba(60, 64, 67, 0.3), 0px 1px 3px 1px rgba(60, 64, 67, 0.15);\n",
              "      fill: #174EA6;\n",
              "    }\n",
              "\n",
              "    [theme=dark] .colab-df-convert {\n",
              "      background-color: #3B4455;\n",
              "      fill: #D2E3FC;\n",
              "    }\n",
              "\n",
              "    [theme=dark] .colab-df-convert:hover {\n",
              "      background-color: #434B5C;\n",
              "      box-shadow: 0px 1px 3px 1px rgba(0, 0, 0, 0.15);\n",
              "      filter: drop-shadow(0px 1px 2px rgba(0, 0, 0, 0.3));\n",
              "      fill: #FFFFFF;\n",
              "    }\n",
              "  </style>\n",
              "\n",
              "      <script>\n",
              "        const buttonEl =\n",
              "          document.querySelector('#df-e46e503e-49f4-4bd0-ba7c-367017b4efbd button.colab-df-convert');\n",
              "        buttonEl.style.display =\n",
              "          google.colab.kernel.accessAllowed ? 'block' : 'none';\n",
              "\n",
              "        async function convertToInteractive(key) {\n",
              "          const element = document.querySelector('#df-e46e503e-49f4-4bd0-ba7c-367017b4efbd');\n",
              "          const dataTable =\n",
              "            await google.colab.kernel.invokeFunction('convertToInteractive',\n",
              "                                                     [key], {});\n",
              "          if (!dataTable) return;\n",
              "\n",
              "          const docLinkHtml = 'Like what you see? Visit the ' +\n",
              "            '<a target=\"_blank\" href=https://colab.research.google.com/notebooks/data_table.ipynb>data table notebook</a>'\n",
              "            + ' to learn more about interactive tables.';\n",
              "          element.innerHTML = '';\n",
              "          dataTable['output_type'] = 'display_data';\n",
              "          await google.colab.output.renderOutput(dataTable, element);\n",
              "          const docLink = document.createElement('div');\n",
              "          docLink.innerHTML = docLinkHtml;\n",
              "          element.appendChild(docLink);\n",
              "        }\n",
              "      </script>\n",
              "    </div>\n",
              "  </div>\n",
              "  "
            ]
          },
          "metadata": {},
          "execution_count": 18
        }
      ],
      "source": [
        "# show that the columns are actually an index\n",
        "temps = pd.DataFrame({ \"City\": [\"Missoula\", \"Philadelphia\"],\n",
        "                       \"Temperature\": [70, 80] })\n",
        "temps"
      ]
    },
    {
      "cell_type": "code",
      "execution_count": 21,
      "metadata": {
        "id": "x4UAYCkes4gv",
        "outputId": "f90f09e7-c09c-4409-d0ee-5521d91c941d",
        "colab": {
          "base_uri": "https://localhost:8080/"
        }
      },
      "outputs": [
        {
          "output_type": "execute_result",
          "data": {
            "text/plain": [
              "Index(['City', 'Temperature'], dtype='object')"
            ]
          },
          "metadata": {},
          "execution_count": 21
        }
      ],
      "source": [
        "# we can see columns is an index\n",
        "# 查看列與類型\n",
        "temps.columns"
      ]
    },
    {
      "cell_type": "markdown",
      "metadata": {
        "id": "zNhQRcd8s4gv"
      },
      "source": [
        "# Integer index labels using Int64Index and RangeIndex"
      ]
    },
    {
      "cell_type": "code",
      "execution_count": 20,
      "metadata": {
        "id": "MM69w_VDs4gw",
        "outputId": "eaaff152-1e6b-4a6c-8187-a62a07f8982c",
        "colab": {
          "base_uri": "https://localhost:8080/",
          "height": 69
        }
      },
      "outputs": [
        {
          "output_type": "execute_result",
          "data": {
            "text/plain": [
              "    0\n",
              "0  10\n",
              "1  11\n",
              "2  12\n",
              "3  13\n",
              "4  14"
            ],
            "text/html": [
              "\n",
              "  <div id=\"df-d326eb4b-b802-4315-8d8d-12f4d8ba3a5a\">\n",
              "    <div class=\"colab-df-container\">\n",
              "      None\n",
              "      <button class=\"colab-df-convert\" onclick=\"convertToInteractive('df-d326eb4b-b802-4315-8d8d-12f4d8ba3a5a')\"\n",
              "              title=\"Convert this dataframe to an interactive table.\"\n",
              "              style=\"display:none;\">\n",
              "        \n",
              "  <svg xmlns=\"http://www.w3.org/2000/svg\" height=\"24px\"viewBox=\"0 0 24 24\"\n",
              "       width=\"24px\">\n",
              "    <path d=\"M0 0h24v24H0V0z\" fill=\"none\"/>\n",
              "    <path d=\"M18.56 5.44l.94 2.06.94-2.06 2.06-.94-2.06-.94-.94-2.06-.94 2.06-2.06.94zm-11 1L8.5 8.5l.94-2.06 2.06-.94-2.06-.94L8.5 2.5l-.94 2.06-2.06.94zm10 10l.94 2.06.94-2.06 2.06-.94-2.06-.94-.94-2.06-.94 2.06-2.06.94z\"/><path d=\"M17.41 7.96l-1.37-1.37c-.4-.4-.92-.59-1.43-.59-.52 0-1.04.2-1.43.59L10.3 9.45l-7.72 7.72c-.78.78-.78 2.05 0 2.83L4 21.41c.39.39.9.59 1.41.59.51 0 1.02-.2 1.41-.59l7.78-7.78 2.81-2.81c.8-.78.8-2.07 0-2.86zM5.41 20L4 18.59l7.72-7.72 1.47 1.35L5.41 20z\"/>\n",
              "  </svg>\n",
              "      </button>\n",
              "      \n",
              "  <style>\n",
              "    .colab-df-container {\n",
              "      display:flex;\n",
              "      flex-wrap:wrap;\n",
              "      gap: 12px;\n",
              "    }\n",
              "\n",
              "    .colab-df-convert {\n",
              "      background-color: #E8F0FE;\n",
              "      border: none;\n",
              "      border-radius: 50%;\n",
              "      cursor: pointer;\n",
              "      display: none;\n",
              "      fill: #1967D2;\n",
              "      height: 32px;\n",
              "      padding: 0 0 0 0;\n",
              "      width: 32px;\n",
              "    }\n",
              "\n",
              "    .colab-df-convert:hover {\n",
              "      background-color: #E2EBFA;\n",
              "      box-shadow: 0px 1px 2px rgba(60, 64, 67, 0.3), 0px 1px 3px 1px rgba(60, 64, 67, 0.15);\n",
              "      fill: #174EA6;\n",
              "    }\n",
              "\n",
              "    [theme=dark] .colab-df-convert {\n",
              "      background-color: #3B4455;\n",
              "      fill: #D2E3FC;\n",
              "    }\n",
              "\n",
              "    [theme=dark] .colab-df-convert:hover {\n",
              "      background-color: #434B5C;\n",
              "      box-shadow: 0px 1px 3px 1px rgba(0, 0, 0, 0.15);\n",
              "      filter: drop-shadow(0px 1px 2px rgba(0, 0, 0, 0.3));\n",
              "      fill: #FFFFFF;\n",
              "    }\n",
              "  </style>\n",
              "\n",
              "      <script>\n",
              "        const buttonEl =\n",
              "          document.querySelector('#df-d326eb4b-b802-4315-8d8d-12f4d8ba3a5a button.colab-df-convert');\n",
              "        buttonEl.style.display =\n",
              "          google.colab.kernel.accessAllowed ? 'block' : 'none';\n",
              "\n",
              "        async function convertToInteractive(key) {\n",
              "          const element = document.querySelector('#df-d326eb4b-b802-4315-8d8d-12f4d8ba3a5a');\n",
              "          const dataTable =\n",
              "            await google.colab.kernel.invokeFunction('convertToInteractive',\n",
              "                                                     [key], {});\n",
              "          if (!dataTable) return;\n",
              "\n",
              "          const docLinkHtml = 'Like what you see? Visit the ' +\n",
              "            '<a target=\"_blank\" href=https://colab.research.google.com/notebooks/data_table.ipynb>data table notebook</a>'\n",
              "            + ' to learn more about interactive tables.';\n",
              "          element.innerHTML = '';\n",
              "          dataTable['output_type'] = 'display_data';\n",
              "          await google.colab.output.renderOutput(dataTable, element);\n",
              "          const docLink = document.createElement('div');\n",
              "          docLink.innerHTML = docLinkHtml;\n",
              "          element.appendChild(docLink);\n",
              "        }\n",
              "      </script>\n",
              "    </div>\n",
              "  </div>\n",
              "  "
            ]
          },
          "metadata": {},
          "execution_count": 20
        },
        {
          "output_type": "stream",
          "name": "stdout",
          "text": [
            "Error: Runtime no longer has a reference to this dataframe, please re-run this cell and try again.\n"
          ]
        }
      ],
      "source": [
        "# explicitly create an Int64Index\n",
        "df_i64 = pd.DataFrame(np.arange(10, 20), index=np.arange(0, 10))\n",
        "df_i64[:5]"
      ]
    },
    {
      "cell_type": "code",
      "execution_count": 22,
      "metadata": {
        "id": "dPcp_k7ns4gw",
        "outputId": "2c4574eb-3256-4b69-a0fa-c7d17d0101e1",
        "colab": {
          "base_uri": "https://localhost:8080/"
        }
      },
      "outputs": [
        {
          "output_type": "execute_result",
          "data": {
            "text/plain": [
              "Int64Index([0, 1, 2, 3, 4, 5, 6, 7, 8, 9], dtype='int64')"
            ]
          },
          "metadata": {},
          "execution_count": 22
        }
      ],
      "source": [
        "# view the index\n",
        "df_i64.index"
      ]
    },
    {
      "cell_type": "code",
      "execution_count": 26,
      "metadata": {
        "id": "RjashAIYs4gx",
        "outputId": "80c2f0f0-f67e-449b-9432-edd0c193d046",
        "colab": {
          "base_uri": "https://localhost:8080/",
          "height": 215
        }
      },
      "outputs": [
        {
          "output_type": "execute_result",
          "data": {
            "text/plain": [
              "    0\n",
              "0  10\n",
              "1  11\n",
              "2  12\n",
              "3  13\n",
              "4  14"
            ],
            "text/html": [
              "\n",
              "  <div id=\"df-956a75fd-f303-44af-88e0-101bde859e0d\">\n",
              "    <div class=\"colab-df-container\">\n",
              "      None\n",
              "      <button class=\"colab-df-convert\" onclick=\"convertToInteractive('df-956a75fd-f303-44af-88e0-101bde859e0d')\"\n",
              "              title=\"Convert this dataframe to an interactive table.\"\n",
              "              style=\"display:none;\">\n",
              "        \n",
              "  <svg xmlns=\"http://www.w3.org/2000/svg\" height=\"24px\"viewBox=\"0 0 24 24\"\n",
              "       width=\"24px\">\n",
              "    <path d=\"M0 0h24v24H0V0z\" fill=\"none\"/>\n",
              "    <path d=\"M18.56 5.44l.94 2.06.94-2.06 2.06-.94-2.06-.94-.94-2.06-.94 2.06-2.06.94zm-11 1L8.5 8.5l.94-2.06 2.06-.94-2.06-.94L8.5 2.5l-.94 2.06-2.06.94zm10 10l.94 2.06.94-2.06 2.06-.94-2.06-.94-.94-2.06-.94 2.06-2.06.94z\"/><path d=\"M17.41 7.96l-1.37-1.37c-.4-.4-.92-.59-1.43-.59-.52 0-1.04.2-1.43.59L10.3 9.45l-7.72 7.72c-.78.78-.78 2.05 0 2.83L4 21.41c.39.39.9.59 1.41.59.51 0 1.02-.2 1.41-.59l7.78-7.78 2.81-2.81c.8-.78.8-2.07 0-2.86zM5.41 20L4 18.59l7.72-7.72 1.47 1.35L5.41 20z\"/>\n",
              "  </svg>\n",
              "      </button>\n",
              "      \n",
              "  <style>\n",
              "    .colab-df-container {\n",
              "      display:flex;\n",
              "      flex-wrap:wrap;\n",
              "      gap: 12px;\n",
              "    }\n",
              "\n",
              "    .colab-df-convert {\n",
              "      background-color: #E8F0FE;\n",
              "      border: none;\n",
              "      border-radius: 50%;\n",
              "      cursor: pointer;\n",
              "      display: none;\n",
              "      fill: #1967D2;\n",
              "      height: 32px;\n",
              "      padding: 0 0 0 0;\n",
              "      width: 32px;\n",
              "    }\n",
              "\n",
              "    .colab-df-convert:hover {\n",
              "      background-color: #E2EBFA;\n",
              "      box-shadow: 0px 1px 2px rgba(60, 64, 67, 0.3), 0px 1px 3px 1px rgba(60, 64, 67, 0.15);\n",
              "      fill: #174EA6;\n",
              "    }\n",
              "\n",
              "    [theme=dark] .colab-df-convert {\n",
              "      background-color: #3B4455;\n",
              "      fill: #D2E3FC;\n",
              "    }\n",
              "\n",
              "    [theme=dark] .colab-df-convert:hover {\n",
              "      background-color: #434B5C;\n",
              "      box-shadow: 0px 1px 3px 1px rgba(0, 0, 0, 0.15);\n",
              "      filter: drop-shadow(0px 1px 2px rgba(0, 0, 0, 0.3));\n",
              "      fill: #FFFFFF;\n",
              "    }\n",
              "  </style>\n",
              "\n",
              "      <script>\n",
              "        const buttonEl =\n",
              "          document.querySelector('#df-956a75fd-f303-44af-88e0-101bde859e0d button.colab-df-convert');\n",
              "        buttonEl.style.display =\n",
              "          google.colab.kernel.accessAllowed ? 'block' : 'none';\n",
              "\n",
              "        async function convertToInteractive(key) {\n",
              "          const element = document.querySelector('#df-956a75fd-f303-44af-88e0-101bde859e0d');\n",
              "          const dataTable =\n",
              "            await google.colab.kernel.invokeFunction('convertToInteractive',\n",
              "                                                     [key], {});\n",
              "          if (!dataTable) return;\n",
              "\n",
              "          const docLinkHtml = 'Like what you see? Visit the ' +\n",
              "            '<a target=\"_blank\" href=https://colab.research.google.com/notebooks/data_table.ipynb>data table notebook</a>'\n",
              "            + ' to learn more about interactive tables.';\n",
              "          element.innerHTML = '';\n",
              "          dataTable['output_type'] = 'display_data';\n",
              "          await google.colab.output.renderOutput(dataTable, element);\n",
              "          const docLink = document.createElement('div');\n",
              "          docLink.innerHTML = docLinkHtml;\n",
              "          element.appendChild(docLink);\n",
              "        }\n",
              "      </script>\n",
              "    </div>\n",
              "  </div>\n",
              "  "
            ]
          },
          "metadata": {},
          "execution_count": 26
        }
      ],
      "source": [
        "# by default we are given a RangeIndex\n",
        "# 欄位給予數字10~15\n",
        "df_range = pd.DataFrame(np.arange(10, 15))\n",
        "df_range[:5]"
      ]
    },
    {
      "cell_type": "code",
      "execution_count": 27,
      "metadata": {
        "id": "QHjAEuk_s4gx",
        "outputId": "34a4ac83-a7b5-40fc-be67-4cf3cd14d729",
        "colab": {
          "base_uri": "https://localhost:8080/"
        }
      },
      "outputs": [
        {
          "output_type": "execute_result",
          "data": {
            "text/plain": [
              "RangeIndex(start=0, stop=5, step=1)"
            ]
          },
          "metadata": {},
          "execution_count": 27
        }
      ],
      "source": [
        "# start 起點 stop 停止 step間隔\n",
        "df_range.index"
      ]
    },
    {
      "cell_type": "markdown",
      "metadata": {
        "id": "tpUkZaXes4gx"
      },
      "source": [
        "# Floating point labels using Float64Index"
      ]
    },
    {
      "cell_type": "code",
      "execution_count": 28,
      "metadata": {
        "id": "gTiuKtF2s4gx",
        "outputId": "4f528cae-b425-49c0-dbf2-91b8d62e3785",
        "colab": {
          "base_uri": "https://localhost:8080/",
          "height": 215
        }
      },
      "outputs": [
        {
          "output_type": "execute_result",
          "data": {
            "text/plain": [
              "      0\n",
              "0.0   0\n",
              "0.5   5\n",
              "1.0  10\n",
              "1.5  15\n",
              "2.0  20"
            ],
            "text/html": [
              "\n",
              "  <div id=\"df-910bc8d0-4207-47cd-baf4-d40364815fa4\">\n",
              "    <div class=\"colab-df-container\">\n",
              "      None\n",
              "      <button class=\"colab-df-convert\" onclick=\"convertToInteractive('df-910bc8d0-4207-47cd-baf4-d40364815fa4')\"\n",
              "              title=\"Convert this dataframe to an interactive table.\"\n",
              "              style=\"display:none;\">\n",
              "        \n",
              "  <svg xmlns=\"http://www.w3.org/2000/svg\" height=\"24px\"viewBox=\"0 0 24 24\"\n",
              "       width=\"24px\">\n",
              "    <path d=\"M0 0h24v24H0V0z\" fill=\"none\"/>\n",
              "    <path d=\"M18.56 5.44l.94 2.06.94-2.06 2.06-.94-2.06-.94-.94-2.06-.94 2.06-2.06.94zm-11 1L8.5 8.5l.94-2.06 2.06-.94-2.06-.94L8.5 2.5l-.94 2.06-2.06.94zm10 10l.94 2.06.94-2.06 2.06-.94-2.06-.94-.94-2.06-.94 2.06-2.06.94z\"/><path d=\"M17.41 7.96l-1.37-1.37c-.4-.4-.92-.59-1.43-.59-.52 0-1.04.2-1.43.59L10.3 9.45l-7.72 7.72c-.78.78-.78 2.05 0 2.83L4 21.41c.39.39.9.59 1.41.59.51 0 1.02-.2 1.41-.59l7.78-7.78 2.81-2.81c.8-.78.8-2.07 0-2.86zM5.41 20L4 18.59l7.72-7.72 1.47 1.35L5.41 20z\"/>\n",
              "  </svg>\n",
              "      </button>\n",
              "      \n",
              "  <style>\n",
              "    .colab-df-container {\n",
              "      display:flex;\n",
              "      flex-wrap:wrap;\n",
              "      gap: 12px;\n",
              "    }\n",
              "\n",
              "    .colab-df-convert {\n",
              "      background-color: #E8F0FE;\n",
              "      border: none;\n",
              "      border-radius: 50%;\n",
              "      cursor: pointer;\n",
              "      display: none;\n",
              "      fill: #1967D2;\n",
              "      height: 32px;\n",
              "      padding: 0 0 0 0;\n",
              "      width: 32px;\n",
              "    }\n",
              "\n",
              "    .colab-df-convert:hover {\n",
              "      background-color: #E2EBFA;\n",
              "      box-shadow: 0px 1px 2px rgba(60, 64, 67, 0.3), 0px 1px 3px 1px rgba(60, 64, 67, 0.15);\n",
              "      fill: #174EA6;\n",
              "    }\n",
              "\n",
              "    [theme=dark] .colab-df-convert {\n",
              "      background-color: #3B4455;\n",
              "      fill: #D2E3FC;\n",
              "    }\n",
              "\n",
              "    [theme=dark] .colab-df-convert:hover {\n",
              "      background-color: #434B5C;\n",
              "      box-shadow: 0px 1px 3px 1px rgba(0, 0, 0, 0.15);\n",
              "      filter: drop-shadow(0px 1px 2px rgba(0, 0, 0, 0.3));\n",
              "      fill: #FFFFFF;\n",
              "    }\n",
              "  </style>\n",
              "\n",
              "      <script>\n",
              "        const buttonEl =\n",
              "          document.querySelector('#df-910bc8d0-4207-47cd-baf4-d40364815fa4 button.colab-df-convert');\n",
              "        buttonEl.style.display =\n",
              "          google.colab.kernel.accessAllowed ? 'block' : 'none';\n",
              "\n",
              "        async function convertToInteractive(key) {\n",
              "          const element = document.querySelector('#df-910bc8d0-4207-47cd-baf4-d40364815fa4');\n",
              "          const dataTable =\n",
              "            await google.colab.kernel.invokeFunction('convertToInteractive',\n",
              "                                                     [key], {});\n",
              "          if (!dataTable) return;\n",
              "\n",
              "          const docLinkHtml = 'Like what you see? Visit the ' +\n",
              "            '<a target=\"_blank\" href=https://colab.research.google.com/notebooks/data_table.ipynb>data table notebook</a>'\n",
              "            + ' to learn more about interactive tables.';\n",
              "          element.innerHTML = '';\n",
              "          dataTable['output_type'] = 'display_data';\n",
              "          await google.colab.output.renderOutput(dataTable, element);\n",
              "          const docLink = document.createElement('div');\n",
              "          docLink.innerHTML = docLinkHtml;\n",
              "          element.appendChild(docLink);\n",
              "        }\n",
              "      </script>\n",
              "    </div>\n",
              "  </div>\n",
              "  "
            ]
          },
          "metadata": {},
          "execution_count": 28
        }
      ],
      "source": [
        "# indexes using a Float64Index\n",
        "# pd.DateFrame(欄，列)\n",
        "# arange(起始數字，結束數字，間隔)\n",
        "df_f64 = pd.DataFrame(np.arange(0, 1000, 5), \n",
        "                      np.arange(0.0, 100.0, 0.5))\n",
        "df_f64.iloc[:5] # need iloc to slice first five"
      ]
    },
    {
      "cell_type": "code",
      "execution_count": 29,
      "metadata": {
        "id": "XTxfXWy6s4gy",
        "outputId": "d8bb5a26-e93f-46d6-a5a3-99d677e8715b",
        "colab": {
          "base_uri": "https://localhost:8080/"
        }
      },
      "outputs": [
        {
          "output_type": "execute_result",
          "data": {
            "text/plain": [
              "Float64Index([ 0.0,  0.5,  1.0,  1.5,  2.0,  2.5,  3.0,\n",
              "               3.5,  4.0,  4.5,\n",
              "              ...\n",
              "              95.0, 95.5, 96.0, 96.5, 97.0, 97.5, 98.0,\n",
              "              98.5, 99.0, 99.5],\n",
              "             dtype='float64', length=200)"
            ]
          },
          "metadata": {},
          "execution_count": 29
        }
      ],
      "source": [
        "# 輸出index欄位\n",
        "df_f64.index"
      ]
    },
    {
      "cell_type": "markdown",
      "metadata": {
        "id": "R1387-Ets4gy"
      },
      "source": [
        "# Representing discrete intervals using IntervalIndex"
      ]
    },
    {
      "cell_type": "code",
      "execution_count": 30,
      "metadata": {
        "id": "WLUJSVqes4gy",
        "outputId": "ebcec4a1-346d-44ad-f1e8-005479a6ea74",
        "colab": {
          "base_uri": "https://localhost:8080/",
          "height": 193
        }
      },
      "outputs": [
        {
          "output_type": "execute_result",
          "data": {
            "text/plain": [
              "            A\n",
              "(0.0, 0.5]  1\n",
              "(0.5, 1.0]  2\n",
              "(1.0, 1.5]  3\n",
              "(1.5, 2.0]  4"
            ],
            "text/html": [
              "\n",
              "  <div id=\"df-c377afca-c7ac-4c21-8681-d6ea01e40317\">\n",
              "    <div class=\"colab-df-container\">\n",
              "      None\n",
              "      <button class=\"colab-df-convert\" onclick=\"convertToInteractive('df-c377afca-c7ac-4c21-8681-d6ea01e40317')\"\n",
              "              title=\"Convert this dataframe to an interactive table.\"\n",
              "              style=\"display:none;\">\n",
              "        \n",
              "  <svg xmlns=\"http://www.w3.org/2000/svg\" height=\"24px\"viewBox=\"0 0 24 24\"\n",
              "       width=\"24px\">\n",
              "    <path d=\"M0 0h24v24H0V0z\" fill=\"none\"/>\n",
              "    <path d=\"M18.56 5.44l.94 2.06.94-2.06 2.06-.94-2.06-.94-.94-2.06-.94 2.06-2.06.94zm-11 1L8.5 8.5l.94-2.06 2.06-.94-2.06-.94L8.5 2.5l-.94 2.06-2.06.94zm10 10l.94 2.06.94-2.06 2.06-.94-2.06-.94-.94-2.06-.94 2.06-2.06.94z\"/><path d=\"M17.41 7.96l-1.37-1.37c-.4-.4-.92-.59-1.43-.59-.52 0-1.04.2-1.43.59L10.3 9.45l-7.72 7.72c-.78.78-.78 2.05 0 2.83L4 21.41c.39.39.9.59 1.41.59.51 0 1.02-.2 1.41-.59l7.78-7.78 2.81-2.81c.8-.78.8-2.07 0-2.86zM5.41 20L4 18.59l7.72-7.72 1.47 1.35L5.41 20z\"/>\n",
              "  </svg>\n",
              "      </button>\n",
              "      \n",
              "  <style>\n",
              "    .colab-df-container {\n",
              "      display:flex;\n",
              "      flex-wrap:wrap;\n",
              "      gap: 12px;\n",
              "    }\n",
              "\n",
              "    .colab-df-convert {\n",
              "      background-color: #E8F0FE;\n",
              "      border: none;\n",
              "      border-radius: 50%;\n",
              "      cursor: pointer;\n",
              "      display: none;\n",
              "      fill: #1967D2;\n",
              "      height: 32px;\n",
              "      padding: 0 0 0 0;\n",
              "      width: 32px;\n",
              "    }\n",
              "\n",
              "    .colab-df-convert:hover {\n",
              "      background-color: #E2EBFA;\n",
              "      box-shadow: 0px 1px 2px rgba(60, 64, 67, 0.3), 0px 1px 3px 1px rgba(60, 64, 67, 0.15);\n",
              "      fill: #174EA6;\n",
              "    }\n",
              "\n",
              "    [theme=dark] .colab-df-convert {\n",
              "      background-color: #3B4455;\n",
              "      fill: #D2E3FC;\n",
              "    }\n",
              "\n",
              "    [theme=dark] .colab-df-convert:hover {\n",
              "      background-color: #434B5C;\n",
              "      box-shadow: 0px 1px 3px 1px rgba(0, 0, 0, 0.15);\n",
              "      filter: drop-shadow(0px 1px 2px rgba(0, 0, 0, 0.3));\n",
              "      fill: #FFFFFF;\n",
              "    }\n",
              "  </style>\n",
              "\n",
              "      <script>\n",
              "        const buttonEl =\n",
              "          document.querySelector('#df-c377afca-c7ac-4c21-8681-d6ea01e40317 button.colab-df-convert');\n",
              "        buttonEl.style.display =\n",
              "          google.colab.kernel.accessAllowed ? 'block' : 'none';\n",
              "\n",
              "        async function convertToInteractive(key) {\n",
              "          const element = document.querySelector('#df-c377afca-c7ac-4c21-8681-d6ea01e40317');\n",
              "          const dataTable =\n",
              "            await google.colab.kernel.invokeFunction('convertToInteractive',\n",
              "                                                     [key], {});\n",
              "          if (!dataTable) return;\n",
              "\n",
              "          const docLinkHtml = 'Like what you see? Visit the ' +\n",
              "            '<a target=\"_blank\" href=https://colab.research.google.com/notebooks/data_table.ipynb>data table notebook</a>'\n",
              "            + ' to learn more about interactive tables.';\n",
              "          element.innerHTML = '';\n",
              "          dataTable['output_type'] = 'display_data';\n",
              "          await google.colab.output.renderOutput(dataTable, element);\n",
              "          const docLink = document.createElement('div');\n",
              "          docLink.innerHTML = docLinkHtml;\n",
              "          element.appendChild(docLink);\n",
              "        }\n",
              "      </script>\n",
              "    </div>\n",
              "  </div>\n",
              "  "
            ]
          },
          "metadata": {},
          "execution_count": 30
        }
      ],
      "source": [
        "# a DataFrame with an IntervalIndex\n",
        "# IntervalIndex.from_breaks(數字) 從拆分數組構造一個區間索引\n",
        "df_interval = pd.DataFrame({ \"A\": [1, 2, 3, 4]},\n",
        "                    index = pd.IntervalIndex.from_breaks(\n",
        "                        [0, 0.5, 1.0, 1.5, 2.0]))\n",
        "df_interval"
      ]
    },
    {
      "cell_type": "code",
      "execution_count": 31,
      "metadata": {
        "id": "Lx49m9dBs4gz",
        "outputId": "eb72631a-b4dd-498b-8728-b1e35ef15c8e",
        "colab": {
          "base_uri": "https://localhost:8080/"
        }
      },
      "outputs": [
        {
          "output_type": "execute_result",
          "data": {
            "text/plain": [
              "IntervalIndex([(0.0, 0.5], (0.5, 1.0], (1.0, 1.5], (1.5, 2.0]], dtype='interval[float64, right]')"
            ]
          },
          "metadata": {},
          "execution_count": 31
        }
      ],
      "source": [
        "# 列出index欄位\n",
        "df_interval.index"
      ]
    },
    {
      "cell_type": "markdown",
      "metadata": {
        "collapsed": true,
        "id": "TNB1VPcls4gz"
      },
      "source": [
        "# Categorical values as an index: CategoricalIndex"
      ]
    },
    {
      "cell_type": "code",
      "execution_count": 32,
      "metadata": {
        "id": "UZuv6Etks4gz",
        "outputId": "828ff10f-ff4f-4c35-b22d-dd7b9574d6d8",
        "colab": {
          "base_uri": "https://localhost:8080/",
          "height": 219
        }
      },
      "outputs": [
        {
          "output_type": "error",
          "ename": "TypeError",
          "evalue": "ignored",
          "traceback": [
            "\u001b[0;31m---------------------------------------------------------------------------\u001b[0m",
            "\u001b[0;31mTypeError\u001b[0m                                 Traceback (most recent call last)",
            "\u001b[0;32m<ipython-input-32-5e4fb2aad27a>\u001b[0m in \u001b[0;36m<module>\u001b[0;34m()\u001b[0m\n\u001b[1;32m      3\u001b[0m                                'B': list('aabbca')})\n\u001b[1;32m      4\u001b[0m df_categorical['B'] = df_categorical['B'].astype('category', \n\u001b[0;32m----> 5\u001b[0;31m               categories=list('cab'))\n\u001b[0m\u001b[1;32m      6\u001b[0m \u001b[0mdf_categorical\u001b[0m\u001b[0;34m\u001b[0m\u001b[0;34m\u001b[0m\u001b[0m\n",
            "\u001b[0;31mTypeError\u001b[0m: astype() got an unexpected keyword argument 'categories'"
          ]
        }
      ],
      "source": [
        "# 可能版本問題有錯誤\n",
        "# create a DataFrame with a Categorical coulmn\n",
        "df_categorical = pd.DataFrame({'A': np.arange(6),\n",
        "                               'B': list('aabbca')})\n",
        "df_categorical['B'] = df_categorical['B'].astype('category', \n",
        "              categories=list('cab'))\n",
        "df_categorical"
      ]
    },
    {
      "cell_type": "code",
      "execution_count": 35,
      "metadata": {
        "id": "FjS-sjwRs4g0",
        "outputId": "3893baf1-7032-4cf7-c1f0-bbbd15b5e0ef",
        "colab": {
          "base_uri": "https://localhost:8080/",
          "height": 347
        }
      },
      "outputs": [
        {
          "output_type": "error",
          "ename": "KeyError",
          "evalue": "ignored",
          "traceback": [
            "\u001b[0;31m---------------------------------------------------------------------------\u001b[0m",
            "\u001b[0;31mKeyError\u001b[0m                                  Traceback (most recent call last)",
            "\u001b[0;32m<ipython-input-35-78a1832fcc13>\u001b[0m in \u001b[0;36m<module>\u001b[0;34m()\u001b[0m\n\u001b[1;32m      1\u001b[0m \u001b[0;31m# shift the categorical column to the index\u001b[0m\u001b[0;34m\u001b[0m\u001b[0;34m\u001b[0m\u001b[0;34m\u001b[0m\u001b[0m\n\u001b[0;32m----> 2\u001b[0;31m \u001b[0mdf_categorical\u001b[0m \u001b[0;34m=\u001b[0m \u001b[0mdf_categorical\u001b[0m\u001b[0;34m.\u001b[0m\u001b[0mset_index\u001b[0m\u001b[0;34m(\u001b[0m\u001b[0;34m'B'\u001b[0m\u001b[0;34m)\u001b[0m\u001b[0;34m\u001b[0m\u001b[0;34m\u001b[0m\u001b[0m\n\u001b[0m\u001b[1;32m      3\u001b[0m \u001b[0mdf_categorical\u001b[0m\u001b[0;34m.\u001b[0m\u001b[0mindex\u001b[0m\u001b[0;34m\u001b[0m\u001b[0;34m\u001b[0m\u001b[0m\n",
            "\u001b[0;32m/usr/local/lib/python3.7/dist-packages/pandas/util/_decorators.py\u001b[0m in \u001b[0;36mwrapper\u001b[0;34m(*args, **kwargs)\u001b[0m\n\u001b[1;32m    309\u001b[0m                     \u001b[0mstacklevel\u001b[0m\u001b[0;34m=\u001b[0m\u001b[0mstacklevel\u001b[0m\u001b[0;34m,\u001b[0m\u001b[0;34m\u001b[0m\u001b[0;34m\u001b[0m\u001b[0m\n\u001b[1;32m    310\u001b[0m                 )\n\u001b[0;32m--> 311\u001b[0;31m             \u001b[0;32mreturn\u001b[0m \u001b[0mfunc\u001b[0m\u001b[0;34m(\u001b[0m\u001b[0;34m*\u001b[0m\u001b[0margs\u001b[0m\u001b[0;34m,\u001b[0m \u001b[0;34m**\u001b[0m\u001b[0mkwargs\u001b[0m\u001b[0;34m)\u001b[0m\u001b[0;34m\u001b[0m\u001b[0;34m\u001b[0m\u001b[0m\n\u001b[0m\u001b[1;32m    312\u001b[0m \u001b[0;34m\u001b[0m\u001b[0m\n\u001b[1;32m    313\u001b[0m         \u001b[0;32mreturn\u001b[0m \u001b[0mwrapper\u001b[0m\u001b[0;34m\u001b[0m\u001b[0;34m\u001b[0m\u001b[0m\n",
            "\u001b[0;32m/usr/local/lib/python3.7/dist-packages/pandas/core/frame.py\u001b[0m in \u001b[0;36mset_index\u001b[0;34m(self, keys, drop, append, inplace, verify_integrity)\u001b[0m\n\u001b[1;32m   5449\u001b[0m \u001b[0;34m\u001b[0m\u001b[0m\n\u001b[1;32m   5450\u001b[0m         \u001b[0;32mif\u001b[0m \u001b[0mmissing\u001b[0m\u001b[0;34m:\u001b[0m\u001b[0;34m\u001b[0m\u001b[0;34m\u001b[0m\u001b[0m\n\u001b[0;32m-> 5451\u001b[0;31m             \u001b[0;32mraise\u001b[0m \u001b[0mKeyError\u001b[0m\u001b[0;34m(\u001b[0m\u001b[0;34mf\"None of {missing} are in the columns\"\u001b[0m\u001b[0;34m)\u001b[0m\u001b[0;34m\u001b[0m\u001b[0;34m\u001b[0m\u001b[0m\n\u001b[0m\u001b[1;32m   5452\u001b[0m \u001b[0;34m\u001b[0m\u001b[0m\n\u001b[1;32m   5453\u001b[0m         \u001b[0;32mif\u001b[0m \u001b[0minplace\u001b[0m\u001b[0;34m:\u001b[0m\u001b[0;34m\u001b[0m\u001b[0;34m\u001b[0m\u001b[0m\n",
            "\u001b[0;31mKeyError\u001b[0m: \"None of ['B'] are in the columns\""
          ]
        }
      ],
      "source": [
        "# shift the categorical column to the index\n",
        "df_categorical = df_categorical.set_index('B')\n",
        "df_categorical.index"
      ]
    },
    {
      "cell_type": "code",
      "execution_count": 34,
      "metadata": {
        "id": "MuC7JP4as4g0",
        "outputId": "5dce04c0-c7e3-4eee-9a41-0347dc4ddabb",
        "colab": {
          "base_uri": "https://localhost:8080/",
          "height": 172
        }
      },
      "outputs": [
        {
          "output_type": "execute_result",
          "data": {
            "text/plain": [
              "   A\n",
              "B   \n",
              "a  0\n",
              "a  1\n",
              "a  5"
            ],
            "text/html": [
              "\n",
              "  <div id=\"df-f4ad1850-787b-4384-ab2f-ddac8caff0e7\">\n",
              "    <div class=\"colab-df-container\">\n",
              "      None\n",
              "      <button class=\"colab-df-convert\" onclick=\"convertToInteractive('df-f4ad1850-787b-4384-ab2f-ddac8caff0e7')\"\n",
              "              title=\"Convert this dataframe to an interactive table.\"\n",
              "              style=\"display:none;\">\n",
              "        \n",
              "  <svg xmlns=\"http://www.w3.org/2000/svg\" height=\"24px\"viewBox=\"0 0 24 24\"\n",
              "       width=\"24px\">\n",
              "    <path d=\"M0 0h24v24H0V0z\" fill=\"none\"/>\n",
              "    <path d=\"M18.56 5.44l.94 2.06.94-2.06 2.06-.94-2.06-.94-.94-2.06-.94 2.06-2.06.94zm-11 1L8.5 8.5l.94-2.06 2.06-.94-2.06-.94L8.5 2.5l-.94 2.06-2.06.94zm10 10l.94 2.06.94-2.06 2.06-.94-2.06-.94-.94-2.06-.94 2.06-2.06.94z\"/><path d=\"M17.41 7.96l-1.37-1.37c-.4-.4-.92-.59-1.43-.59-.52 0-1.04.2-1.43.59L10.3 9.45l-7.72 7.72c-.78.78-.78 2.05 0 2.83L4 21.41c.39.39.9.59 1.41.59.51 0 1.02-.2 1.41-.59l7.78-7.78 2.81-2.81c.8-.78.8-2.07 0-2.86zM5.41 20L4 18.59l7.72-7.72 1.47 1.35L5.41 20z\"/>\n",
              "  </svg>\n",
              "      </button>\n",
              "      \n",
              "  <style>\n",
              "    .colab-df-container {\n",
              "      display:flex;\n",
              "      flex-wrap:wrap;\n",
              "      gap: 12px;\n",
              "    }\n",
              "\n",
              "    .colab-df-convert {\n",
              "      background-color: #E8F0FE;\n",
              "      border: none;\n",
              "      border-radius: 50%;\n",
              "      cursor: pointer;\n",
              "      display: none;\n",
              "      fill: #1967D2;\n",
              "      height: 32px;\n",
              "      padding: 0 0 0 0;\n",
              "      width: 32px;\n",
              "    }\n",
              "\n",
              "    .colab-df-convert:hover {\n",
              "      background-color: #E2EBFA;\n",
              "      box-shadow: 0px 1px 2px rgba(60, 64, 67, 0.3), 0px 1px 3px 1px rgba(60, 64, 67, 0.15);\n",
              "      fill: #174EA6;\n",
              "    }\n",
              "\n",
              "    [theme=dark] .colab-df-convert {\n",
              "      background-color: #3B4455;\n",
              "      fill: #D2E3FC;\n",
              "    }\n",
              "\n",
              "    [theme=dark] .colab-df-convert:hover {\n",
              "      background-color: #434B5C;\n",
              "      box-shadow: 0px 1px 3px 1px rgba(0, 0, 0, 0.15);\n",
              "      filter: drop-shadow(0px 1px 2px rgba(0, 0, 0, 0.3));\n",
              "      fill: #FFFFFF;\n",
              "    }\n",
              "  </style>\n",
              "\n",
              "      <script>\n",
              "        const buttonEl =\n",
              "          document.querySelector('#df-f4ad1850-787b-4384-ab2f-ddac8caff0e7 button.colab-df-convert');\n",
              "        buttonEl.style.display =\n",
              "          google.colab.kernel.accessAllowed ? 'block' : 'none';\n",
              "\n",
              "        async function convertToInteractive(key) {\n",
              "          const element = document.querySelector('#df-f4ad1850-787b-4384-ab2f-ddac8caff0e7');\n",
              "          const dataTable =\n",
              "            await google.colab.kernel.invokeFunction('convertToInteractive',\n",
              "                                                     [key], {});\n",
              "          if (!dataTable) return;\n",
              "\n",
              "          const docLinkHtml = 'Like what you see? Visit the ' +\n",
              "            '<a target=\"_blank\" href=https://colab.research.google.com/notebooks/data_table.ipynb>data table notebook</a>'\n",
              "            + ' to learn more about interactive tables.';\n",
              "          element.innerHTML = '';\n",
              "          dataTable['output_type'] = 'display_data';\n",
              "          await google.colab.output.renderOutput(dataTable, element);\n",
              "          const docLink = document.createElement('div');\n",
              "          docLink.innerHTML = docLinkHtml;\n",
              "          element.appendChild(docLink);\n",
              "        }\n",
              "      </script>\n",
              "    </div>\n",
              "  </div>\n",
              "  "
            ]
          },
          "metadata": {},
          "execution_count": 34
        }
      ],
      "source": [
        "# lookup values in category 'a'\n",
        "df_categorical.loc['a']"
      ]
    },
    {
      "cell_type": "markdown",
      "metadata": {
        "collapsed": true,
        "id": "ukpPFzIds4g0"
      },
      "source": [
        "# Indexing by dates and times using DatetimeIndex"
      ]
    },
    {
      "cell_type": "code",
      "execution_count": 38,
      "metadata": {
        "id": "1vUCxeLGs4g0",
        "outputId": "8ceae30d-59a3-46e0-cf34-0a068d3be032",
        "colab": {
          "base_uri": "https://localhost:8080/"
        }
      },
      "outputs": [
        {
          "output_type": "execute_result",
          "data": {
            "text/plain": [
              "2017-05-01 00:00:00   -0.449276\n",
              "2017-05-01 01:00:00    2.472977\n",
              "2017-05-01 02:00:00   -0.716023\n",
              "2017-05-01 03:00:00   -0.032915\n",
              "2017-05-01 04:00:00   -0.337780\n",
              "Freq: H, dtype: float64"
            ]
          },
          "metadata": {},
          "execution_count": 38
        }
      ],
      "source": [
        "# create a DatetimeIndex from a date range\n",
        "# date_range(開始時間,periods=時期,freq=頻率) 指定的頻率生成時間點\n",
        "rng = pd.date_range('5/1/2017', periods=5, freq='H')\n",
        "ts = pd.Series(np.random.randn(len(rng)), index=rng)\n",
        "ts"
      ]
    },
    {
      "cell_type": "code",
      "execution_count": 40,
      "metadata": {
        "id": "OCipjobEs4g0",
        "outputId": "90323aea-687c-4e4e-a098-7576daba236d",
        "colab": {
          "base_uri": "https://localhost:8080/"
        }
      },
      "outputs": [
        {
          "output_type": "execute_result",
          "data": {
            "text/plain": [
              "DatetimeIndex(['2017-05-01 00:00:00',\n",
              "               '2017-05-01 01:00:00',\n",
              "               '2017-05-01 02:00:00',\n",
              "               '2017-05-01 03:00:00',\n",
              "               '2017-05-01 04:00:00'],\n",
              "              dtype='datetime64[ns]', freq='H')"
            ]
          },
          "metadata": {},
          "execution_count": 40
        }
      ],
      "source": [
        "# 列出index欄位與類型\n",
        "ts.index"
      ]
    },
    {
      "cell_type": "markdown",
      "metadata": {
        "id": "8wJEQNizs4g1"
      },
      "source": [
        "# Indexing periods of time using PeriodIndex"
      ]
    },
    {
      "cell_type": "code",
      "execution_count": 41,
      "metadata": {
        "id": "IXj_W1Rhs4g1",
        "outputId": "8e4b4f5f-0f88-4d39-a447-a94df1c654e9",
        "colab": {
          "base_uri": "https://localhost:8080/"
        }
      },
      "outputs": [
        {
          "output_type": "execute_result",
          "data": {
            "text/plain": [
              "PeriodIndex(['2017-01', '2017-02', '2017-03'], dtype='period[M]')"
            ]
          },
          "metadata": {},
          "execution_count": 41
        }
      ],
      "source": [
        "# explicily create a PeriodIndex\n",
        "PeriodIndex([時間],frep=頻率)\n",
        "periods = pd.PeriodIndex(['2017-1', '2017-2', '2017-3'], freq='M')\n",
        "periods"
      ]
    },
    {
      "cell_type": "code",
      "execution_count": 42,
      "metadata": {
        "id": "HbGfzAoas4g1",
        "outputId": "8f0dabb7-08db-449c-df41-c989c969d161",
        "colab": {
          "base_uri": "https://localhost:8080/"
        }
      },
      "outputs": [
        {
          "output_type": "execute_result",
          "data": {
            "text/plain": [
              "2017-01   -0.437051\n",
              "2017-02    0.533249\n",
              "2017-03   -0.819218\n",
              "Freq: M, dtype: float64"
            ]
          },
          "metadata": {},
          "execution_count": 42
        }
      ],
      "source": [
        "# use the index in a Series\n",
        "# Series類似陣列的物件\n",
        "period_series = pd.Series(np.random.randn(len(periods)), \n",
        "                          index=periods)\n",
        "period_series"
      ]
    },
    {
      "cell_type": "markdown",
      "metadata": {
        "id": "_75UyV99s4g1"
      },
      "source": [
        "# Creating and using an index with a Series or DataFrame"
      ]
    },
    {
      "cell_type": "code",
      "execution_count": null,
      "metadata": {
        "id": "IUXUqohms4g2",
        "outputId": "e34c8195-7463-4449-b53b-e8417c56c622"
      },
      "outputs": [
        {
          "data": {
            "text/plain": [
              "DatetimeIndex(['2017-05-01 00:00:00',\n",
              "               '2017-05-01 01:00:00',\n",
              "               '2017-05-01 02:00:00',\n",
              "               '2017-05-01 03:00:00',\n",
              "               '2017-05-01 04:00:00'],\n",
              "              dtype='datetime64[ns]', freq='H')"
            ]
          },
          "execution_count": 25,
          "metadata": {},
          "output_type": "execute_result"
        }
      ],
      "source": [
        "# create a DatetimeIndex\n",
        "date_times = pd.DatetimeIndex(pd.date_range('5/1/2017', \n",
        "                                            periods=5, \n",
        "                                            freq='H'))\n",
        "date_times"
      ]
    },
    {
      "cell_type": "code",
      "execution_count": null,
      "metadata": {
        "id": "C2Xk_QAvs4g2",
        "outputId": "e478993b-5919-4166-ad69-80f6f1e52c25"
      },
      "outputs": [
        {
          "data": {
            "text/plain": [
              "                     0\n",
              "2017-05-01 00:00:00  0\n",
              "2017-05-01 01:00:00  1\n",
              "2017-05-01 02:00:00  2\n",
              "2017-05-01 03:00:00  3\n",
              "2017-05-01 04:00:00  4"
            ]
          },
          "execution_count": 26,
          "metadata": {},
          "output_type": "execute_result"
        }
      ],
      "source": [
        "# create a DataFrame using the index\n",
        "df_date_times = pd.DataFrame(np.arange(0, len(date_times)), \n",
        "                             index=date_times)\n",
        "df_date_times"
      ]
    },
    {
      "cell_type": "code",
      "execution_count": null,
      "metadata": {
        "id": "MIkXiVt1s4g2",
        "outputId": "4652a531-90ef-4092-a4ae-363bf2a2a8b7"
      },
      "outputs": [
        {
          "data": {
            "text/plain": [
              "                     0\n",
              "2017-06-01 00:00:00  0\n",
              "2017-06-01 01:00:00  1\n",
              "2017-06-01 02:00:00  2\n",
              "2017-06-01 03:00:00  3\n",
              "2017-06-01 04:00:00  4"
            ]
          },
          "execution_count": 27,
          "metadata": {},
          "output_type": "execute_result"
        }
      ],
      "source": [
        "# set the index of a DataFrame\n",
        "df_date_times.index = pd.DatetimeIndex(pd.date_range('6/1/2017', \n",
        "                                                     periods=5, \n",
        "                                                     freq='H'))\n",
        "df_date_times"
      ]
    },
    {
      "cell_type": "markdown",
      "metadata": {
        "id": "CvDpRojEs4g3"
      },
      "source": [
        "# Selecting values using an index"
      ]
    },
    {
      "cell_type": "code",
      "execution_count": null,
      "metadata": {
        "id": "ilHUky8As4g3",
        "outputId": "d1343600-4f30-4498-fa22-97742baf4cf4"
      },
      "outputs": [
        {
          "data": {
            "text/plain": [
              "a    0\n",
              "b    1\n",
              "c    2\n",
              "d    3\n",
              "e    4\n",
              "dtype: int64"
            ]
          },
          "execution_count": 28,
          "metadata": {},
          "output_type": "execute_result"
        }
      ],
      "source": [
        "# create a series\n",
        "s = pd.Series(np.arange(0, 5), index=list('abcde'))\n",
        "s"
      ]
    },
    {
      "cell_type": "code",
      "execution_count": null,
      "metadata": {
        "id": "W2mgkmkfs4g4",
        "outputId": "ccff0874-03de-4d3f-f890-bbfa9d3d05b9"
      },
      "outputs": [
        {
          "data": {
            "text/plain": [
              "1"
            ]
          },
          "execution_count": 29,
          "metadata": {},
          "output_type": "execute_result"
        }
      ],
      "source": [
        "# lookup by index label\n",
        "s['b']"
      ]
    },
    {
      "cell_type": "code",
      "execution_count": null,
      "metadata": {
        "id": "DkL4ySFSs4g4",
        "outputId": "17c3caf9-2e21-4f5a-dcd1-53a840487fab"
      },
      "outputs": [
        {
          "data": {
            "text/plain": [
              "1"
            ]
          },
          "execution_count": 30,
          "metadata": {},
          "output_type": "execute_result"
        }
      ],
      "source": [
        "# explicit lookup by label\n",
        "s.loc['b']"
      ]
    },
    {
      "cell_type": "code",
      "execution_count": null,
      "metadata": {
        "id": "HPGiXOu5s4g4",
        "outputId": "639d3f8c-3a77-4080-cd0f-74db7f73ff07"
      },
      "outputs": [
        {
          "data": {
            "text/plain": [
              "    a   b\n",
              "v  10  11\n",
              "w  12  13"
            ]
          },
          "execution_count": 31,
          "metadata": {},
          "output_type": "execute_result"
        }
      ],
      "source": [
        "# create a DataFrame with two columns\n",
        "df = pd.DataFrame([ np.arange(10, 12), \n",
        "                    np.arange(12, 14)], \n",
        "                  columns=list('ab'), \n",
        "                  index=list('vw'))\n",
        "df"
      ]
    },
    {
      "cell_type": "code",
      "execution_count": null,
      "metadata": {
        "id": "fftPh-EPs4g5",
        "outputId": "4d283cbe-1a6a-49bd-be1d-86fa644bbd29"
      },
      "outputs": [
        {
          "data": {
            "text/plain": [
              "v    10\n",
              "w    12\n",
              "Name: a, dtype: int64"
            ]
          },
          "execution_count": 32,
          "metadata": {},
          "output_type": "execute_result"
        }
      ],
      "source": [
        "# this returns the column 'a'\n",
        "df['a']"
      ]
    },
    {
      "cell_type": "code",
      "execution_count": null,
      "metadata": {
        "id": "cSxk4n9zs4g5",
        "outputId": "69781dd4-d489-4a44-85aa-49c2d5aa698f"
      },
      "outputs": [
        {
          "data": {
            "text/plain": [
              "a    12\n",
              "b    13\n",
              "Name: w, dtype: int64"
            ]
          },
          "execution_count": 33,
          "metadata": {},
          "output_type": "execute_result"
        }
      ],
      "source": [
        "# return the row 'w' by label\n",
        "df.loc['w']"
      ]
    },
    {
      "cell_type": "code",
      "execution_count": null,
      "metadata": {
        "id": "MqG4kL8Qs4g5",
        "outputId": "f830ddc6-359d-4989-c0aa-9d9b54ad6d4e"
      },
      "outputs": [
        {
          "data": {
            "text/plain": [
              "b    1\n",
              "c    2\n",
              "d    3\n",
              "dtype: int64"
            ]
          },
          "execution_count": 34,
          "metadata": {},
          "output_type": "execute_result"
        }
      ],
      "source": [
        "# slices the Series from index label b to d\n",
        "s['b':'d']"
      ]
    },
    {
      "cell_type": "code",
      "execution_count": null,
      "metadata": {
        "id": "oSVVxI5Rs4g5",
        "outputId": "f51ff3c9-778f-4124-caa0-2f6809490baa"
      },
      "outputs": [
        {
          "data": {
            "text/plain": [
              "b    1\n",
              "c    2\n",
              "d    3\n",
              "dtype: int64"
            ]
          },
          "execution_count": 35,
          "metadata": {},
          "output_type": "execute_result"
        }
      ],
      "source": [
        "# this explicitly slices from label b to d\n",
        "s.loc['b':'d']"
      ]
    },
    {
      "cell_type": "code",
      "execution_count": null,
      "metadata": {
        "id": "TYaKXyCis4g6",
        "outputId": "1776d51c-e942-4c7a-dc19-c63de3227753"
      },
      "outputs": [
        {
          "data": {
            "text/plain": [
              "a    0\n",
              "c    2\n",
              "e    4\n",
              "dtype: int64"
            ]
          },
          "execution_count": 36,
          "metadata": {},
          "output_type": "execute_result"
        }
      ],
      "source": [
        "# and this looks up rows by label\n",
        "s.loc[['a', 'c', 'e']]"
      ]
    },
    {
      "cell_type": "markdown",
      "metadata": {
        "id": "c7EKFMgZs4g6"
      },
      "source": [
        "# Moving data to and from the index "
      ]
    },
    {
      "cell_type": "code",
      "execution_count": null,
      "metadata": {
        "id": "EPCrY12ls4g6",
        "outputId": "8121359a-eb29-46e7-f8b0-e7c0101a566e"
      },
      "outputs": [
        {
          "data": {
            "text/plain": [
              "                        Sector   Price  Book Value\n",
              "Symbol                                            \n",
              "MMM                Industrials  141.14      26.668\n",
              "ABT                Health Care   39.60      15.573\n",
              "ABBV               Health Care   53.95       2.954\n",
              "ACN     Information Technology   79.79       8.326\n",
              "ACE                 Financials  102.91      86.897"
            ]
          },
          "execution_count": 37,
          "metadata": {},
          "output_type": "execute_result"
        }
      ],
      "source": [
        "# examine asome of the sp500 data\n",
        "sp500[:5]"
      ]
    },
    {
      "cell_type": "code",
      "execution_count": null,
      "metadata": {
        "id": "5vh9wEmVs4g6",
        "outputId": "fdf775cc-7928-4a85-b4da-6572b7ddba1c"
      },
      "outputs": [
        {
          "data": {
            "text/plain": [
              "  Symbol                  Sector   Price  Book Value\n",
              "0    MMM             Industrials  141.14      26.668\n",
              "1    ABT             Health Care   39.60      15.573\n",
              "2   ABBV             Health Care   53.95       2.954\n",
              "3    ACN  Information Technology   79.79       8.326\n",
              "4    ACE              Financials  102.91      86.897"
            ]
          },
          "execution_count": 38,
          "metadata": {},
          "output_type": "execute_result"
        }
      ],
      "source": [
        "# reset the index which moves the values in the index to a column\n",
        "index_moved_to_col = sp500.reset_index()\n",
        "index_moved_to_col[:5]"
      ]
    },
    {
      "cell_type": "code",
      "execution_count": null,
      "metadata": {
        "id": "6XFF3EuKs4g7",
        "outputId": "cab1895f-c1e1-42dd-91d5-04dae4e66079"
      },
      "outputs": [
        {
          "data": {
            "text/plain": [
              "                       Symbol   Price  Book Value\n",
              "Sector                                           \n",
              "Industrials               MMM  141.14      26.668\n",
              "Health Care               ABT   39.60      15.573\n",
              "Health Care              ABBV   53.95       2.954\n",
              "Information Technology    ACN   79.79       8.326\n",
              "Financials                ACE  102.91      86.897"
            ]
          },
          "execution_count": 39,
          "metadata": {},
          "output_type": "execute_result"
        }
      ],
      "source": [
        "# and now set the Sector column to be the index\n",
        "index_moved_to_col.set_index('Sector')[:5]"
      ]
    },
    {
      "cell_type": "code",
      "execution_count": null,
      "metadata": {
        "id": "2wZ-Vfq7s4g7",
        "outputId": "4c9c18a4-7918-430e-de5f-02810ea76037"
      },
      "outputs": [
        {
          "data": {
            "text/plain": [
              "             Sector   Price  Book Value\n",
              "Symbol                                 \n",
              "MMM     Industrials  141.14      26.668\n",
              "ABBV    Health Care   53.95       2.954\n",
              "FOO             NaN     NaN         NaN"
            ]
          },
          "execution_count": 40,
          "metadata": {},
          "output_type": "execute_result"
        }
      ],
      "source": [
        "# reindex to have MMM, ABBV, and FOO index labels\n",
        "reindexed = sp500.reindex(index=['MMM', 'ABBV', 'FOO'])\n",
        "# note that ABT and ACN are dropped and FOO has NaN values\n",
        "reindexed"
      ]
    },
    {
      "cell_type": "code",
      "execution_count": null,
      "metadata": {
        "id": "k5i3QAacs4g7",
        "outputId": "b9268fa5-c2cc-44ae-c8d9-75d3af0f8863"
      },
      "outputs": [
        {
          "data": {
            "text/plain": [
              "         Price  Book Value  NewCol\n",
              "Symbol                            \n",
              "MMM     141.14      26.668     NaN\n",
              "ABT      39.60      15.573     NaN\n",
              "ABBV     53.95       2.954     NaN\n",
              "ACN      79.79       8.326     NaN\n",
              "ACE     102.91      86.897     NaN"
            ]
          },
          "execution_count": 41,
          "metadata": {},
          "output_type": "execute_result"
        }
      ],
      "source": [
        "# reindex columns\n",
        "sp500.reindex(columns=['Price', \n",
        "                       'Book Value', \n",
        "                       'NewCol'])[:5]"
      ]
    },
    {
      "cell_type": "markdown",
      "metadata": {
        "id": "UpF1K8xJs4g8"
      },
      "source": [
        "# Hierarchical indexing"
      ]
    },
    {
      "cell_type": "code",
      "execution_count": null,
      "metadata": {
        "id": "f-jIaMRxs4g8",
        "outputId": "5185f91a-5567-41f5-d2f2-dd39cce5acde"
      },
      "outputs": [
        {
          "data": {
            "text/plain": [
              "                                Price  Book Value\n",
              "Sector                 Symbol                    \n",
              "Industrials            MMM     141.14      26.668\n",
              "Health Care            ABT      39.60      15.573\n",
              "                       ABBV     53.95       2.954\n",
              "Information Technology ACN      79.79       8.326\n",
              "Financials             ACE     102.91      86.897"
            ]
          },
          "execution_count": 42,
          "metadata": {},
          "output_type": "execute_result"
        }
      ],
      "source": [
        "# first, push symbol into a column\n",
        "reindexed = sp500.reset_index()\n",
        "# and now index sp500 by sector and symbol\n",
        "multi_fi = reindexed.set_index(['Sector', 'Symbol'])\n",
        "multi_fi[:5]"
      ]
    },
    {
      "cell_type": "code",
      "execution_count": null,
      "metadata": {
        "id": "FX-sVpY8s4g8",
        "outputId": "ac08de8d-e70c-4ea6-bc5a-1a9b0a74ff1e"
      },
      "outputs": [
        {
          "data": {
            "text/plain": [
              "pandas.core.indexes.multi.MultiIndex"
            ]
          },
          "execution_count": 43,
          "metadata": {},
          "output_type": "execute_result"
        }
      ],
      "source": [
        "# the index is a MultiIndex\n",
        "type(multi_fi.index)"
      ]
    },
    {
      "cell_type": "code",
      "execution_count": null,
      "metadata": {
        "id": "-lMDjE8ls4g8",
        "outputId": "d7de90e8-8d39-42e3-f12b-584f7029d713"
      },
      "outputs": [
        {
          "data": {
            "text/plain": [
              "2"
            ]
          },
          "execution_count": 44,
          "metadata": {},
          "output_type": "execute_result"
        }
      ],
      "source": [
        "# this has two levels\n",
        "len(multi_fi.index.levels)"
      ]
    },
    {
      "cell_type": "code",
      "execution_count": null,
      "metadata": {
        "id": "42UrifzQs4g9",
        "outputId": "dd70aa3e-0637-4689-db80-313b4f2a4d8e"
      },
      "outputs": [
        {
          "data": {
            "text/plain": [
              "Index(['Consumer Discretionary', 'Consumer Discretionary ',\n",
              "       'Consumer Staples', 'Consumer Staples ', 'Energy',\n",
              "       'Financials', 'Health Care', 'Industrials',\n",
              "       'Industries', 'Information Technology', 'Materials',\n",
              "       'Telecommunications Services', 'Utilities'],\n",
              "      dtype='object', name='Sector')"
            ]
          },
          "execution_count": 45,
          "metadata": {},
          "output_type": "execute_result"
        }
      ],
      "source": [
        "# each index level is an index\n",
        "multi_fi.index.levels[0]"
      ]
    },
    {
      "cell_type": "code",
      "execution_count": null,
      "metadata": {
        "id": "RVo2LXOEs4g9",
        "outputId": "1f0b88c9-7520-4972-d672-d361882cfbd3"
      },
      "outputs": [
        {
          "data": {
            "text/plain": [
              "Index(['A', 'AA', 'AAPL', 'ABBV', 'ABC', 'ABT', 'ACE',\n",
              "       'ACN', 'ACT', 'ADBE',\n",
              "       ...\n",
              "       'XLNX', 'XOM', 'XRAY', 'XRX', 'XYL', 'YHOO', 'YUM',\n",
              "       'ZION', 'ZMH', 'ZTS'],\n",
              "      dtype='object', name='Symbol', length=500)"
            ]
          },
          "execution_count": 46,
          "metadata": {},
          "output_type": "execute_result"
        }
      ],
      "source": [
        "# each index level is an index\n",
        "multi_fi.index.levels[1]"
      ]
    },
    {
      "cell_type": "code",
      "execution_count": null,
      "metadata": {
        "id": "izqgSoGqs4g9",
        "outputId": "5bd2d6c8-2767-479c-8222-cc867f73bc12"
      },
      "outputs": [
        {
          "data": {
            "text/plain": [
              "Index(['Industrials', 'Health Care', 'Health Care',\n",
              "       'Information Technology', 'Financials',\n",
              "       'Health Care', 'Information Technology',\n",
              "       'Utilities', 'Health Care', 'Financials',\n",
              "       ...\n",
              "       'Utilities', 'Information Technology',\n",
              "       'Information Technology', 'Financials',\n",
              "       'Industrials', 'Information Technology',\n",
              "       'Consumer Discretionary', 'Health Care',\n",
              "       'Financials', 'Health Care'],\n",
              "      dtype='object', name='Sector', length=500)"
            ]
          },
          "execution_count": 47,
          "metadata": {},
          "output_type": "execute_result"
        }
      ],
      "source": [
        "# values of index level 0\n",
        "multi_fi.index.get_level_values(0)"
      ]
    },
    {
      "cell_type": "code",
      "execution_count": null,
      "metadata": {
        "id": "9HKMRfd8s4g-",
        "outputId": "b49517fc-d322-427f-8901-9da9cb6c3cb9"
      },
      "outputs": [
        {
          "data": {
            "text/plain": [
              "         Price  Book Value\n",
              "Symbol                    \n",
              "MMM     141.14      26.668\n",
              "ALLE     52.46       0.000\n",
              "APH      95.71      18.315\n",
              "AVY      48.20      15.616\n",
              "BA      132.41      19.870"
            ]
          },
          "execution_count": 48,
          "metadata": {},
          "output_type": "execute_result"
        }
      ],
      "source": [
        "# get all stocks that are Industrials\n",
        "# note the result drops level 0 of the index\n",
        "multi_fi.xs('Industrials')[:5]"
      ]
    },
    {
      "cell_type": "code",
      "execution_count": null,
      "metadata": {
        "id": "UHHhwOtas4g-",
        "outputId": "28ec0975-4a65-401b-a29f-a0e3d96ccab0"
      },
      "outputs": [
        {
          "data": {
            "text/plain": [
              "             Price  Book Value\n",
              "Sector                        \n",
              "Industrials  52.46         0.0"
            ]
          },
          "execution_count": 49,
          "metadata": {},
          "output_type": "execute_result"
        }
      ],
      "source": [
        "# select rows where level 1 (Symbol) is ALLE\n",
        "# note that the Sector level is dropped from the result\n",
        "multi_fi.xs('ALLE', level=1)"
      ]
    },
    {
      "cell_type": "code",
      "execution_count": null,
      "metadata": {
        "id": "AfCWFHnRs4g-",
        "outputId": "a1b8c46d-384c-4997-e705-c504cc507156"
      },
      "outputs": [
        {
          "data": {
            "text/plain": [
              "                     Price  Book Value\n",
              "Sector      Symbol                    \n",
              "Industrials MMM     141.14      26.668\n",
              "            ALLE     52.46       0.000\n",
              "            APH      95.71      18.315\n",
              "            AVY      48.20      15.616\n",
              "            BA      132.41      19.870"
            ]
          },
          "execution_count": 50,
          "metadata": {},
          "output_type": "execute_result"
        }
      ],
      "source": [
        "# Industrials, without dropping the level\n",
        "multi_fi.xs('Industrials', drop_level=False)[:5]"
      ]
    },
    {
      "cell_type": "code",
      "execution_count": null,
      "metadata": {
        "id": "ydpJSVFUs4g-",
        "outputId": "95ea0886-0d20-4fc5-c3ca-6c1879c96a97"
      },
      "outputs": [
        {
          "data": {
            "text/plain": [
              "Price         102.73\n",
              "Book Value      6.79\n",
              "Name: UPS, dtype: float64"
            ]
          },
          "execution_count": 51,
          "metadata": {},
          "output_type": "execute_result"
        }
      ],
      "source": [
        "# drill through the levels\n",
        "multi_fi.xs('Industrials').xs('UPS')"
      ]
    },
    {
      "cell_type": "code",
      "execution_count": null,
      "metadata": {
        "id": "PWSr1yi9s4g_",
        "outputId": "25f77fc1-38fa-4b50-cc11-a9251bfaf96a"
      },
      "outputs": [
        {
          "data": {
            "text/plain": [
              "Price         102.73\n",
              "Book Value      6.79\n",
              "Name: (Industrials, UPS), dtype: float64"
            ]
          },
          "execution_count": 52,
          "metadata": {},
          "output_type": "execute_result"
        }
      ],
      "source": [
        "# drill through using tuples\n",
        "multi_fi.xs(('Industrials', 'UPS'))"
      ]
    }
  ],
  "metadata": {
    "anaconda-cloud": {},
    "kernelspec": {
      "display_name": "Python 3",
      "language": "python",
      "name": "python3"
    },
    "language_info": {
      "codemirror_mode": {
        "name": "ipython",
        "version": 3
      },
      "file_extension": ".py",
      "mimetype": "text/x-python",
      "name": "python",
      "nbconvert_exporter": "python",
      "pygments_lexer": "ipython3",
      "version": "3.6.1"
    },
    "colab": {
      "name": "AIDL220325.ipynb",
      "provenance": [],
      "collapsed_sections": [
        "CvDpRojEs4g3",
        "c7EKFMgZs4g6",
        "UpF1K8xJs4g8"
      ],
      "include_colab_link": true
    }
  },
  "nbformat": 4,
  "nbformat_minor": 0
}